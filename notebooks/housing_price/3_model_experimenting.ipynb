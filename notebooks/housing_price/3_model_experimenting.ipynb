{
 "cells": [
  {
   "cell_type": "markdown",
   "metadata": {},
   "source": [
    "# Purpose"
   ]
  },
  {
   "cell_type": "markdown",
   "metadata": {},
   "source": [
    "This notebook demonstrates the model experimentation and finalization. It covers EDA, outlier treatment, transformation, training, model evaluation and comparison across models."
   ]
  },
  {
   "cell_type": "markdown",
   "metadata": {},
   "source": [
    "## Imports"
   ]
  },
  {
   "cell_type": "code",
   "execution_count": 1,
   "metadata": {},
   "outputs": [],
   "source": [
    "import os\n",
    "import os.path as op\n",
    "import shutil\n",
    "\n",
    "# standard third party imports\n",
    "import numpy as np\n",
    "import pandas as pd\n",
    "from matplotlib import pyplot as plt\n",
    "from sklearn.pipeline import Pipeline\n",
    "from sklearn.feature_selection import SelectFromModel\n",
    "from sklearn.model_selection import GridSearchCV\n",
    "from sklearn.preprocessing import FunctionTransformer\n",
    "from sklearn.compose import ColumnTransformer\n",
    "\n",
    "# impute missing values\n",
    "from sklearn.experimental import enable_iterative_imputer  # noqa\n",
    "from sklearn.impute import KNNImputer, IterativeImputer, SimpleImputer\n",
    "from sklearn.tree import DecisionTreeRegressor\n",
    "from sklearn.preprocessing import OneHotEncoder, StandardScaler\n"
   ]
  },
  {
   "cell_type": "code",
   "execution_count": 2,
   "metadata": {},
   "outputs": [],
   "source": [
    "%load_ext autoreload\n",
    "%autoreload 2"
   ]
  },
  {
   "cell_type": "code",
   "execution_count": 3,
   "metadata": {},
   "outputs": [],
   "source": [
    "import warnings\n",
    "\n",
    "warnings.filterwarnings('ignore', message=\"pandas.Int64Index is deprecated and will be removed from pandas in a future version. Use pandas.Index with the appropriate dtype instead.\",\n",
    "                        category=FutureWarning)\n",
    "warnings.filterwarnings('ignore', message=\"pandas.Float64Index is deprecated and will be removed from pandas in a future version. Use pandas.Index with the appropriate dtype instead.\",\n",
    "                        category=FutureWarning)"
   ]
  },
  {
   "cell_type": "code",
   "execution_count": null,
   "metadata": {
    "scrolled": true
   },
   "outputs": [],
   "source": [
    "# standard code-template imports\n",
    "from ta_lib.core.api import (\n",
    "    create_context, get_dataframe, get_feature_names_from_column_transformer, string_cleaning,\n",
    "    get_package_path, display_as_tabs, save_pipeline, load_pipeline, initialize_environment,\n",
    "    load_dataset, save_dataset, DEFAULT_ARTIFACTS_PATH\n",
    ")\n",
    "\n",
    "import ta_lib.eda.api as eda\n",
    "from xgboost import XGBRegressor\n",
    "from ta_lib.regression.api import SKLStatsmodelOLS\n",
    "from ta_lib.regression.api import RegressionComparison, RegressionReport\n",
    "import ta_lib.reports.api as reports\n",
    "from ta_lib.data_processing.api import Outlier\n",
    "\n",
    "initialize_environment(debug=False, hide_warnings=True)"
   ]
  },
  {
   "cell_type": "markdown",
   "metadata": {},
   "source": [
    "# Initialization"
   ]
  },
  {
   "cell_type": "code",
   "execution_count": 5,
   "metadata": {},
   "outputs": [],
   "source": [
    "artifacts_folder = DEFAULT_ARTIFACTS_PATH"
   ]
  },
  {
   "cell_type": "code",
   "execution_count": 6,
   "metadata": {},
   "outputs": [],
   "source": [
    "config_path = op.join('conf', 'config.yml')\n",
    "context = create_context(config_path)"
   ]
  },
  {
   "cell_type": "markdown",
   "metadata": {},
   "source": [
    "# 3 Feature Engineering\n",
    "\n",
    "The focus here is the `Pipeline` and not the model. Though the model would inform the pipeline that is needed to train the model, our focus is to set it up in such a way that it can be saved/loaded, tweaked for different model choices and so on."
   ]
  },
  {
   "cell_type": "markdown",
   "metadata": {},
   "source": [
    "## 3.1 Read the Train and Test Data"
   ]
  },
  {
   "cell_type": "code",
   "execution_count": 7,
   "metadata": {},
   "outputs": [
    {
     "name": "stdout",
     "output_type": "stream",
     "text": [
      "(16512, 12) (16512, 1)\n",
      "(4128, 12) (4128, 1)\n"
     ]
    }
   ],
   "source": [
    "train_X = load_dataset(context, 'train/housing/features')\n",
    "train_y = load_dataset(context, 'train/housing/target')\n",
    "print(train_X.shape, train_y.shape)\n",
    "\n",
    "test_X = load_dataset(context, 'test/housing/features')\n",
    "test_y = load_dataset(context, 'test/housing/target')\n",
    "print(test_X.shape, test_y.shape)"
   ]
  },
  {
   "cell_type": "markdown",
   "metadata": {},
   "source": [
    "## 3.2 Feature Engineering Pipelines\n"
   ]
  },
  {
   "cell_type": "markdown",
   "metadata": {},
   "source": [
    "**Dev NOTES**\n",
    "\n",
    "For Feature Engineering and Model Building sklearn.pipeline.Pipeline are leveraged because of the following advantages\n",
    "<details>\n",
    "    \n",
    "1. It helps in automating workflows and are easier to read and comprehend.\n",
    "2. Right Sequence can be ensured and (for example always encodes before imputing)\n",
    "3. Reproducibility is very convenient with pipelines\n",
    "4. Pipelines help you prevent data leakage in your test data\n",
    "5. Code is near implementation ready"
   ]
  },
  {
   "cell_type": "markdown",
   "metadata": {},
   "source": [
    "#### General Steps in the Feature Transformation are as follows\n",
    " - Outlier Treatment\n",
    " - Encoding of Categorical Columns\n",
    " - Missing Values Imputation"
   ]
  },
  {
   "cell_type": "code",
   "execution_count": 8,
   "metadata": {},
   "outputs": [],
   "source": [
    "# collecting different types of columns for transformations\n",
    "cat_columns = train_X.select_dtypes('object').columns\n",
    "num_columns = train_X.select_dtypes('number').columns"
   ]
  },
  {
   "cell_type": "markdown",
   "metadata": {},
   "source": [
    "#### Outlier Handling\n",
    "- A Custom Transformer is used to handle outliers. It is not included as part of the pipeline as outliers handling are optional for test data\n",
    "- An option to either drop or cap the outliers can be passed during the transform call\n",
    "- If we want to treat outliers for some columns them we can pass cols argument to the Transformer\n",
    "- This will go into production code"
   ]
  },
  {
   "cell_type": "code",
   "execution_count": 9,
   "metadata": {},
   "outputs": [
    {
     "name": "stdout",
     "output_type": "stream",
     "text": [
      "(16512, 12)\n",
      "(16512, 12)\n"
     ]
    }
   ],
   "source": [
    "outlier_transformer = Outlier(method='mean')\n",
    "print(train_X.shape)\n",
    "train_X = outlier_transformer.fit_transform(train_X)\n",
    "print(train_X.shape)"
   ]
  },
  {
   "cell_type": "markdown",
   "metadata": {},
   "source": [
    "#### Encoding\n"
   ]
  },
  {
   "cell_type": "markdown",
   "metadata": {},
   "source": [
    "Some sample pipelines showcasing how to create column specific pipelines and integrating them overall is presented below\n",
    "\n",
    "- Commonly target encoding is done for categorical variables with too many levels.\n",
    "- We also group sparse levels. For fewer levels one hot encoding/label encoding is preferred.\n",
    "- If there is one dominant level, we can use binary encoding.\n",
    "- This will go into production code"
   ]
  },
  {
   "cell_type": "code",
   "execution_count": 10,
   "metadata": {},
   "outputs": [],
   "source": [
    "oh_enc_simple_impt = Pipeline([\n",
    "    ('one_hot_encoding', OneHotEncoder()),\n",
    "    ('simple_impute', SimpleImputer(strategy='most_frequent')),\n",
    "])\n",
    "\n",
    "\n",
    "simple_impute_std_scale = Pipeline(\n",
    "    [\n",
    "        ('simple_impute', SimpleImputer(strategy='median')),\n",
    "        ('standard_scalar', StandardScaler())\n",
    "    ]\n",
    ")\n",
    "\n",
    "# NOTE: the list of transformations here are not sequential but weighted\n",
    "# (if multiple transforms are specified for a particular column)\n",
    "# for sequential transforms use a pipeline as shown above.\n",
    "features_transformer = ColumnTransformer([\n",
    "\n",
    "    ## categorical columns\n",
    "    ('oh_enc_simple_imputer', oh_enc_simple_impt, list(set(cat_columns))),\n",
    "\n",
    "    ## numeric columns\n",
    "    ('simple_impute_std_scale', simple_impute_std_scale, num_columns),\n",
    "\n",
    "])\n"
   ]
  },
  {
   "cell_type": "markdown",
   "metadata": {},
   "source": [
    "**Dev notes(Encoding):**\n",
    "<details>\n",
    "\n",
    "    Some common practices followed in Categorical Feature Encoding are\n",
    "    * For categorical variables with too many levels, target encoding can be done.\n",
    "    * For fewer levels, one hot encoding can be done.\n",
    "    * If one very dominant level is observed, binary encoding can be used.\n",
    "    \n",
    "    \n",
    "</details>"
   ]
  },
  {
   "cell_type": "markdown",
   "metadata": {},
   "source": [
    "## 3.2 Feature analysis\n",
    "\n",
    "Using the pipeline above analyze the features and decide on additional features to add/remove from the pipeline. This section will not be part of the production code, unless input data drifts etc. are explicitly demanded in the project.\n",
    "\n",
    "Here we are primarily focused on feature selection/elimination based on business rules, prior knowledge, data analysis.\n",
    "\n",
    "**We are not building any models at this point.**\n"
   ]
  },
  {
   "cell_type": "markdown",
   "metadata": {},
   "source": [
    "- we create some sample data to analyze that we assume represent the population\n",
    "- train the features transformer and do the analysis as below"
   ]
  },
  {
   "cell_type": "code",
   "execution_count": 11,
   "metadata": {},
   "outputs": [],
   "source": [
    "sample_X = train_X.sample(frac=0.1, random_state=context.random_seed)\n",
    "sample_y = train_y.loc[sample_X.index]\n",
    "\n",
    "sample_train_X = get_dataframe(\n",
    "    features_transformer.fit_transform(sample_X, sample_y),\n",
    "    list(features_transformer.transformers_[0][1][0].get_feature_names_out()) + list(num_columns)\n",
    ")\n",
    "\n",
    "# nothing to do for target\n",
    "sample_train_y = sample_y"
   ]
  },
  {
   "cell_type": "markdown",
   "metadata": {},
   "source": [
    "Running the features transformer on the complete data"
   ]
  },
  {
   "cell_type": "code",
   "execution_count": 12,
   "metadata": {},
   "outputs": [],
   "source": [
    "train_X = get_dataframe(\n",
    "    features_transformer.fit_transform(train_X, train_y),\n",
    "    list(features_transformer.transformers_[0][1][0].get_feature_names_out()) + list(num_columns)\n",
    ")"
   ]
  },
  {
   "cell_type": "code",
   "execution_count": 13,
   "metadata": {},
   "outputs": [
    {
     "data": {
      "text/html": [
       "<div>\n",
       "<style scoped>\n",
       "    .dataframe tbody tr th:only-of-type {\n",
       "        vertical-align: middle;\n",
       "    }\n",
       "\n",
       "    .dataframe tbody tr th {\n",
       "        vertical-align: top;\n",
       "    }\n",
       "\n",
       "    .dataframe thead th {\n",
       "        text-align: right;\n",
       "    }\n",
       "</style>\n",
       "<table border=\"1\" class=\"dataframe\">\n",
       "  <thead>\n",
       "    <tr style=\"text-align: right;\">\n",
       "      <th></th>\n",
       "      <th>0</th>\n",
       "      <th>1</th>\n",
       "      <th>2</th>\n",
       "      <th>3</th>\n",
       "      <th>4</th>\n",
       "    </tr>\n",
       "  </thead>\n",
       "  <tbody>\n",
       "    <tr>\n",
       "      <th>ocean_proximity_&lt;1H OCEAN</th>\n",
       "      <td>1.000000</td>\n",
       "      <td>1.000000</td>\n",
       "      <td>0.000000</td>\n",
       "      <td>0.000000</td>\n",
       "      <td>0.000000</td>\n",
       "    </tr>\n",
       "    <tr>\n",
       "      <th>ocean_proximity_INLAND</th>\n",
       "      <td>0.000000</td>\n",
       "      <td>0.000000</td>\n",
       "      <td>0.000000</td>\n",
       "      <td>1.000000</td>\n",
       "      <td>1.000000</td>\n",
       "    </tr>\n",
       "    <tr>\n",
       "      <th>ocean_proximity_ISLAND</th>\n",
       "      <td>0.000000</td>\n",
       "      <td>0.000000</td>\n",
       "      <td>0.000000</td>\n",
       "      <td>0.000000</td>\n",
       "      <td>0.000000</td>\n",
       "    </tr>\n",
       "    <tr>\n",
       "      <th>ocean_proximity_NEAR BAY</th>\n",
       "      <td>0.000000</td>\n",
       "      <td>0.000000</td>\n",
       "      <td>1.000000</td>\n",
       "      <td>0.000000</td>\n",
       "      <td>0.000000</td>\n",
       "    </tr>\n",
       "    <tr>\n",
       "      <th>ocean_proximity_NEAR OCEAN</th>\n",
       "      <td>0.000000</td>\n",
       "      <td>0.000000</td>\n",
       "      <td>0.000000</td>\n",
       "      <td>0.000000</td>\n",
       "      <td>0.000000</td>\n",
       "    </tr>\n",
       "    <tr>\n",
       "      <th>longitude</th>\n",
       "      <td>-1.650449</td>\n",
       "      <td>0.610133</td>\n",
       "      <td>-1.425888</td>\n",
       "      <td>0.240854</td>\n",
       "      <td>-1.026668</td>\n",
       "    </tr>\n",
       "    <tr>\n",
       "      <th>latitude</th>\n",
       "      <td>1.336628</td>\n",
       "      <td>-0.749932</td>\n",
       "      <td>1.013819</td>\n",
       "      <td>-0.141742</td>\n",
       "      <td>2.880494</td>\n",
       "    </tr>\n",
       "    <tr>\n",
       "      <th>housing_median_age</th>\n",
       "      <td>-0.128215</td>\n",
       "      <td>1.624665</td>\n",
       "      <td>1.863694</td>\n",
       "      <td>-1.642065</td>\n",
       "      <td>0.907578</td>\n",
       "    </tr>\n",
       "    <tr>\n",
       "      <th>total_rooms</th>\n",
       "      <td>0.771483</td>\n",
       "      <td>-0.546425</td>\n",
       "      <td>0.465798</td>\n",
       "      <td>3.790882</td>\n",
       "      <td>0.412735</td>\n",
       "    </tr>\n",
       "    <tr>\n",
       "      <th>total_bedrooms</th>\n",
       "      <td>0.731054</td>\n",
       "      <td>-0.439148</td>\n",
       "      <td>1.667216</td>\n",
       "      <td>3.672745</td>\n",
       "      <td>0.404554</td>\n",
       "    </tr>\n",
       "    <tr>\n",
       "      <th>population</th>\n",
       "      <td>0.476176</td>\n",
       "      <td>-0.537912</td>\n",
       "      <td>0.779536</td>\n",
       "      <td>3.741558</td>\n",
       "      <td>0.080725</td>\n",
       "    </tr>\n",
       "    <tr>\n",
       "      <th>households</th>\n",
       "      <td>0.714983</td>\n",
       "      <td>-0.309735</td>\n",
       "      <td>1.752274</td>\n",
       "      <td>3.622509</td>\n",
       "      <td>0.205767</td>\n",
       "    </tr>\n",
       "    <tr>\n",
       "      <th>median_income</th>\n",
       "      <td>-0.186275</td>\n",
       "      <td>-0.751947</td>\n",
       "      <td>-0.969181</td>\n",
       "      <td>0.664143</td>\n",
       "      <td>-1.166189</td>\n",
       "    </tr>\n",
       "    <tr>\n",
       "      <th>rooms_per_household</th>\n",
       "      <td>0.071477</td>\n",
       "      <td>-0.858892</td>\n",
       "      <td>-1.510273</td>\n",
       "      <td>0.129676</td>\n",
       "      <td>0.405768</td>\n",
       "    </tr>\n",
       "    <tr>\n",
       "      <th>population_per_household</th>\n",
       "      <td>-0.350855</td>\n",
       "      <td>-0.583863</td>\n",
       "      <td>-0.837926</td>\n",
       "      <td>-0.215725</td>\n",
       "      <td>-0.269346</td>\n",
       "    </tr>\n",
       "    <tr>\n",
       "      <th>bedrooms_per_room</th>\n",
       "      <td>-0.242420</td>\n",
       "      <td>0.360366</td>\n",
       "      <td>2.217308</td>\n",
       "      <td>-0.528531</td>\n",
       "      <td>-0.177948</td>\n",
       "    </tr>\n",
       "  </tbody>\n",
       "</table>\n",
       "</div>"
      ],
      "text/plain": [
       "                                   0         1         2         3         4\n",
       "ocean_proximity_<1H OCEAN   1.000000  1.000000  0.000000  0.000000  0.000000\n",
       "ocean_proximity_INLAND      0.000000  0.000000  0.000000  1.000000  1.000000\n",
       "ocean_proximity_ISLAND      0.000000  0.000000  0.000000  0.000000  0.000000\n",
       "ocean_proximity_NEAR BAY    0.000000  0.000000  1.000000  0.000000  0.000000\n",
       "ocean_proximity_NEAR OCEAN  0.000000  0.000000  0.000000  0.000000  0.000000\n",
       "longitude                  -1.650449  0.610133 -1.425888  0.240854 -1.026668\n",
       "latitude                    1.336628 -0.749932  1.013819 -0.141742  2.880494\n",
       "housing_median_age         -0.128215  1.624665  1.863694 -1.642065  0.907578\n",
       "total_rooms                 0.771483 -0.546425  0.465798  3.790882  0.412735\n",
       "total_bedrooms              0.731054 -0.439148  1.667216  3.672745  0.404554\n",
       "population                  0.476176 -0.537912  0.779536  3.741558  0.080725\n",
       "households                  0.714983 -0.309735  1.752274  3.622509  0.205767\n",
       "median_income              -0.186275 -0.751947 -0.969181  0.664143 -1.166189\n",
       "rooms_per_household         0.071477 -0.858892 -1.510273  0.129676  0.405768\n",
       "population_per_household   -0.350855 -0.583863 -0.837926 -0.215725 -0.269346\n",
       "bedrooms_per_room          -0.242420  0.360366  2.217308 -0.528531 -0.177948"
      ]
     },
     "execution_count": 13,
     "metadata": {},
     "output_type": "execute_result"
    }
   ],
   "source": [
    "train_X.head().T"
   ]
  },
  {
   "cell_type": "code",
   "execution_count": 14,
   "metadata": {},
   "outputs": [],
   "source": [
    "train_X.rename(columns={'ocean_proximity_<1H OCEAN':'ocean_proximity_1H OCEAN'}, inplace=True)"
   ]
  },
  {
   "cell_type": "markdown",
   "metadata": {},
   "source": [
    "### 3.2.1 Univariate\n",
    "\n",
    "\n",
    "- Look at each variable independently. This is useful if your models have assumptions on the distribution and/or bounds on the features/target"
   ]
  },
  {
   "cell_type": "code",
   "execution_count": 15,
   "metadata": {},
   "outputs": [
    {
     "data": {},
     "metadata": {},
     "output_type": "display_data"
    },
    {
     "data": {
      "application/vnd.holoviews_exec.v0+json": "",
      "text/html": [
       "<div id='1002'>\n",
       "  <div class=\"bk-root\" id=\"af70a211-597e-4049-9d3b-81a17a37f020\" data-root-id=\"1002\"></div>\n",
       "</div>\n",
       "<script type=\"application/javascript\">(function(root) {\n",
       "  function embed_document(root) {\n",
       "    var docs_json = {\"f6567028-7713-44c9-8ac1-7598c9933964\":{\"defs\":[{\"extends\":null,\"module\":null,\"name\":\"ReactiveHTML1\",\"overrides\":[],\"properties\":[]},{\"extends\":null,\"module\":null,\"name\":\"FlexBox1\",\"overrides\":[],\"properties\":[{\"default\":\"flex-start\",\"kind\":null,\"name\":\"align_content\"},{\"default\":\"flex-start\",\"kind\":null,\"name\":\"align_items\"},{\"default\":\"row\",\"kind\":null,\"name\":\"flex_direction\"},{\"default\":\"wrap\",\"kind\":null,\"name\":\"flex_wrap\"},{\"default\":\"flex-start\",\"kind\":null,\"name\":\"justify_content\"}]},{\"extends\":null,\"module\":null,\"name\":\"GridStack1\",\"overrides\":[],\"properties\":[{\"default\":\"warn\",\"kind\":null,\"name\":\"mode\"},{\"default\":null,\"kind\":null,\"name\":\"ncols\"},{\"default\":null,\"kind\":null,\"name\":\"nrows\"},{\"default\":true,\"kind\":null,\"name\":\"allow_resize\"},{\"default\":true,\"kind\":null,\"name\":\"allow_drag\"},{\"default\":[],\"kind\":null,\"name\":\"state\"}]},{\"extends\":null,\"module\":null,\"name\":\"click1\",\"overrides\":[],\"properties\":[{\"default\":\"\",\"kind\":null,\"name\":\"terminal_output\"},{\"default\":\"\",\"kind\":null,\"name\":\"debug_name\"},{\"default\":0,\"kind\":null,\"name\":\"clears\"}]},{\"extends\":null,\"module\":null,\"name\":\"NotificationAreaBase1\",\"overrides\":[],\"properties\":[{\"default\":\"bottom-right\",\"kind\":null,\"name\":\"position\"},{\"default\":0,\"kind\":null,\"name\":\"_clear\"}]},{\"extends\":null,\"module\":null,\"name\":\"NotificationArea1\",\"overrides\":[],\"properties\":[{\"default\":[],\"kind\":null,\"name\":\"notifications\"},{\"default\":\"bottom-right\",\"kind\":null,\"name\":\"position\"},{\"default\":0,\"kind\":null,\"name\":\"_clear\"},{\"default\":[{\"background\":\"#ffc107\",\"icon\":{\"className\":\"fas fa-exclamation-triangle\",\"color\":\"white\",\"tagName\":\"i\"},\"type\":\"warning\"},{\"background\":\"#007bff\",\"icon\":{\"className\":\"fas fa-info-circle\",\"color\":\"white\",\"tagName\":\"i\"},\"type\":\"info\"}],\"kind\":null,\"name\":\"types\"}]},{\"extends\":null,\"module\":null,\"name\":\"Notification\",\"overrides\":[],\"properties\":[{\"default\":null,\"kind\":null,\"name\":\"background\"},{\"default\":3000,\"kind\":null,\"name\":\"duration\"},{\"default\":null,\"kind\":null,\"name\":\"icon\"},{\"default\":\"\",\"kind\":null,\"name\":\"message\"},{\"default\":null,\"kind\":null,\"name\":\"notification_type\"},{\"default\":false,\"kind\":null,\"name\":\"_destroyed\"}]},{\"extends\":null,\"module\":null,\"name\":\"TemplateActions1\",\"overrides\":[],\"properties\":[{\"default\":0,\"kind\":null,\"name\":\"open_modal\"},{\"default\":0,\"kind\":null,\"name\":\"close_modal\"}]},{\"extends\":null,\"module\":null,\"name\":\"MaterialTemplateActions1\",\"overrides\":[],\"properties\":[{\"default\":0,\"kind\":null,\"name\":\"open_modal\"},{\"default\":0,\"kind\":null,\"name\":\"close_modal\"}]}],\"roots\":{\"references\":[{\"attributes\":{},\"id\":\"1012\",\"type\":\"LinearScale\"},{\"attributes\":{\"callback\":null,\"renderers\":[{\"id\":\"1058\"}],\"tags\":[\"hv_created\"],\"tooltips\":[[\"median_income\",\"@{median_income}\"],[\"Density\",\"@{median_income_density}\"]]},\"id\":\"1006\",\"type\":\"HoverTool\"},{\"attributes\":{\"coordinates\":null,\"data_source\":{\"id\":\"1043\"},\"glyph\":{\"id\":\"1046\"},\"group\":null,\"hover_glyph\":null,\"muted_glyph\":{\"id\":\"1048\"},\"nonselection_glyph\":{\"id\":\"1047\"},\"selection_glyph\":{\"id\":\"1051\"},\"view\":{\"id\":\"1050\"}},\"id\":\"1049\",\"type\":\"GlyphRenderer\"},{\"attributes\":{},\"id\":\"1229\",\"type\":\"UnionRenderers\"},{\"attributes\":{\"coordinates\":null,\"group\":null,\"text\":\"Density Plot for median_income\",\"text_color\":\"black\",\"text_font_size\":\"12pt\"},\"id\":\"1008\",\"type\":\"Title\"},{\"attributes\":{\"data\":{\"A_25_percent\":{\"__ndarray__\":\"XI/C9Shc578=\",\"dtype\":\"float64\",\"order\":\"little\",\"shape\":[1]},\"A_50_percent\":{\"__ndarray__\":\"w/UoXI/Cxb8=\",\"dtype\":\"float64\",\"order\":\"little\",\"shape\":[1]},\"A_75_percent\":{\"__ndarray__\":\"pHA9Ctej4D8=\",\"dtype\":\"float64\",\"order\":\"little\",\"shape\":[1]},\"count\":{\"__ndarray__\":\"AAAAAAAg0EA=\",\"dtype\":\"float64\",\"order\":\"little\",\"shape\":[1]},\"max\":{\"__ndarray__\":\"KVyPwvUoCkA=\",\"dtype\":\"float64\",\"order\":\"little\",\"shape\":[1]},\"mean\":{\"__ndarray__\":\"AAAAAAAAAIA=\",\"dtype\":\"float64\",\"order\":\"little\",\"shape\":[1]},\"min\":{\"__ndarray__\":\"ZmZmZmZm/r8=\",\"dtype\":\"float64\",\"order\":\"little\",\"shape\":[1]},\"std\":{\"__ndarray__\":\"AAAAAAAA8D8=\",\"dtype\":\"float64\",\"order\":\"little\",\"shape\":[1]}},\"selected\":{\"id\":\"1169\"},\"selection_policy\":{\"id\":\"1229\"}},\"id\":\"1168\",\"type\":\"ColumnDataSource\"},{\"attributes\":{\"bottom\":{\"value\":0},\"fill_alpha\":{\"value\":0.2},\"fill_color\":{\"value\":\"#00fff0\"},\"hatch_alpha\":{\"value\":0.2},\"hatch_color\":{\"value\":\"#00fff0\"},\"left\":{\"field\":\"left\"},\"line_alpha\":{\"value\":0.2},\"right\":{\"field\":\"right\"},\"top\":{\"field\":\"top\"}},\"id\":\"1048\",\"type\":\"Quad\"},{\"attributes\":{\"axis\":{\"id\":\"1016\"},\"coordinates\":null,\"grid_line_color\":null,\"group\":null,\"ticker\":null},\"id\":\"1019\",\"type\":\"Grid\"},{\"attributes\":{},\"id\":\"1017\",\"type\":\"BasicTicker\"},{\"attributes\":{\"axis_label\":\"median_income\",\"coordinates\":null,\"formatter\":{\"id\":\"1038\"},\"group\":null,\"major_label_policy\":{\"id\":\"1039\"},\"ticker\":{\"id\":\"1017\"}},\"id\":\"1016\",\"type\":\"LinearAxis\"},{\"attributes\":{},\"id\":\"1014\",\"type\":\"LinearScale\"},{\"attributes\":{},\"id\":\"1039\",\"type\":\"AllLabels\"},{\"attributes\":{\"axis_label\":\"Frequency\",\"coordinates\":null,\"formatter\":{\"id\":\"1041\"},\"group\":null,\"major_label_policy\":{\"id\":\"1042\"},\"ticker\":{\"id\":\"1021\"}},\"id\":\"1020\",\"type\":\"LinearAxis\"},{\"attributes\":{\"bottom\":{\"value\":0},\"fill_alpha\":{\"value\":1.0},\"fill_color\":{\"value\":\"#00fff0\"},\"hatch_alpha\":{\"value\":1.0},\"hatch_color\":{\"value\":\"#00fff0\"},\"hatch_scale\":{\"value\":12.0},\"hatch_weight\":{\"value\":1.0},\"left\":{\"field\":\"left\"},\"line_alpha\":{\"value\":1.0},\"line_cap\":{\"value\":\"butt\"},\"line_color\":{\"value\":\"black\"},\"line_dash\":{\"value\":[]},\"line_dash_offset\":{\"value\":0},\"line_join\":{\"value\":\"bevel\"},\"line_width\":{\"value\":1},\"right\":{\"field\":\"right\"},\"top\":{\"field\":\"top\"}},\"id\":\"1051\",\"type\":\"Quad\"},{\"attributes\":{},\"id\":\"1021\",\"type\":\"BasicTicker\"},{\"attributes\":{},\"id\":\"1169\",\"type\":\"Selection\"},{\"attributes\":{\"axis\":{\"id\":\"1020\"},\"coordinates\":null,\"dimension\":1,\"grid_line_color\":null,\"group\":null,\"ticker\":null},\"id\":\"1023\",\"type\":\"Grid\"},{\"attributes\":{},\"id\":\"1024\",\"type\":\"SaveTool\"},{\"attributes\":{\"fill_alpha\":0.5,\"fill_color\":\"#30a2da\",\"hatch_color\":\"#30a2da\",\"x\":{\"field\":\"x\"},\"y\":{\"field\":\"y\"}},\"id\":\"1060\",\"type\":\"Patch\"},{\"attributes\":{\"bottom_units\":\"screen\",\"coordinates\":null,\"fill_alpha\":0.5,\"fill_color\":\"lightgrey\",\"group\":null,\"left_units\":\"screen\",\"level\":\"overlay\",\"line_alpha\":1.0,\"line_color\":\"black\",\"line_dash\":[4,4],\"line_width\":2,\"right_units\":\"screen\",\"syncable\":false,\"top_units\":\"screen\"},\"id\":\"1029\",\"type\":\"BoxAnnotation\"},{\"attributes\":{},\"id\":\"1025\",\"type\":\"PanTool\"},{\"attributes\":{},\"id\":\"1026\",\"type\":\"WheelZoomTool\"},{\"attributes\":{},\"id\":\"1068\",\"type\":\"BasicTickFormatter\"},{\"attributes\":{\"overlay\":{\"id\":\"1029\"}},\"id\":\"1027\",\"type\":\"BoxZoomTool\"},{\"attributes\":{\"margin\":[5,5,5,5],\"name\":\"HSpacer03314\",\"sizing_mode\":\"stretch_width\"},\"id\":\"1003\",\"type\":\"Spacer\"},{\"attributes\":{},\"id\":\"1067\",\"type\":\"BasicTicker\"},{\"attributes\":{},\"id\":\"1028\",\"type\":\"ResetTool\"},{\"attributes\":{\"margin\":[5,5,5,5],\"name\":\"HSpacer03315\",\"sizing_mode\":\"stretch_width\"},\"id\":\"1371\",\"type\":\"Spacer\"},{\"attributes\":{\"fill_alpha\":0.5,\"fill_color\":\"#30a2da\",\"hatch_color\":\"#30a2da\",\"x\":{\"field\":\"x\"},\"y\":{\"field\":\"y\"}},\"id\":\"1055\",\"type\":\"Patch\"},{\"attributes\":{},\"id\":\"1069\",\"type\":\"AllLabels\"},{\"attributes\":{},\"id\":\"1181\",\"type\":\"NumberEditor\"},{\"attributes\":{\"columns\":[{\"id\":\"1172\"},{\"id\":\"1177\"},{\"id\":\"1182\"},{\"id\":\"1187\"},{\"id\":\"1192\"},{\"id\":\"1197\"},{\"id\":\"1202\"},{\"id\":\"1207\"}],\"height\":60,\"reorderable\":false,\"source\":{\"id\":\"1168\"},\"view\":{\"id\":\"1212\"}},\"id\":\"1210\",\"type\":\"DataTable\"},{\"attributes\":{},\"id\":\"1053\",\"type\":\"Selection\"},{\"attributes\":{\"children\":[{\"id\":\"1003\"},{\"id\":\"1234\"},{\"id\":\"1371\"}],\"margin\":[0,0,0,0],\"name\":\"Row03310\",\"tags\":[\"embedded\"]},\"id\":\"1002\",\"type\":\"Row\"},{\"attributes\":{\"editor\":{\"id\":\"1171\"},\"field\":\"count\",\"formatter\":{\"id\":\"1170\"},\"title\":\"count\"},\"id\":\"1172\",\"type\":\"TableColumn\"},{\"attributes\":{},\"id\":\"1171\",\"type\":\"NumberEditor\"},{\"attributes\":{\"source\":{\"id\":\"1043\"}},\"id\":\"1050\",\"type\":\"CDSView\"},{\"attributes\":{\"format\":\"0,0.0[00000]\"},\"id\":\"1170\",\"type\":\"NumberFormatter\"},{\"attributes\":{},\"id\":\"1176\",\"type\":\"NumberEditor\"},{\"attributes\":{\"data\":{\"left\":{\"__ndarray__\":\"lj5Eb71n/r/H5h0b9ET6v/iO98YqIva/KDfRcmH/8b+yvlU9MLnrvxQPCZWdc+O/6L542RVc1r+wfn0jwkO3vyD/c49pdMU/0F5TGFpF2z8EX3a0P+jlP6QOw1zSLe4/It+HgrI58z/wNq7We1z3P8CO1CpFf/s/jub6fg6i/z8vn5Dpa+IBQBfLo5PQ8wNA//a2PTUFBkDlIsrnmRYIQA==\",\"dtype\":\"float64\",\"order\":\"little\",\"shape\":[20]},\"right\":{\"__ndarray__\":\"x+YdG/RE+r/4jvfGKiL2vyg30XJh//G/sr5VPTC5678UDwmVnXPjv+i+eNkVXNa/sH59I8JDt78g/3OPaXTFP9BeUxhaRds/BF92tD/o5T+kDsNc0i3uPyLfh4KyOfM/8Dau1ntc9z/AjtQqRX/7P47m+n4Oov8/L5+Q6WviAUAXy6OT0PMDQP/2tj01BQZA5SLK55kWCEDNTt2R/icKQA==\",\"dtype\":\"float64\",\"order\":\"little\",\"shape\":[20]},\"top\":[96,406,1036,1614,1906,1976,1851,1687,1386,1041,935,640,545,362,220,171,163,106,63,308]},\"selected\":{\"id\":\"1044\"},\"selection_policy\":{\"id\":\"1073\"}},\"id\":\"1043\",\"type\":\"ColumnDataSource\"},{\"attributes\":{\"format\":\"0,0.0[00000]\"},\"id\":\"1175\",\"type\":\"NumberFormatter\"},{\"attributes\":{},\"id\":\"1041\",\"type\":\"BasicTickFormatter\"},{\"attributes\":{\"editor\":{\"id\":\"1176\"},\"field\":\"mean\",\"formatter\":{\"id\":\"1175\"},\"title\":\"mean\"},\"id\":\"1177\",\"type\":\"TableColumn\"},{\"attributes\":{\"editor\":{\"id\":\"1181\"},\"field\":\"std\",\"formatter\":{\"id\":\"1180\"},\"title\":\"std\"},\"id\":\"1182\",\"type\":\"TableColumn\"},{\"attributes\":{},\"id\":\"1073\",\"type\":\"UnionRenderers\"},{\"attributes\":{},\"id\":\"1186\",\"type\":\"NumberEditor\"},{\"attributes\":{\"format\":\"0,0.0[00000]\"},\"id\":\"1180\",\"type\":\"NumberFormatter\"},{\"attributes\":{\"editor\":{\"id\":\"1186\"},\"field\":\"min\",\"formatter\":{\"id\":\"1185\"},\"title\":\"min\"},\"id\":\"1187\",\"type\":\"TableColumn\"},{\"attributes\":{},\"id\":\"1191\",\"type\":\"NumberEditor\"},{\"attributes\":{\"format\":\"0,0.0[00000]\"},\"id\":\"1185\",\"type\":\"NumberFormatter\"},{\"attributes\":{\"editor\":{\"id\":\"1191\"},\"field\":\"A_25_percent\",\"formatter\":{\"id\":\"1190\"},\"title\":\"25%\"},\"id\":\"1192\",\"type\":\"TableColumn\"},{\"attributes\":{},\"id\":\"1196\",\"type\":\"NumberEditor\"},{\"attributes\":{\"format\":\"0,0.0[00000]\"},\"id\":\"1190\",\"type\":\"NumberFormatter\"},{\"attributes\":{\"editor\":{\"id\":\"1196\"},\"field\":\"A_50_percent\",\"formatter\":{\"id\":\"1195\"},\"title\":\"50%\"},\"id\":\"1197\",\"type\":\"TableColumn\"},{\"attributes\":{},\"id\":\"1201\",\"type\":\"NumberEditor\"},{\"attributes\":{\"format\":\"0,0.0[00000]\"},\"id\":\"1195\",\"type\":\"NumberFormatter\"},{\"attributes\":{\"editor\":{\"id\":\"1201\"},\"field\":\"A_75_percent\",\"formatter\":{\"id\":\"1200\"},\"title\":\"75%\"},\"id\":\"1202\",\"type\":\"TableColumn\"},{\"attributes\":{\"toolbar\":{\"id\":\"1232\"},\"toolbar_location\":\"above\"},\"id\":\"1233\",\"type\":\"ToolbarBox\"},{\"attributes\":{},\"id\":\"1206\",\"type\":\"NumberEditor\"},{\"attributes\":{\"format\":\"0,0.0[00000]\"},\"id\":\"1200\",\"type\":\"NumberFormatter\"},{\"attributes\":{},\"id\":\"1044\",\"type\":\"Selection\"},{\"attributes\":{\"editor\":{\"id\":\"1206\"},\"field\":\"max\",\"formatter\":{\"id\":\"1205\"},\"title\":\"max\"},\"id\":\"1207\",\"type\":\"TableColumn\"},{\"attributes\":{},\"id\":\"1075\",\"type\":\"UnionRenderers\"},{\"attributes\":{\"format\":\"0,0.0[00000]\"},\"id\":\"1205\",\"type\":\"NumberFormatter\"},{\"attributes\":{\"coordinates\":null,\"data_source\":{\"id\":\"1052\"},\"glyph\":{\"id\":\"1055\"},\"group\":null,\"hover_glyph\":null,\"muted_glyph\":{\"id\":\"1057\"},\"nonselection_glyph\":{\"id\":\"1056\"},\"selection_glyph\":{\"id\":\"1060\"},\"view\":{\"id\":\"1059\"},\"y_range_name\":\"twiny\"},\"id\":\"1058\",\"type\":\"GlyphRenderer\"},{\"attributes\":{\"source\":{\"id\":\"1168\"}},\"id\":\"1212\",\"type\":\"CDSView\"},{\"attributes\":{},\"id\":\"1042\",\"type\":\"AllLabels\"},{\"attributes\":{\"source\":{\"id\":\"1052\"}},\"id\":\"1059\",\"type\":\"CDSView\"},{\"attributes\":{\"toolbars\":[{\"id\":\"1030\"}],\"tools\":[{\"id\":\"1006\"},{\"id\":\"1024\"},{\"id\":\"1025\"},{\"id\":\"1026\"},{\"id\":\"1027\"},{\"id\":\"1028\"}]},\"id\":\"1232\",\"type\":\"ProxyToolbar\"},{\"attributes\":{\"fill_alpha\":0.2,\"fill_color\":\"#30a2da\",\"hatch_alpha\":0.2,\"hatch_color\":\"#30a2da\",\"line_alpha\":0.2,\"x\":{\"field\":\"x\"},\"y\":{\"field\":\"y\"}},\"id\":\"1057\",\"type\":\"Patch\"},{\"attributes\":{\"end\":0.4626198807960615},\"id\":\"1061\",\"type\":\"Range1d\"},{\"attributes\":{\"children\":[{\"id\":\"1233\"},{\"id\":\"1231\"}]},\"id\":\"1234\",\"type\":\"Column\"},{\"attributes\":{\"bottom\":{\"value\":0},\"fill_alpha\":{\"value\":0.1},\"fill_color\":{\"value\":\"#00fff0\"},\"hatch_alpha\":{\"value\":0.1},\"hatch_color\":{\"value\":\"#00fff0\"},\"left\":{\"field\":\"left\"},\"line_alpha\":{\"value\":0.1},\"right\":{\"field\":\"right\"},\"top\":{\"field\":\"top\"}},\"id\":\"1047\",\"type\":\"Quad\"},{\"attributes\":{\"axis_label\":\"y, median_income_density\",\"coordinates\":null,\"formatter\":{\"id\":\"1068\"},\"group\":null,\"major_label_policy\":{\"id\":\"1069\"},\"ticker\":{\"id\":\"1067\"},\"y_range_name\":\"twiny\"},\"id\":\"1062\",\"type\":\"LinearAxis\"},{\"attributes\":{\"bottom\":{\"value\":0},\"fill_color\":{\"value\":\"#00fff0\"},\"hatch_color\":{\"value\":\"#00fff0\"},\"left\":{\"field\":\"left\"},\"right\":{\"field\":\"right\"},\"top\":{\"field\":\"top\"}},\"id\":\"1046\",\"type\":\"Quad\"},{\"attributes\":{\"data\":{\"x\":{\"__ndarray__\":\"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\",\"dtype\":\"float64\",\"order\":\"little\",\"shape\":[200]},\"y\":{\"__ndarray__\":\"AAAAAAAAAAAAAAAAAAAAAAAAAAAAAAAAAAAAAAAAAAAAAAAAAAAAAAAAAAAAAAAAAAAAAAAAAAAAAAAAAAAAAAAAAAAAAAAAAAAAAAAAAAAAAAAAAAAAAAAAAAAAAAAAAAAAAAAAAAAAAAAAAAAAAAAAAAAAAAAAAAAAAAAAAAAAAAAAAAAAAAAAAAAAAAAAAAAAAAAAAAAAAAAAAAAAAAAAAAAAAAAAAAAAAAAAAAAAAAAAAAAAAAAAAAAAAAAAAAAAAAAAAAAAAAAAAAAAAAAAAAAAAAAAAAAAAAAAAAAAAAAAAAAAAAAAAAAAAAAAAAAAAAAAAAAAAAAAAAAAAAAAAAAAAAAAAAAAAAAAAAAAAAAAAAAAAAAAAAAAAAAAAAAAAAAAAAAAAAAAAAAAAAAAAAAAAAAAAAAAAAAAAAAAAAAAAAAAAAAAAAAAAAAAAAAAAAAAAAAAAAAAAAAAAAAAAAAAAAAAAAAAAAAAAAAAAAAAAAAAAAAAAAAAAAAAAAAAAAAAAAAAAAAAAAAAAAAAAAAAAAAAAAAAAAAAAAAAAAAAAAAAAAAAAAAAAAAAAAAAAAAAAAAAAAAAAAAAAAAAAAAAAAAAAAAAAAAAAAAAAAAAAAAAAAAAAAAAAAAAAAAAAAAAAAAAAAAAAAAAAAAAAAAAAAAAAAAAAAAAAAAAAAAAAAAAAAAAAAAAAAAAAAAAAAAAAAAAAAAAAAAAAAAAAAAAAAAAAAAAAAAAAAAAAAAAAAAAAAAAAAAAAAAAAAAAAAAAAAAAAAAAAAAAAAAAAAAAAAAAAAAAAAAAAAAAAAAAAAAAAAAAAAAAAAAAAAAAAAAAAAAAAAAAAAAAAAAAAAAAAAAAAAAAAAAAAAAAAAAAAAAAAAAAAAAAAAAAAAAAAAAAAAAAAAAAAAAAAAAAAAAAAAAAAAAAAAAAAAAAAAAAAAAAAAAAAAAAAAAAAAAAAAAAAAAAAAAAAAAAAAAAAAAAAAAAAAAAAAAAAAAAAAAAAAAAAAAAAAAAAAAAAAAAAAAAAAAAAAAAAAAAAAAAAAAAAAAAAAAAAAAAAABV9/oVItpAP9cxwWwvoFs/fyjELKbrcj/lvrA5C6qFP38h1nfGv5Q/s62sXjikoD/qkzl1U2amP2atgU+SZqk/Iifmoyt3qD9xZzF7JmCkP5yFrTuAhp4/nYur3FdElj8WVpwLQ8KRP37zMglFqZA/2Mz4GAC8kT+v6sQmOdqTP8wnBn8uWpY/7qKmzh7zmD8dkev4X42bPypNFJTkIJ4/xmEQevpSoD+P0qOVDIihP74VK0KQpqI/4fIr2B6joz+3WKcm4nKkPx/wh/3AEqU/9mvgcGeRpT9G9PcwYxamPz35m0mh4KY/2/aK3K05qD+5k5fLjl2qPwtBh6OrXa0/t30KfPuIsD+DWNGKR5ayP+NyiHrRtLQ/gpHzCCnatj96RnL5pgy5P2OWhSTqRrs/NxulZ9lkvT908x8poTm/P12UBEP4YcA/Vj6caaAkwT+Zh/GUYxjCP9XBv9W/XsM/EWyH8232xD8o7eUIhMfGP7yDWGVltMg/dNEEw0+byj9YG5lqWlXMP/56nTK8x80/osFM83D8zj+t5LCtTRHQP8wjJDb6uNA/Tg/iaTyI0T/cUpPk2YfSP48lKupYuNM/rIMr0WEM1T8+xe0AIGPWP1OZ7e6Qk9c/D62lsoKG2D8DQKv6KkXZPyX1BmQF69k/yJLBkHiM2j8NB3S6YC/bP6OfjWhr1Ns/164OuXN33D9tN39LpQLdP/z7F9mEUN0/WoIXKExK3T9oVd0kwQLdP4RPPToyqNw/pbvlrV1Z3D+fq9HseQ3cP6A63D/9pNs/yY2pAesG2z/MEwg/RynaP+yvf+oyCNk/1V5qa5ai1z8B1YVMpf/VPzmaVMMTLtQ/xRaPzsY50j+j7bO13CbQP4r6WtvA9Ms/duOJF2yKxz/Aq5hw8UXDP3TIwPdkub4/Es/6Y5/dtz84sd74FwuyP4NNb+uFdKo/a3o+NSO3oj95oIyh33KZP4LV7Y7MlJA/r12JfsSghD8OU0BhnEh4Px+tgkqVnWo/qaMwYjGUWj9Cot8qmaZHP1oP/0X2ZTI/3dvTQlyqGD+4tRUNxzT8Pg==\",\"dtype\":\"float64\",\"order\":\"little\",\"shape\":[200]}},\"selected\":{\"id\":\"1053\"},\"selection_policy\":{\"id\":\"1075\"}},\"id\":\"1052\",\"type\":\"ColumnDataSource\"},{\"attributes\":{\"below\":[{\"id\":\"1016\"}],\"center\":[{\"id\":\"1019\"},{\"id\":\"1023\"}],\"extra_y_ranges\":{\"twiny\":{\"id\":\"1061\"}},\"height\":300,\"left\":[{\"id\":\"1020\"}],\"margin\":null,\"min_border_bottom\":10,\"min_border_left\":10,\"min_border_right\":10,\"min_border_top\":10,\"renderers\":[{\"id\":\"1049\"},{\"id\":\"1058\"}],\"right\":[{\"id\":\"1062\"}],\"sizing_mode\":\"fixed\",\"title\":{\"id\":\"1008\"},\"toolbar\":{\"id\":\"1030\"},\"toolbar_location\":null,\"x_range\":{\"id\":\"1004\"},\"x_scale\":{\"id\":\"1012\"},\"y_range\":{\"id\":\"1005\"},\"y_scale\":{\"id\":\"1014\"}},\"id\":\"1007\",\"subtype\":\"Figure\",\"type\":\"Plot\"},{\"attributes\":{\"end\":1995.76,\"reset_end\":2173.5999973100506,\"reset_start\":0.0,\"tags\":[[[\"Frequency\",\"Frequency\",null]]]},\"id\":\"1005\",\"type\":\"Range1d\"},{\"attributes\":{\"end\":4.001136782161876,\"reset_end\":4.001136782161876,\"reset_start\":-2.6319354034051625,\"start\":-2.6319354034051625,\"tags\":[[[\"x\",\"x\",null]]]},\"id\":\"1004\",\"type\":\"Range1d\"},{\"attributes\":{\"children\":[[{\"id\":\"1007\"},0,0],[{\"id\":\"1210\"},1,0]]},\"id\":\"1231\",\"type\":\"GridBox\"},{\"attributes\":{\"fill_alpha\":0.5,\"fill_color\":\"#30a2da\",\"hatch_alpha\":0.1,\"hatch_color\":\"#30a2da\",\"line_alpha\":1,\"x\":{\"field\":\"x\"},\"y\":{\"field\":\"y\"}},\"id\":\"1056\",\"type\":\"Patch\"},{\"attributes\":{},\"id\":\"1038\",\"type\":\"BasicTickFormatter\"},{\"attributes\":{\"tools\":[{\"id\":\"1006\"},{\"id\":\"1024\"},{\"id\":\"1025\"},{\"id\":\"1026\"},{\"id\":\"1027\"},{\"id\":\"1028\"}]},\"id\":\"1030\",\"type\":\"Toolbar\"}],\"root_ids\":[\"1002\"]},\"title\":\"Bokeh Application\",\"version\":\"2.4.3\"}};\n",
       "    var render_items = [{\"docid\":\"f6567028-7713-44c9-8ac1-7598c9933964\",\"root_ids\":[\"1002\"],\"roots\":{\"1002\":\"af70a211-597e-4049-9d3b-81a17a37f020\"}}];\n",
       "    root.Bokeh.embed.embed_items_notebook(docs_json, render_items);\n",
       "  }\n",
       "  if (root.Bokeh !== undefined && root.Bokeh.Panel !== undefined) {\n",
       "    embed_document(root);\n",
       "  } else {\n",
       "    var attempts = 0;\n",
       "    var timer = setInterval(function(root) {\n",
       "      if (root.Bokeh !== undefined && root.Bokeh.Panel !== undefined) {\n",
       "        clearInterval(timer);\n",
       "        embed_document(root);\n",
       "      } else if (document.readyState == \"complete\") {\n",
       "        attempts++;\n",
       "        if (attempts > 200) {\n",
       "          clearInterval(timer);\n",
       "          console.log(\"Bokeh: ERROR: Unable to run BokehJS code because BokehJS library is missing\");\n",
       "        }\n",
       "      }\n",
       "    }, 25, root)\n",
       "  }\n",
       "})(window);</script>"
      ],
      "text/plain": [
       ":Layout\n",
       "   .Overlay.I :Overlay\n",
       "      .Histogram.I    :Histogram   [x]   (Frequency)\n",
       "      .Distribution.I :Distribution   [median_income]   (Density)\n",
       "   .Table.I   :Table   [count,mean,std,min,25%,50%,75%,max]"
      ]
     },
     "execution_count": 15,
     "metadata": {
      "application/vnd.holoviews_exec.v0+json": {
       "id": "1002"
      }
     },
     "output_type": "execute_result"
    }
   ],
   "source": [
    "out = eda.get_density_plots(train_X, cols=['ocean_proximity_<1H OCEAN', 'median_income'])\n",
    "out"
   ]
  },
  {
   "cell_type": "code",
   "execution_count": 16,
   "metadata": {},
   "outputs": [],
   "source": [
    "# save the plots are html\n",
    "reports.create_report({'univariate': out}, name='feature_analysis_univariate')"
   ]
  },
  {
   "cell_type": "markdown",
   "metadata": {},
   "source": [
    "A report containing the above plot is available [here](https://drive.google.com/file/d/16ntqUc_zvpg0at5pTtO-ljBjw5UVGFnp/view?usp=sharing)\n"
   ]
  },
  {
   "cell_type": "markdown",
   "metadata": {},
   "source": [
    "Alternatively, the above plots can be generated as a single html as below. The output from this is available [here](https://drive.google.com/file/d/1vUaCcs1PJ4IYo1em9-eZIEj9WuDsnFKT/view?usp=sharing)"
   ]
  },
  {
   "cell_type": "code",
   "execution_count": 17,
   "metadata": {},
   "outputs": [
    {
     "name": "stderr",
     "output_type": "stream",
     "text": [
      "p-value may not be accurate for N > 5000.\n"
     ]
    }
   ],
   "source": [
    "reports.feature_analysis(train_X,'./feature_analysis_report.html')"
   ]
  },
  {
   "cell_type": "markdown",
   "metadata": {},
   "source": [
    "### 3.2.2 Bivariate - mutual interactions"
   ]
  },
  {
   "cell_type": "markdown",
   "metadata": {},
   "source": [
    "- Find columns with high correlations and drop them"
   ]
  },
  {
   "cell_type": "code",
   "execution_count": 18,
   "metadata": {},
   "outputs": [
    {
     "data": {
      "text/html": [
       "<div>\n",
       "<style scoped>\n",
       "    .dataframe tbody tr th:only-of-type {\n",
       "        vertical-align: middle;\n",
       "    }\n",
       "\n",
       "    .dataframe tbody tr th {\n",
       "        vertical-align: top;\n",
       "    }\n",
       "\n",
       "    .dataframe thead th {\n",
       "        text-align: right;\n",
       "    }\n",
       "</style>\n",
       "<table border=\"1\" class=\"dataframe\">\n",
       "  <thead>\n",
       "    <tr style=\"text-align: right;\">\n",
       "      <th></th>\n",
       "      <th>Variable 1</th>\n",
       "      <th>Variable 2</th>\n",
       "      <th>Corr Coef</th>\n",
       "      <th>Abs Corr Coef</th>\n",
       "    </tr>\n",
       "  </thead>\n",
       "  <tbody>\n",
       "    <tr>\n",
       "      <th>0</th>\n",
       "      <td>households</td>\n",
       "      <td>total_bedrooms</td>\n",
       "      <td>0.973557</td>\n",
       "      <td>0.973557</td>\n",
       "    </tr>\n",
       "    <tr>\n",
       "      <th>1</th>\n",
       "      <td>latitude</td>\n",
       "      <td>longitude</td>\n",
       "      <td>-0.924918</td>\n",
       "      <td>0.924918</td>\n",
       "    </tr>\n",
       "    <tr>\n",
       "      <th>2</th>\n",
       "      <td>total_bedrooms</td>\n",
       "      <td>total_rooms</td>\n",
       "      <td>0.919087</td>\n",
       "      <td>0.919087</td>\n",
       "    </tr>\n",
       "    <tr>\n",
       "      <th>3</th>\n",
       "      <td>households</td>\n",
       "      <td>total_rooms</td>\n",
       "      <td>0.913502</td>\n",
       "      <td>0.913502</td>\n",
       "    </tr>\n",
       "    <tr>\n",
       "      <th>4</th>\n",
       "      <td>households</td>\n",
       "      <td>population</td>\n",
       "      <td>0.907971</td>\n",
       "      <td>0.907971</td>\n",
       "    </tr>\n",
       "    <tr>\n",
       "      <th>5</th>\n",
       "      <td>population</td>\n",
       "      <td>total_bedrooms</td>\n",
       "      <td>0.873697</td>\n",
       "      <td>0.873697</td>\n",
       "    </tr>\n",
       "    <tr>\n",
       "      <th>6</th>\n",
       "      <td>population</td>\n",
       "      <td>total_rooms</td>\n",
       "      <td>0.844430</td>\n",
       "      <td>0.844430</td>\n",
       "    </tr>\n",
       "    <tr>\n",
       "      <th>7</th>\n",
       "      <td>bedrooms_per_room</td>\n",
       "      <td>rooms_per_household</td>\n",
       "      <td>-0.751673</td>\n",
       "      <td>0.751673</td>\n",
       "    </tr>\n",
       "    <tr>\n",
       "      <th>8</th>\n",
       "      <td>bedrooms_per_room</td>\n",
       "      <td>median_income</td>\n",
       "      <td>-0.675388</td>\n",
       "      <td>0.675388</td>\n",
       "    </tr>\n",
       "    <tr>\n",
       "      <th>9</th>\n",
       "      <td>ocean_proximity_1H OCEAN</td>\n",
       "      <td>ocean_proximity_INLAND</td>\n",
       "      <td>-0.606939</td>\n",
       "      <td>0.606939</td>\n",
       "    </tr>\n",
       "  </tbody>\n",
       "</table>\n",
       "</div>"
      ],
      "text/plain": [
       "                 Variable 1              Variable 2  Corr Coef  Abs Corr Coef\n",
       "0                households          total_bedrooms   0.973557       0.973557\n",
       "1                  latitude               longitude  -0.924918       0.924918\n",
       "2            total_bedrooms             total_rooms   0.919087       0.919087\n",
       "3                households             total_rooms   0.913502       0.913502\n",
       "4                households              population   0.907971       0.907971\n",
       "5                population          total_bedrooms   0.873697       0.873697\n",
       "6                population             total_rooms   0.844430       0.844430\n",
       "7         bedrooms_per_room     rooms_per_household  -0.751673       0.751673\n",
       "8         bedrooms_per_room           median_income  -0.675388       0.675388\n",
       "9  ocean_proximity_1H OCEAN  ocean_proximity_INLAND  -0.606939       0.606939"
      ]
     },
     "execution_count": 18,
     "metadata": {},
     "output_type": "execute_result"
    }
   ],
   "source": [
    "out = eda.get_correlation_table(train_X)\n",
    "out[out[\"Abs Corr Coef\"] > 0.6]"
   ]
  },
  {
   "cell_type": "code",
   "execution_count": 19,
   "metadata": {},
   "outputs": [
    {
     "data": {
      "text/html": [
       "<div>\n",
       "<style scoped>\n",
       "    .dataframe tbody tr th:only-of-type {\n",
       "        vertical-align: middle;\n",
       "    }\n",
       "\n",
       "    .dataframe tbody tr th {\n",
       "        vertical-align: top;\n",
       "    }\n",
       "\n",
       "    .dataframe thead th {\n",
       "        text-align: right;\n",
       "    }\n",
       "</style>\n",
       "<table border=\"1\" class=\"dataframe\">\n",
       "  <thead>\n",
       "    <tr style=\"text-align: right;\">\n",
       "      <th></th>\n",
       "      <th>Variable 1</th>\n",
       "      <th>Variable 2</th>\n",
       "      <th>Corr Coef</th>\n",
       "      <th>Abs Corr Coef</th>\n",
       "    </tr>\n",
       "  </thead>\n",
       "  <tbody>\n",
       "    <tr>\n",
       "      <th>0</th>\n",
       "      <td>latitude</td>\n",
       "      <td>longitude</td>\n",
       "      <td>-0.924918</td>\n",
       "      <td>0.924918</td>\n",
       "    </tr>\n",
       "    <tr>\n",
       "      <th>1</th>\n",
       "      <td>households</td>\n",
       "      <td>total_rooms</td>\n",
       "      <td>0.913502</td>\n",
       "      <td>0.913502</td>\n",
       "    </tr>\n",
       "    <tr>\n",
       "      <th>2</th>\n",
       "      <td>households</td>\n",
       "      <td>population</td>\n",
       "      <td>0.907971</td>\n",
       "      <td>0.907971</td>\n",
       "    </tr>\n",
       "    <tr>\n",
       "      <th>3</th>\n",
       "      <td>population</td>\n",
       "      <td>total_rooms</td>\n",
       "      <td>0.844430</td>\n",
       "      <td>0.844430</td>\n",
       "    </tr>\n",
       "    <tr>\n",
       "      <th>4</th>\n",
       "      <td>bedrooms_per_room</td>\n",
       "      <td>rooms_per_household</td>\n",
       "      <td>-0.751673</td>\n",
       "      <td>0.751673</td>\n",
       "    </tr>\n",
       "    <tr>\n",
       "      <th>5</th>\n",
       "      <td>bedrooms_per_room</td>\n",
       "      <td>median_income</td>\n",
       "      <td>-0.675388</td>\n",
       "      <td>0.675388</td>\n",
       "    </tr>\n",
       "    <tr>\n",
       "      <th>6</th>\n",
       "      <td>ocean_proximity_1H OCEAN</td>\n",
       "      <td>ocean_proximity_INLAND</td>\n",
       "      <td>-0.606939</td>\n",
       "      <td>0.606939</td>\n",
       "    </tr>\n",
       "  </tbody>\n",
       "</table>\n",
       "</div>"
      ],
      "text/plain": [
       "                 Variable 1              Variable 2  Corr Coef  Abs Corr Coef\n",
       "0                  latitude               longitude  -0.924918       0.924918\n",
       "1                households             total_rooms   0.913502       0.913502\n",
       "2                households              population   0.907971       0.907971\n",
       "3                population             total_rooms   0.844430       0.844430\n",
       "4         bedrooms_per_room     rooms_per_household  -0.751673       0.751673\n",
       "5         bedrooms_per_room           median_income  -0.675388       0.675388\n",
       "6  ocean_proximity_1H OCEAN  ocean_proximity_INLAND  -0.606939       0.606939"
      ]
     },
     "execution_count": 19,
     "metadata": {},
     "output_type": "execute_result"
    }
   ],
   "source": [
    "# High corelation for total_bedrooms variable so removing it\n",
    "curated_columns = list(\n",
    "    set(train_X.columns.to_list())\n",
    "    - set(['total_bedrooms'])\n",
    ")\n",
    "\n",
    "train_X = train_X[curated_columns]\n",
    "\n",
    "out = eda.get_correlation_table(train_X)\n",
    "out[out[\"Abs Corr Coef\"] > 0.6]"
   ]
  },
  {
   "cell_type": "code",
   "execution_count": 20,
   "metadata": {},
   "outputs": [
    {
     "data": {},
     "metadata": {},
     "output_type": "display_data"
    },
    {
     "data": {
      "application/vnd.holoviews_exec.v0+json": "",
      "text/html": [
       "<div id='13283'>\n",
       "  <div class=\"bk-root\" id=\"4e597968-fb5d-4f23-af39-d8140dea0c04\" data-root-id=\"13283\"></div>\n",
       "</div>\n",
       "<script type=\"application/javascript\">(function(root) {\n",
       "  function embed_document(root) {\n",
       "    var docs_json = {\"ff71bb6b-0b69-48c7-b694-f1778910a316\":{\"defs\":[{\"extends\":null,\"module\":null,\"name\":\"ReactiveHTML1\",\"overrides\":[],\"properties\":[]},{\"extends\":null,\"module\":null,\"name\":\"FlexBox1\",\"overrides\":[],\"properties\":[{\"default\":\"flex-start\",\"kind\":null,\"name\":\"align_content\"},{\"default\":\"flex-start\",\"kind\":null,\"name\":\"align_items\"},{\"default\":\"row\",\"kind\":null,\"name\":\"flex_direction\"},{\"default\":\"wrap\",\"kind\":null,\"name\":\"flex_wrap\"},{\"default\":\"flex-start\",\"kind\":null,\"name\":\"justify_content\"}]},{\"extends\":null,\"module\":null,\"name\":\"GridStack1\",\"overrides\":[],\"properties\":[{\"default\":\"warn\",\"kind\":null,\"name\":\"mode\"},{\"default\":null,\"kind\":null,\"name\":\"ncols\"},{\"default\":null,\"kind\":null,\"name\":\"nrows\"},{\"default\":true,\"kind\":null,\"name\":\"allow_resize\"},{\"default\":true,\"kind\":null,\"name\":\"allow_drag\"},{\"default\":[],\"kind\":null,\"name\":\"state\"}]},{\"extends\":null,\"module\":null,\"name\":\"click1\",\"overrides\":[],\"properties\":[{\"default\":\"\",\"kind\":null,\"name\":\"terminal_output\"},{\"default\":\"\",\"kind\":null,\"name\":\"debug_name\"},{\"default\":0,\"kind\":null,\"name\":\"clears\"}]},{\"extends\":null,\"module\":null,\"name\":\"NotificationAreaBase1\",\"overrides\":[],\"properties\":[{\"default\":\"bottom-right\",\"kind\":null,\"name\":\"position\"},{\"default\":0,\"kind\":null,\"name\":\"_clear\"}]},{\"extends\":null,\"module\":null,\"name\":\"NotificationArea1\",\"overrides\":[],\"properties\":[{\"default\":[],\"kind\":null,\"name\":\"notifications\"},{\"default\":\"bottom-right\",\"kind\":null,\"name\":\"position\"},{\"default\":0,\"kind\":null,\"name\":\"_clear\"},{\"default\":[{\"background\":\"#ffc107\",\"icon\":{\"className\":\"fas fa-exclamation-triangle\",\"color\":\"white\",\"tagName\":\"i\"},\"type\":\"warning\"},{\"background\":\"#007bff\",\"icon\":{\"className\":\"fas fa-info-circle\",\"color\":\"white\",\"tagName\":\"i\"},\"type\":\"info\"}],\"kind\":null,\"name\":\"types\"}]},{\"extends\":null,\"module\":null,\"name\":\"Notification\",\"overrides\":[],\"properties\":[{\"default\":null,\"kind\":null,\"name\":\"background\"},{\"default\":3000,\"kind\":null,\"name\":\"duration\"},{\"default\":null,\"kind\":null,\"name\":\"icon\"},{\"default\":\"\",\"kind\":null,\"name\":\"message\"},{\"default\":null,\"kind\":null,\"name\":\"notification_type\"},{\"default\":false,\"kind\":null,\"name\":\"_destroyed\"}]},{\"extends\":null,\"module\":null,\"name\":\"TemplateActions1\",\"overrides\":[],\"properties\":[{\"default\":0,\"kind\":null,\"name\":\"open_modal\"},{\"default\":0,\"kind\":null,\"name\":\"close_modal\"}]},{\"extends\":null,\"module\":null,\"name\":\"MaterialTemplateActions1\",\"overrides\":[],\"properties\":[{\"default\":0,\"kind\":null,\"name\":\"open_modal\"},{\"default\":0,\"kind\":null,\"name\":\"close_modal\"}]}],\"roots\":{\"references\":[{\"attributes\":{\"bar_line_color\":\"black\",\"color_mapper\":{\"id\":\"13318\"},\"coordinates\":null,\"group\":null,\"label_standoff\":8,\"location\":[0,0],\"major_label_policy\":{\"id\":\"13340\"},\"major_tick_line_color\":\"black\",\"ticker\":{\"id\":\"13327\"}},\"id\":\"13328\",\"type\":\"ColorBar\"},{\"attributes\":{},\"id\":\"13298\",\"type\":\"BasicTicker\"},{\"attributes\":{\"coordinates\":null,\"group\":null,\"text\":\"Correlation: 0.908\",\"text_color\":\"black\",\"text_font_size\":\"12pt\"},\"id\":\"13289\",\"type\":\"Title\"},{\"attributes\":{\"end\":4.266255588136016,\"reset_end\":4.266255588136016,\"reset_start\":-2.030110267399431,\"start\":-2.030110267399431,\"tags\":[[[\"population\",\"population\",null]]]},\"id\":\"13286\",\"type\":\"Range1d\"},{\"attributes\":{\"children\":[{\"id\":\"13284\"},{\"id\":\"13288\"},{\"id\":\"13347\"}],\"margin\":[0,0,0,0],\"name\":\"Row28590\",\"tags\":[\"embedded\"]},\"id\":\"13283\",\"type\":\"Row\"},{\"attributes\":{},\"id\":\"13344\",\"type\":\"UnionRenderers\"},{\"attributes\":{\"bottom_units\":\"screen\",\"coordinates\":null,\"fill_alpha\":0.5,\"fill_color\":\"lightgrey\",\"group\":null,\"left_units\":\"screen\",\"level\":\"overlay\",\"line_alpha\":1.0,\"line_color\":\"black\",\"line_dash\":[4,4],\"line_width\":2,\"right_units\":\"screen\",\"syncable\":false,\"top_units\":\"screen\"},\"id\":\"13310\",\"type\":\"BoxAnnotation\"},{\"attributes\":{\"axis\":{\"id\":\"13301\"},\"coordinates\":null,\"dimension\":1,\"grid_line_color\":null,\"group\":null,\"ticker\":null},\"id\":\"13304\",\"type\":\"Grid\"},{\"attributes\":{\"aspect_scale\":1.0184641626684179,\"fill_color\":{\"field\":\"Count\",\"transform\":{\"id\":\"13318\"}},\"hatch_color\":{\"field\":\"Count\",\"transform\":{\"id\":\"13318\"}},\"line_color\":{\"field\":\"Count\",\"transform\":{\"id\":\"13318\"}},\"q\":{\"field\":\"q\"},\"r\":{\"field\":\"r\"},\"size\":0.06995962061706051},\"id\":\"13322\",\"type\":\"HexTile\"},{\"attributes\":{\"margin\":[5,5,5,5],\"name\":\"HSpacer28595\",\"sizing_mode\":\"stretch_width\"},\"id\":\"13347\",\"type\":\"Spacer\"},{\"attributes\":{\"callback\":null,\"renderers\":[{\"id\":\"13325\"}],\"tags\":[\"hv_created\"],\"tooltips\":[[\"Count\",\"@{Count}\"]]},\"id\":\"13287\",\"type\":\"HoverTool\"},{\"attributes\":{\"aspect_scale\":1.0184641626684179,\"fill_alpha\":{\"value\":1.0},\"fill_color\":{\"field\":\"Count\",\"transform\":{\"id\":\"13318\"}},\"hatch_alpha\":{\"value\":1.0},\"hatch_color\":{\"field\":\"Count\",\"transform\":{\"id\":\"13318\"}},\"hatch_scale\":{\"value\":12.0},\"hatch_weight\":{\"value\":1.0},\"line_alpha\":{\"value\":1.0},\"line_cap\":{\"value\":\"butt\"},\"line_color\":{\"field\":\"Count\",\"transform\":{\"id\":\"13318\"}},\"line_dash\":{\"value\":[]},\"line_dash_offset\":{\"value\":0},\"line_join\":{\"value\":\"bevel\"},\"line_width\":{\"value\":1},\"q\":{\"field\":\"q\"},\"r\":{\"field\":\"r\"},\"scale\":{\"value\":1.0},\"size\":0.06995962061706051},\"id\":\"13329\",\"type\":\"HexTile\"},{\"attributes\":{\"overlay\":{\"id\":\"13310\"}},\"id\":\"13308\",\"type\":\"BoxZoomTool\"},{\"attributes\":{},\"id\":\"13293\",\"type\":\"LinearScale\"},{\"attributes\":{\"data\":{\"Count\":[32,122,7,199,78,294,166,92,25,1,1,32,273,40,8,2,87,126,6,218,117,128,104,5,66,1,1,25,142,43,116,227,54,170,2,196,188,148,224,40,5,44,8,29,30,55,1,28,52,62,48,21,10,114,73,63,209,33,4,115,145,39,128,11,72,4,49,102,143,43,13,99,104,4,89,88,70,26,53,102,55,1,32,4,55,275,48,86,2,161,122,64,107,224,153,36,8,49,21,21,54,26,3,3,62,236,64,151,1,9,5,16,2,84,224,89,78,8,171,6,22,10,6,7,18,194,194,2,141,42,25,142,5,67,9,9,49,9,27,6,124,152,38,23,32,25,6,12,29,4,99,4,77,3,5,3,29,12,34,23,3,9,1,71,8,15,34,18,113,20,7,24,50,19,4,53,8,60,6,26,9,51,33,27,5,19,22,10,7,29,6,16,1,7,6,91,69,7,9,8,8,29,5,20,5,19,4,25,1,7,17,32,32,63,21,24,82,10,5,24,112,12,15,27,23,14,14,3,1,27,43,19,10,12,3,46,5,7,9,4,2,82,43,14,52,12,44,1,55,6,62,4,6,23,10,6,8,3,10,3,5,36,3,37,8,6,1,12,4,3,10,9,2,19,7,21,14,5,22,1,47,27,4,17,12,48,9,15,2,4,6,1,17,23,8,10,28,6,3,9,4,35,9,3,12,1,38,56,43,1,1,2,24,20,1,9,1,22,6,8,6,5,6,9,17,1,7,15,9,14,5,48,4,1,9,2,2,16,1,15,5,16,19,1,5,25,7,6,9,2,30,4,18,10,25,1,10,25,23,2,2,15,1,1,3,6,27,1,4,12,6,1,8,9,12,34,33,2,1,7,4,8,3,3,5,13,7,1,2,12,11,11,28,1,1,7,5,32,5,17,13,3,24,2,6,5,23,9,9,3,8,2,34,13,5,5,2,12,4,2,11,3,6,2,6,14,1,3,3,4,10,1,2,14,3,2,13,4,16,2,2,1,14,1,3,11,9,1,1,31,2,1,22,1,3,2,6,4,2,11,1,9,2,2,1,1,5,3,2,1,1,13,2,2,3,1,3,8,4,11,6,3,1,13,13,6,6,25,5,2,3,8,2,13,1,1,16,1,22,4,3,6,7,4,1,1,2,2,1,5,2,7,5,6,1,1,2,9,1,5,2,6,2,10,7,2,6,6,2,2,1,3,2,12,1,11,1,2,4,6,3,1,3,5,4,3,6,1,5,2,6,3,6,4,7,2,2,8,1,9,3,2,2,7,1,2,9,5,4,4,4,4,9,5,2,12,5,3,4,5,4,2,9,8,4,5,3,7,6,6,2,1,4,2,2,8,9,2,9,2,4,2,2,2,1,2,6,2,1,8,5,3,2,8,2,4,5,3,2,6,5,3,1,1,4,15,4,1,1,5,4,3,5,1,2,2,1,6,2,5,3,7,1,18,1,2,1,2,10,1,2,2,3,3,3,5,1,2,1,2,2,2,2,1,5,2,1,2,1,1,2,3,3,3,3,2,2,1,1,6,2,4,6,3,7,8,1,4,3,4,1,3,7,1,1,3,4,1,6,5,1,1,6,2,4,1,1,2,1,2,2,1,1,2,1,2,5,6,2,5,7,2,1,3,2,3,3,1,1,3,1,4,1,1,2,5,7,3,2,1,2,2,2,2,1,7,3,2,1,2,2,1,2,1,1,2,5,2,1,4,3,1,4,1,4,2,1,1,4,1,2,1,1,2,3,3,4,1,1,3,3,2,3,3,1,2,1,1,1,1,1,1,1,1,2,1,2,1,1,4,1,2,1,3,6,2,1,1,1,1,1,2,1,2,1,1,2,1,1,3,3,1,2,1,1,2,1,2,1,2,3,3,1,1,4,2,1,1,1,1,1,1,2,10,2,1,1,1,1,1,1,5,1,1,1,2,1,2,2,1,2,1,1,1,2,1,3,2,1,2,1,1,2,1,1,1,1,1,1,3,2,2,1,1,1,2,4,1,2,1,1,1,1,1,1,1,2,1,1,1,1,1,1,2,2,1,1,1,1,2,2,1,1,1,1,2,1,1,1,1,1,1,1,1,1,1,1,1,1,1,1,1,1,1,2,1,1,1,1,1,1,1,2,2,2,1,1,1,1,2,2,1,1,1,2,1,1,1,1,1,1,1,1,1,1,2,1,1,1,1,1,1,1,1,1,1,1,1,1,1,2,1,1,1,1,1,1,1,1,1,1],\"q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r\":[-4,5,-7,-36,-1,6,10,-2,0,-17,-36,6,7,-6,7,-15,0,12,-12,6,3,13,2,-18,11,-19,9,-7,10,4,0,4,0,2,-21,8,5,4,5,-5,1,-3,-13,-2,7,-2,-19,-5,2,1,-2,-6,10,6,-2,-1,6,-2,-33,9,1,-5,7,-1,-3,-16,-3,14,2,-4,-15,1,3,7,0,8,6,-6,-1,2,-3,-32,-5,-1,9,7,-4,5,-22,11,7,14,5,8,3,3,1,-5,-10,-8,-4,3,-14,-21,7,5,-1,9,-16,-3,-32,-10,-19,12,9,-1,3,-1,3,-10,-8,-1,-11,0,11,4,3,-24,8,8,-7,2,-29,-3,2,-13,10,3,-5,-22,0,4,-6,-8,-4,10,-16,-10,-7,2,6,-12,4,-32,6,-24,-5,1,5,-4,-2,-14,-8,4,-10,-8,-5,0,1,-9,-16,-3,5,-7,-23,0,-9,0,-11,-2,-9,-4,-7,-7,-27,-5,5,-12,-15,-9,-18,-5,-26,-10,-21,-1,1,-21,-5,-36,-13,-3,-5,-3,-25,-8,-14,-6,-11,6,6,-2,8,-1,8,-1,1,-11,-26,1,1,12,5,9,-7,-12,-9,-16,-4,-1,1,12,-14,-14,3,7,-20,11,-17,-21,-10,11,2,-10,3,-9,2,-15,-2,-19,10,-9,-26,-9,4,-7,-36,-21,-6,-21,-4,4,-12,-6,-4,-19,-4,-9,-14,6,-12,-15,-26,-7,-23,-8,-6,-11,-2,-23,9,-4,-11,-11,-12,-3,0,-12,-23,-3,-10,11,-2,-6,-36,-14,1,-17,-14,-10,-12,3,-18,-33,-6,-28,-4,-2,6,9,-4,-26,2,-10,-32,-16,-18,0,-31,-13,-13,-25,-4,-13,-9,-36,-36,10,-14,-11,-13,0,-18,-16,-9,-17,8,-10,-28,-6,-7,-9,-9,-25,-16,7,-25,-3,-3,2,-5,-8,-3,-11,-1,-9,-12,-4,1,-2,0,-11,-34,-4,-14,12,13,-27,-29,-13,-10,-19,-17,-4,-7,-7,2,-7,-13,-16,-9,-8,-19,-36,-5,-7,1,-22,-35,-3,-2,7,-1,1,-33,3,-36,4,-26,-2,-4,-15,2,-25,-16,3,-8,-4,-16,-11,-6,0,-3,3,-9,-11,-35,-3,-25,-13,8,-30,-15,-5,-21,0,3,5,-36,-24,-11,-13,0,-11,10,-34,-14,-18,4,-27,-29,-21,9,-14,-20,6,-13,4,-21,-6,1,-12,-5,-2,-26,-15,-12,-12,-15,-4,-33,-22,-22,-9,-36,-27,-11,-1,-17,-31,-25,-12,-7,-29,-23,-20,-15,-18,-6,-7,-5,-12,-12,-13,-12,-8,-20,13,-22,-26,-16,-34,-19,-1,-22,-15,-8,-19,0,-16,-22,-15,-3,8,-27,-32,-19,0,-36,-17,-13,-14,-14,1,-21,-25,-24,-6,-16,-9,-11,-12,-16,-13,-15,-20,-15,-19,-31,-28,-11,-5,-27,-35,-14,-8,-13,-7,13,-11,2,-17,2,-18,-19,1,4,-26,-3,-10,-17,-25,-7,-19,-13,-25,-5,-14,-18,-11,-20,-23,-19,-17,-18,-17,-5,-25,-19,-18,8,-16,-11,-17,-4,-10,5,-28,-12,-18,-12,-27,-15,-14,-8,-19,-20,2,5,-17,-20,-6,-11,-23,-25,-19,-8,-11,-28,-13,-19,-21,-18,-10,-25,-7,-13,-24,11,9,-8,-12,-17,-15,-24,-22,-24,-19,-22,-1,-25,-23,6,12,-13,-9,-18,-21,-21,-17,-12,-23,-17,-31,-29,-33,-22,-17,-19,-2,-4,-9,4,-4,-31,-33,-13,7,-7,-22,-18,-12,-22,-19,-17,-14,-29,-17,-36,9,-18,-20,-26,-19,-23,-16,-17,-31,-18,-26,-13,-29,4,-29,-23,-13,-8,-27,-34,-18,5,-18,-2,-4,7,-13,-27,-20,-17,-23,-5,-16,-6,-29,-28,-12,-22,-20,-3,4,-34,-31,2,-22,-8,-1,-16,-7,-28,-24,-1,-19,-14,-28,-11,-19,-19,-6,-7,-16,-17,-29,-8,-15,-21,-6,-15,-33,-19,-20,-14,-8,-17,-18,-19,-30,-15,-35,-8,-29,-34,-12,-16,-20,-9,-14,5,-6,2,-7,-17,-6,-21,-18,-22,-23,-18,-24,-14,-1,-32,-20,-21,-10,-15,-22,-26,-24,-24,-15,-18,-25,-25,9,-22,-26,-22,-25,-12,-2,-36,-17,-11,-10,-26,-28,-27,-29,-4,-35,8,-15,-2,-29,-6,-30,-20,-24,-23,-25,-3,-14,-36,-31,11,-20,-34,14,-14,-15,-1,4,-30,-18,-35,3,-30,-20,-33,-36,-35,-1,-9,-28,-15,-32,-6,-20,-23,-31,-18,-27,-10,-9,-17,-14,-28,-16,-32,-36,-36,-31,-28,2,-1,-36,-36,-24,-5,-33,-33,-13,-28,-33,-30,-3,-28,-26,-23,-36,-20,-23,-36,-1,1,-3,-14,-8,-9,-13,-22,-6,-23,-3,-15,-26,-5,-32,-4,-20,-21,-21,-17,-21,-33,-23,-6,-29,-26,-36,-25,-21,-10,-33,-35,-16,-35,-21,-4,-22,-29,-22,-27,-12,-8,-30,-11,3,-34,-9,-4,-18,-26,-20,-8,-24,-32,0,-14,-21,-22,-7,-33,-22,-2,-14,-4,-16,-36,-7,5,-24,-23,-30,-10,-16,-32,-10,-33,-10,6,-21,-15,-15,-7,-28,-15,-36,-34,8,-24,-20,-8,-13,-13,-12,-24,-22,-14,-19,-33,-5,-12,-20,-30,-13,-33,-36,-22,-9,-36,4,11,-25,-14,-26,-8,-33,-10,-9,-24,-20,-22,1,-28,-22,-25,-2,-35,-24,-24]},\"selected\":{\"id\":\"13320\"},\"selection_policy\":{\"id\":\"13344\"}},\"id\":\"13319\",\"type\":\"ColumnDataSource\"},{\"attributes\":{},\"id\":\"13331\",\"type\":\"BasicTickFormatter\"},{\"attributes\":{},\"id\":\"13309\",\"type\":\"ResetTool\"},{\"attributes\":{},\"id\":\"13295\",\"type\":\"LinearScale\"},{\"attributes\":{\"tools\":[{\"id\":\"13287\"},{\"id\":\"13305\"},{\"id\":\"13306\"},{\"id\":\"13307\"},{\"id\":\"13308\"},{\"id\":\"13309\"}]},\"id\":\"13311\",\"type\":\"Toolbar\"},{\"attributes\":{\"aspect_scale\":1.0184641626684179,\"fill_alpha\":{\"value\":0.1},\"fill_color\":{\"field\":\"Count\",\"transform\":{\"id\":\"13318\"}},\"hatch_alpha\":{\"value\":0.1},\"hatch_color\":{\"field\":\"Count\",\"transform\":{\"id\":\"13318\"}},\"line_alpha\":{\"value\":0.1},\"line_color\":{\"field\":\"Count\",\"transform\":{\"id\":\"13318\"}},\"q\":{\"field\":\"q\"},\"r\":{\"field\":\"r\"},\"size\":0.06995962061706051},\"id\":\"13323\",\"type\":\"HexTile\"},{\"attributes\":{\"margin\":[5,5,5,5],\"name\":\"HSpacer28594\",\"sizing_mode\":\"stretch_width\"},\"id\":\"13284\",\"type\":\"Spacer\"},{\"attributes\":{},\"id\":\"13307\",\"type\":\"WheelZoomTool\"},{\"attributes\":{},\"id\":\"13302\",\"type\":\"BasicTicker\"},{\"attributes\":{},\"id\":\"13327\",\"type\":\"BasicTicker\"},{\"attributes\":{\"end\":3.6225091252330386,\"reset_end\":3.6225091252330386,\"reset_start\":-1.5293378799009054,\"start\":-1.5293378799009054,\"tags\":[[[\"households\",\"households\",null]]]},\"id\":\"13285\",\"type\":\"Range1d\"},{\"attributes\":{},\"id\":\"13335\",\"type\":\"AllLabels\"},{\"attributes\":{\"below\":[{\"id\":\"13297\"}],\"center\":[{\"id\":\"13300\"},{\"id\":\"13304\"}],\"height\":300,\"left\":[{\"id\":\"13301\"}],\"margin\":[5,5,5,5],\"min_border_bottom\":10,\"min_border_left\":10,\"min_border_right\":10,\"min_border_top\":10,\"renderers\":[{\"id\":\"13325\"}],\"right\":[{\"id\":\"13328\"}],\"sizing_mode\":\"fixed\",\"title\":{\"id\":\"13289\"},\"toolbar\":{\"id\":\"13311\"},\"x_range\":{\"id\":\"13285\"},\"x_scale\":{\"id\":\"13293\"},\"y_range\":{\"id\":\"13286\"},\"y_scale\":{\"id\":\"13295\"}},\"id\":\"13288\",\"subtype\":\"Figure\",\"type\":\"Plot\"},{\"attributes\":{},\"id\":\"13334\",\"type\":\"BasicTickFormatter\"},{\"attributes\":{},\"id\":\"13306\",\"type\":\"PanTool\"},{\"attributes\":{\"coordinates\":null,\"data_source\":{\"id\":\"13319\"},\"glyph\":{\"id\":\"13322\"},\"group\":null,\"hover_glyph\":null,\"muted_glyph\":{\"id\":\"13324\"},\"nonselection_glyph\":{\"id\":\"13323\"},\"selection_glyph\":{\"id\":\"13329\"},\"view\":{\"id\":\"13326\"}},\"id\":\"13325\",\"type\":\"GlyphRenderer\"},{\"attributes\":{\"axis_label\":\"population\",\"coordinates\":null,\"formatter\":{\"id\":\"13334\"},\"group\":null,\"major_label_policy\":{\"id\":\"13335\"},\"ticker\":{\"id\":\"13302\"}},\"id\":\"13301\",\"type\":\"LinearAxis\"},{\"attributes\":{\"aspect_scale\":1.0184641626684179,\"fill_alpha\":{\"value\":0.2},\"fill_color\":{\"field\":\"Count\",\"transform\":{\"id\":\"13318\"}},\"hatch_alpha\":{\"value\":0.2},\"hatch_color\":{\"field\":\"Count\",\"transform\":{\"id\":\"13318\"}},\"line_alpha\":{\"value\":0.2},\"line_color\":{\"field\":\"Count\",\"transform\":{\"id\":\"13318\"}},\"q\":{\"field\":\"q\"},\"r\":{\"field\":\"r\"},\"size\":0.06995962061706051},\"id\":\"13324\",\"type\":\"HexTile\"},{\"attributes\":{\"high\":294,\"low\":1,\"palette\":[\"#b3fef5\",\"#b0fef5\",\"#adfdf5\",\"#a9fcf5\",\"#a6fbf6\",\"#a3faf6\",\"#a0faf6\",\"#9df9f6\",\"#9af8f6\",\"#97f7f6\",\"#93f7f6\",\"#90f6f6\",\"#8df5f6\",\"#8af4f7\",\"#87f3f7\",\"#83f2f7\",\"#80f2f7\",\"#7df1f7\",\"#79f0f7\",\"#76eff7\",\"#73eef7\",\"#6fedf8\",\"#6cecf8\",\"#68ecf8\",\"#65ebf8\",\"#61eaf8\",\"#5ee9f8\",\"#5ae8f8\",\"#57e7f8\",\"#53e6f8\",\"#50e5f9\",\"#4ce4f9\",\"#49e3f9\",\"#45e2f9\",\"#42e1f9\",\"#3ee0f9\",\"#3bdff9\",\"#38def9\",\"#35ddf9\",\"#32dcf9\",\"#30dbfa\",\"#2ed9fa\",\"#2dd8fa\",\"#2cd7fa\",\"#2bd6fa\",\"#2bd5fa\",\"#2ad3fa\",\"#2ad2fa\",\"#29d1fa\",\"#29d0fb\",\"#29cffb\",\"#28cdfb\",\"#28ccfb\",\"#28cbfb\",\"#28cafb\",\"#28c8fb\",\"#28c7fb\",\"#29c6fb\",\"#29c5fb\",\"#29c4fb\",\"#29c2fb\",\"#2ac1fb\",\"#2ac0fb\",\"#2bbffb\",\"#2bbdfc\",\"#2cbcfc\",\"#2dbbfc\",\"#2db9fc\",\"#2eb8fc\",\"#2fb7fc\",\"#2fb6fc\",\"#30b4fc\",\"#31b3fc\",\"#32b2fc\",\"#32b0fc\",\"#33affc\",\"#33aefc\",\"#34adfc\",\"#34abfc\",\"#34aafc\",\"#35a9fc\",\"#35a8fc\",\"#35a6fc\",\"#35a5fc\",\"#35a4fc\",\"#35a3fc\",\"#35a1fc\",\"#35a0fc\",\"#359ffc\",\"#359dfc\",\"#359cfc\",\"#359bfc\",\"#349afd\",\"#3498fd\",\"#3497fd\",\"#3396fd\",\"#3395fd\",\"#3293fd\",\"#3292fd\",\"#3191fd\",\"#3090fd\",\"#308ffd\",\"#2f8dfd\",\"#2f8cfd\",\"#2e8bfd\",\"#2e8afd\",\"#2d88fd\",\"#2d87fd\",\"#2c86fd\",\"#2c84fd\",\"#2c83fd\",\"#2c82fd\",\"#2b81fd\",\"#2b7ffd\",\"#2b7efd\",\"#2b7dfd\",\"#2b7bfd\",\"#2b7afd\",\"#2b79fd\",\"#2b77fd\",\"#2b76fd\",\"#2b75fd\",\"#2b73fd\",\"#2c72fd\",\"#2c71fd\",\"#2c6ffd\",\"#2c6efd\",\"#2d6cfd\",\"#2d6bfd\",\"#2d6afc\",\"#2e68fc\",\"#2e67fc\",\"#2e65fc\",\"#2e64fc\",\"#2f62fc\",\"#2f61fc\",\"#2f5ffc\",\"#2f5efc\",\"#2f5dfc\",\"#2f5bfc\",\"#2f5afc\",\"#2f58fb\",\"#2f57fb\",\"#2f55fb\",\"#2f53fb\",\"#2f52fb\",\"#2f50fb\",\"#2f4ffb\",\"#2f4dfb\",\"#2e4cfb\",\"#2e4afb\",\"#2e48fb\",\"#2e47fa\",\"#2d45fa\",\"#2d43fa\",\"#2d42fa\",\"#2d40fa\",\"#2c3efa\",\"#2c3dfa\",\"#2b3bf9\",\"#2b39f9\",\"#2a37f9\",\"#2a36f8\",\"#2934f8\",\"#2832f7\",\"#2831f7\",\"#272ff6\",\"#262ef5\",\"#252cf5\",\"#252af4\",\"#2429f3\",\"#2327f2\",\"#2226f1\",\"#2124f0\",\"#2023ef\",\"#1f22ee\",\"#1e20ed\",\"#1d1feb\",\"#1c1eea\",\"#1b1ce9\",\"#1a1be7\",\"#181ae6\",\"#1719e5\",\"#1618e3\",\"#1417e1\",\"#1316e0\",\"#1215de\",\"#1014dc\",\"#0f13db\",\"#0e12d9\",\"#0d11d7\",\"#0c10d5\",\"#0b0fd3\",\"#0a0ed1\",\"#090dd0\",\"#080dce\",\"#080ccc\",\"#070bca\",\"#070ac8\",\"#0709c6\",\"#0708c4\",\"#0707c2\",\"#0707bf\",\"#0806bd\",\"#0806bb\",\"#0905b9\",\"#0904b7\",\"#0a04b5\",\"#0a04b2\",\"#0b03b0\",\"#0c03ae\",\"#0d02ab\",\"#0e02a9\",\"#0e02a7\",\"#0f02a4\",\"#0f01a2\",\"#1001a0\",\"#10019d\",\"#10019b\",\"#100199\",\"#100197\",\"#100194\",\"#0f0192\",\"#0f0190\",\"#0f018e\",\"#0e018b\",\"#0e0189\",\"#0d0187\",\"#0d0185\",\"#0c0183\",\"#0b0181\",\"#0b017e\",\"#0a017c\",\"#09017a\",\"#090178\",\"#080276\",\"#070274\",\"#060272\",\"#060270\",\"#05026e\",\"#04026c\",\"#030269\",\"#030267\",\"#020265\",\"#010263\",\"#010261\",\"#00025f\",\"#00025d\",\"#00025b\",\"#000259\",\"#000257\",\"#000255\",\"#000154\",\"#000152\",\"#000150\",\"#00004e\"]},\"id\":\"13318\",\"type\":\"LinearColorMapper\"},{\"attributes\":{\"axis_label\":\"households\",\"coordinates\":null,\"formatter\":{\"id\":\"13331\"},\"group\":null,\"major_label_policy\":{\"id\":\"13332\"},\"ticker\":{\"id\":\"13298\"}},\"id\":\"13297\",\"type\":\"LinearAxis\"},{\"attributes\":{\"axis\":{\"id\":\"13297\"},\"coordinates\":null,\"grid_line_color\":null,\"group\":null,\"ticker\":null},\"id\":\"13300\",\"type\":\"Grid\"},{\"attributes\":{},\"id\":\"13332\",\"type\":\"AllLabels\"},{\"attributes\":{},\"id\":\"13340\",\"type\":\"NoOverlap\"},{\"attributes\":{},\"id\":\"13320\",\"type\":\"Selection\"},{\"attributes\":{\"source\":{\"id\":\"13319\"}},\"id\":\"13326\",\"type\":\"CDSView\"},{\"attributes\":{},\"id\":\"13305\",\"type\":\"SaveTool\"}],\"root_ids\":[\"13283\"]},\"title\":\"Bokeh Application\",\"version\":\"2.4.3\"}};\n",
       "    var render_items = [{\"docid\":\"ff71bb6b-0b69-48c7-b694-f1778910a316\",\"root_ids\":[\"13283\"],\"roots\":{\"13283\":\"4e597968-fb5d-4f23-af39-d8140dea0c04\"}}];\n",
       "    root.Bokeh.embed.embed_items_notebook(docs_json, render_items);\n",
       "  }\n",
       "  if (root.Bokeh !== undefined && root.Bokeh.Panel !== undefined) {\n",
       "    embed_document(root);\n",
       "  } else {\n",
       "    var attempts = 0;\n",
       "    var timer = setInterval(function(root) {\n",
       "      if (root.Bokeh !== undefined && root.Bokeh.Panel !== undefined) {\n",
       "        clearInterval(timer);\n",
       "        embed_document(root);\n",
       "      } else if (document.readyState == \"complete\") {\n",
       "        attempts++;\n",
       "        if (attempts > 200) {\n",
       "          clearInterval(timer);\n",
       "          console.log(\"Bokeh: ERROR: Unable to run BokehJS code because BokehJS library is missing\");\n",
       "        }\n",
       "      }\n",
       "    }, 25, root)\n",
       "  }\n",
       "})(window);</script>"
      ],
      "text/plain": [
       ":HexTiles   [households,population]"
      ]
     },
     "execution_count": 20,
     "metadata": {
      "application/vnd.holoviews_exec.v0+json": {
       "id": "13283"
      }
     },
     "output_type": "execute_result"
    }
   ],
   "source": [
    "out = eda.get_bivariate_plots(train_X, x_cols=['households'], y_cols=['population'])\n",
    "out"
   ]
  },
  {
   "cell_type": "code",
   "execution_count": 21,
   "metadata": {},
   "outputs": [
    {
     "name": "stdout",
     "output_type": "stream",
     "text": [
      "CPU times: user 34.3 s, sys: 40.4 s, total: 1min 14s\n",
      "Wall time: 22.2 s\n"
     ]
    }
   ],
   "source": [
    "%%time\n",
    "# create reports as needed\n",
    "cols = train_X.columns.to_list()\n",
    "all_plots = {}\n",
    "for ii, col1 in enumerate(cols):\n",
    "    for jj in range(ii+1, len(cols)):\n",
    "        col2 = cols[jj]\n",
    "        out = eda.get_bivariate_plots(train_X, x_cols=[col1], y_cols=[col2])\n",
    "        all_plots.update({f'{col2} vs {col1}': out})\n",
    "\n",
    "reports.create_report(all_plots, name='feature_analysis_bivariate')"
   ]
  },
  {
   "cell_type": "markdown",
   "metadata": {},
   "source": [
    "A report containing the bivariate plot is available [here](https://drive.google.com/file/d/1WSGT3586tY-rOmZ57xGILbmL5ll9cSVT/view?usp=sharing)\n",
    "\n",
    "Alternatively, the above plots can be generated as a single html as below. The output from this is available [here](https://drive.google.com/file/d/1A2fz_bjYv8I3iaFDT75JQSDKeJEXxCtp/view?usp=sharing)"
   ]
  },
  {
   "cell_type": "code",
   "execution_count": 22,
   "metadata": {},
   "outputs": [],
   "source": [
    "reports.feature_interactions(train_X,'./feature_interaction_report.html')"
   ]
  },
  {
   "cell_type": "markdown",
   "metadata": {},
   "source": [
    "### 3.2.3 Key Drivers - Interaction with Target variable"
   ]
  },
  {
   "cell_type": "code",
   "execution_count": 23,
   "metadata": {},
   "outputs": [
    {
     "data": {},
     "metadata": {},
     "output_type": "display_data"
    },
    {
     "data": {},
     "metadata": {},
     "output_type": "display_data"
    },
    {
     "data": {
      "application/vnd.holoviews_exec.v0+json": "",
      "text/html": [
       "<div id='33084'>\n",
       "  <div class=\"bk-root\" id=\"e45c395b-59ff-4ab1-bcd9-395e9eea5fc9\" data-root-id=\"33084\"></div>\n",
       "</div>\n",
       "<script type=\"application/javascript\">(function(root) {\n",
       "  function embed_document(root) {\n",
       "    var docs_json = {\"55d90fc1-8e8a-4307-bef9-6f584e26523c\":{\"defs\":[{\"extends\":null,\"module\":null,\"name\":\"ReactiveHTML1\",\"overrides\":[],\"properties\":[]},{\"extends\":null,\"module\":null,\"name\":\"FlexBox1\",\"overrides\":[],\"properties\":[{\"default\":\"flex-start\",\"kind\":null,\"name\":\"align_content\"},{\"default\":\"flex-start\",\"kind\":null,\"name\":\"align_items\"},{\"default\":\"row\",\"kind\":null,\"name\":\"flex_direction\"},{\"default\":\"wrap\",\"kind\":null,\"name\":\"flex_wrap\"},{\"default\":\"flex-start\",\"kind\":null,\"name\":\"justify_content\"}]},{\"extends\":null,\"module\":null,\"name\":\"GridStack1\",\"overrides\":[],\"properties\":[{\"default\":\"warn\",\"kind\":null,\"name\":\"mode\"},{\"default\":null,\"kind\":null,\"name\":\"ncols\"},{\"default\":null,\"kind\":null,\"name\":\"nrows\"},{\"default\":true,\"kind\":null,\"name\":\"allow_resize\"},{\"default\":true,\"kind\":null,\"name\":\"allow_drag\"},{\"default\":[],\"kind\":null,\"name\":\"state\"}]},{\"extends\":null,\"module\":null,\"name\":\"click1\",\"overrides\":[],\"properties\":[{\"default\":\"\",\"kind\":null,\"name\":\"terminal_output\"},{\"default\":\"\",\"kind\":null,\"name\":\"debug_name\"},{\"default\":0,\"kind\":null,\"name\":\"clears\"}]},{\"extends\":null,\"module\":null,\"name\":\"NotificationAreaBase1\",\"overrides\":[],\"properties\":[{\"default\":\"bottom-right\",\"kind\":null,\"name\":\"position\"},{\"default\":0,\"kind\":null,\"name\":\"_clear\"}]},{\"extends\":null,\"module\":null,\"name\":\"NotificationArea1\",\"overrides\":[],\"properties\":[{\"default\":[],\"kind\":null,\"name\":\"notifications\"},{\"default\":\"bottom-right\",\"kind\":null,\"name\":\"position\"},{\"default\":0,\"kind\":null,\"name\":\"_clear\"},{\"default\":[{\"background\":\"#ffc107\",\"icon\":{\"className\":\"fas fa-exclamation-triangle\",\"color\":\"white\",\"tagName\":\"i\"},\"type\":\"warning\"},{\"background\":\"#007bff\",\"icon\":{\"className\":\"fas fa-info-circle\",\"color\":\"white\",\"tagName\":\"i\"},\"type\":\"info\"}],\"kind\":null,\"name\":\"types\"}]},{\"extends\":null,\"module\":null,\"name\":\"Notification\",\"overrides\":[],\"properties\":[{\"default\":null,\"kind\":null,\"name\":\"background\"},{\"default\":3000,\"kind\":null,\"name\":\"duration\"},{\"default\":null,\"kind\":null,\"name\":\"icon\"},{\"default\":\"\",\"kind\":null,\"name\":\"message\"},{\"default\":null,\"kind\":null,\"name\":\"notification_type\"},{\"default\":false,\"kind\":null,\"name\":\"_destroyed\"}]},{\"extends\":null,\"module\":null,\"name\":\"TemplateActions1\",\"overrides\":[],\"properties\":[{\"default\":0,\"kind\":null,\"name\":\"open_modal\"},{\"default\":0,\"kind\":null,\"name\":\"close_modal\"}]},{\"extends\":null,\"module\":null,\"name\":\"MaterialTemplateActions1\",\"overrides\":[],\"properties\":[{\"default\":0,\"kind\":null,\"name\":\"open_modal\"},{\"default\":0,\"kind\":null,\"name\":\"close_modal\"}]}],\"roots\":{\"references\":[{\"attributes\":{},\"id\":\"33108\",\"type\":\"ResetTool\"},{\"attributes\":{\"axis_label\":\"\",\"coordinates\":null,\"formatter\":{\"id\":\"33130\"},\"group\":null,\"major_label_policy\":{\"id\":\"33131\"},\"ticker\":{\"id\":\"33102\"}},\"id\":\"33101\",\"type\":\"CategoricalAxis\"},{\"attributes\":{\"coordinates\":null,\"group\":null,\"text\":\"Feature Correlation with Target Function\",\"text_color\":\"black\",\"text_font_size\":\"12pt\"},\"id\":\"33089\",\"type\":\"Title\"},{\"attributes\":{\"axis\":{\"id\":\"33101\"},\"coordinates\":null,\"dimension\":1,\"grid_line_color\":null,\"group\":null,\"ticker\":null},\"id\":\"33103\",\"type\":\"Grid\"},{\"attributes\":{\"source\":{\"id\":\"33117\"}},\"id\":\"33124\",\"type\":\"CDSView\"},{\"attributes\":{},\"id\":\"33106\",\"type\":\"WheelZoomTool\"},{\"attributes\":{\"below\":[{\"id\":\"33097\"}],\"center\":[{\"id\":\"33100\"},{\"id\":\"33103\"}],\"height\":300,\"left\":[{\"id\":\"33101\"}],\"margin\":[5,5,5,5],\"min_border_bottom\":10,\"min_border_left\":10,\"min_border_right\":10,\"min_border_top\":10,\"renderers\":[{\"id\":\"33123\"}],\"sizing_mode\":\"fixed\",\"title\":{\"id\":\"33089\"},\"toolbar\":{\"id\":\"33110\"},\"width\":700,\"x_range\":{\"id\":\"33085\"},\"x_scale\":{\"id\":\"33093\"},\"y_range\":{\"id\":\"33086\"},\"y_scale\":{\"id\":\"33095\"}},\"id\":\"33088\",\"subtype\":\"Figure\",\"type\":\"Plot\"},{\"attributes\":{\"bottom_units\":\"screen\",\"coordinates\":null,\"fill_alpha\":0.5,\"fill_color\":\"lightgrey\",\"group\":null,\"left_units\":\"screen\",\"level\":\"overlay\",\"line_alpha\":1.0,\"line_color\":\"black\",\"line_dash\":[4,4],\"line_width\":2,\"right_units\":\"screen\",\"syncable\":false,\"top_units\":\"screen\"},\"id\":\"33109\",\"type\":\"BoxAnnotation\"},{\"attributes\":{\"fill_color\":{\"value\":\"#30a2da\"},\"hatch_color\":{\"value\":\"#30a2da\"},\"height\":{\"value\":0.8},\"right\":{\"field\":\"Pearson_correlation_with_Target\"},\"y\":{\"field\":\"index\"}},\"id\":\"33120\",\"type\":\"HBar\"},{\"attributes\":{},\"id\":\"33105\",\"type\":\"PanTool\"},{\"attributes\":{\"tools\":[{\"id\":\"33087\"},{\"id\":\"33104\"},{\"id\":\"33105\"},{\"id\":\"33106\"},{\"id\":\"33107\"},{\"id\":\"33108\"}]},\"id\":\"33110\",\"type\":\"Toolbar\"},{\"attributes\":{\"fill_alpha\":{\"value\":0.2},\"fill_color\":{\"value\":\"#30a2da\"},\"hatch_alpha\":{\"value\":0.2},\"hatch_color\":{\"value\":\"#30a2da\"},\"height\":{\"value\":0.8},\"line_alpha\":{\"value\":0.2},\"right\":{\"field\":\"Pearson_correlation_with_Target\"},\"y\":{\"field\":\"index\"}},\"id\":\"33122\",\"type\":\"HBar\"},{\"attributes\":{},\"id\":\"33104\",\"type\":\"SaveTool\"},{\"attributes\":{\"factors\":[\"ocean_proximity_INLAND\",\"bedrooms_per_room\",\"population_per_household\",\"latitude\",\"longitude\",\"population\",\"ocean_proximity_ISLAND\",\"households\",\"housing_median_age\",\"ocean_proximity_NEAR OCEAN\",\"total_rooms\",\"ocean_proximity_NEAR BAY\",\"ocean_proximity_1H OCEAN\",\"rooms_per_household\",\"median_income\"],\"tags\":[[[\"index\",\"index\",null]]]},\"id\":\"33086\",\"type\":\"FactorRange\"},{\"attributes\":{},\"id\":\"33093\",\"type\":\"LinearScale\"},{\"attributes\":{\"axis\":{\"id\":\"33097\"},\"coordinates\":null,\"grid_line_color\":null,\"group\":null,\"ticker\":null},\"id\":\"33100\",\"type\":\"Grid\"},{\"attributes\":{},\"id\":\"33131\",\"type\":\"AllLabels\"},{\"attributes\":{},\"id\":\"33098\",\"type\":\"BasicTicker\"},{\"attributes\":{\"overlay\":{\"id\":\"33109\"}},\"id\":\"33107\",\"type\":\"BoxZoomTool\"},{\"attributes\":{},\"id\":\"33128\",\"type\":\"AllLabels\"},{\"attributes\":{\"fill_alpha\":{\"value\":0.1},\"fill_color\":{\"value\":\"#30a2da\"},\"hatch_alpha\":{\"value\":0.1},\"hatch_color\":{\"value\":\"#30a2da\"},\"height\":{\"value\":0.8},\"line_alpha\":{\"value\":0.1},\"right\":{\"field\":\"Pearson_correlation_with_Target\"},\"y\":{\"field\":\"index\"}},\"id\":\"33121\",\"type\":\"HBar\"},{\"attributes\":{\"end\":0.8156442317436541,\"reset_end\":0.8156442317436541,\"reset_start\":-0.6003803855169763,\"start\":-0.6003803855169763,\"tags\":[[[\"Pearson_correlation_with_Target\",\"Pearson_correlation_with_Target\",null]]]},\"id\":\"33085\",\"type\":\"Range1d\"},{\"attributes\":{},\"id\":\"33127\",\"type\":\"BasicTickFormatter\"},{\"attributes\":{},\"id\":\"33118\",\"type\":\"Selection\"},{\"attributes\":{},\"id\":\"33095\",\"type\":\"CategoricalScale\"},{\"attributes\":{\"client_comm_id\":\"0c2d3f6fc060462d93bc3c6945814c96\",\"comm_id\":\"9ef42d9342814305a9fc6765379b68ca\",\"plot_id\":\"33084\"},\"id\":\"33173\",\"type\":\"panel.models.comm_manager.CommManager\"},{\"attributes\":{\"coordinates\":null,\"data_source\":{\"id\":\"33117\"},\"glyph\":{\"id\":\"33120\"},\"group\":null,\"hover_glyph\":null,\"muted_glyph\":{\"id\":\"33122\"},\"nonselection_glyph\":{\"id\":\"33121\"},\"selection_glyph\":{\"id\":\"33125\"},\"view\":{\"id\":\"33124\"}},\"id\":\"33123\",\"type\":\"GlyphRenderer\"},{\"attributes\":{\"callback\":null,\"renderers\":[{\"id\":\"33123\"}],\"tags\":[\"hv_created\"],\"tooltips\":[[\"index\",\"@{index}\"],[\"Pearson_correlation_with_Target\",\"@{Pearson_correlation_with_Target}\"]]},\"id\":\"33087\",\"type\":\"HoverTool\"},{\"attributes\":{},\"id\":\"33139\",\"type\":\"UnionRenderers\"},{\"attributes\":{\"axis_label\":\"Pearson_correlation_with_Target\",\"coordinates\":null,\"formatter\":{\"id\":\"33127\"},\"group\":null,\"major_label_policy\":{\"id\":\"33128\"},\"ticker\":{\"id\":\"33098\"}},\"id\":\"33097\",\"type\":\"LinearAxis\"},{\"attributes\":{},\"id\":\"33130\",\"type\":\"CategoricalTickFormatter\"},{\"attributes\":{},\"id\":\"33102\",\"type\":\"CategoricalTicker\"},{\"attributes\":{\"fill_alpha\":{\"value\":1.0},\"fill_color\":{\"value\":\"#30a2da\"},\"hatch_alpha\":{\"value\":1.0},\"hatch_color\":{\"value\":\"#30a2da\"},\"hatch_scale\":{\"value\":12.0},\"hatch_weight\":{\"value\":1.0},\"height\":{\"value\":0.8},\"left\":{\"value\":0},\"line_alpha\":{\"value\":1.0},\"line_cap\":{\"value\":\"butt\"},\"line_color\":{\"value\":\"black\"},\"line_dash\":{\"value\":[]},\"line_dash_offset\":{\"value\":0},\"line_join\":{\"value\":\"bevel\"},\"line_width\":{\"value\":1},\"right\":{\"field\":\"Pearson_correlation_with_Target\"},\"y\":{\"field\":\"index\"}},\"id\":\"33125\",\"type\":\"HBar\"},{\"attributes\":{\"margin\":[0,0,0,0],\"tabs\":[{\"id\":\"33142\"}]},\"id\":\"33084\",\"type\":\"panel.models.tabs.Tabs\"},{\"attributes\":{\"data\":{\"Pearson_correlation_with_Target\":{\"__ndarray__\":\"EqhKYEnf3r8O1VWHxhnSv8a+o71SK8i/NuoxIy6owr8CmwByrfylvyAMKvUuo52/ViWx8rkwmz+4hpKMS2OzP2AVCwEzc7s/vTOn9LuxwT+YoAT61RHEP74GaWQfGMQ/jieLhauE0D/Ul2jsHWfRP5UUl7EVU+Y/\",\"dtype\":\"float64\",\"order\":\"little\",\"shape\":[15]},\"index\":[\"ocean_proximity_INLAND\",\"bedrooms_per_room\",\"population_per_household\",\"latitude\",\"longitude\",\"population\",\"ocean_proximity_ISLAND\",\"households\",\"housing_median_age\",\"ocean_proximity_NEAR OCEAN\",\"total_rooms\",\"ocean_proximity_NEAR BAY\",\"ocean_proximity_1H OCEAN\",\"rooms_per_household\",\"median_income\"]},\"selected\":{\"id\":\"33118\"},\"selection_policy\":{\"id\":\"33139\"}},\"id\":\"33117\",\"type\":\"ColumnDataSource\"},{\"attributes\":{\"child\":{\"id\":\"33088\"},\"name\":\"feature_correlation\",\"title\":\"feature_correlation\"},\"id\":\"33142\",\"type\":\"Panel\"}],\"root_ids\":[\"33084\",\"33173\"]},\"title\":\"Bokeh Application\",\"version\":\"2.4.3\"}};\n",
       "    var render_items = [{\"docid\":\"55d90fc1-8e8a-4307-bef9-6f584e26523c\",\"root_ids\":[\"33084\"],\"roots\":{\"33084\":\"e45c395b-59ff-4ab1-bcd9-395e9eea5fc9\"}}];\n",
       "    root.Bokeh.embed.embed_items_notebook(docs_json, render_items);\n",
       "  }\n",
       "  if (root.Bokeh !== undefined && root.Bokeh.Panel !== undefined) {\n",
       "    embed_document(root);\n",
       "  } else {\n",
       "    var attempts = 0;\n",
       "    var timer = setInterval(function(root) {\n",
       "      if (root.Bokeh !== undefined && root.Bokeh.Panel !== undefined) {\n",
       "        clearInterval(timer);\n",
       "        embed_document(root);\n",
       "      } else if (document.readyState == \"complete\") {\n",
       "        attempts++;\n",
       "        if (attempts > 200) {\n",
       "          clearInterval(timer);\n",
       "          console.log(\"Bokeh: ERROR: Unable to run BokehJS code because BokehJS library is missing\");\n",
       "        }\n",
       "      }\n",
       "    }, 25, root)\n",
       "  }\n",
       "})(window);</script>"
      ],
      "text/plain": [
       "Tabs\n",
       "    [0] HoloViews(Bars, name='feature_correlation')"
      ]
     },
     "execution_count": 23,
     "metadata": {
      "application/vnd.holoviews_exec.v0+json": {
       "id": "33084"
      }
     },
     "output_type": "execute_result"
    }
   ],
   "source": [
    "out = eda.get_target_correlation(train_X, train_y, y_continuous=True)\n",
    "display_as_tabs([(k, v) for k,v in out.items()])"
   ]
  },
  {
   "cell_type": "code",
   "execution_count": 24,
   "metadata": {},
   "outputs": [
    {
     "data": {
      "text/plain": [
       "0        187800.0\n",
       "1        136600.0\n",
       "2        400000.0\n",
       "3        106300.0\n",
       "4         43500.0\n",
       "           ...   \n",
       "16507    132300.0\n",
       "16508    101300.0\n",
       "16509    500001.0\n",
       "16510    244900.0\n",
       "16511    117600.0\n",
       "Name: median_house_value, Length: 16512, dtype: float64"
      ]
     },
     "execution_count": 24,
     "metadata": {},
     "output_type": "execute_result"
    }
   ],
   "source": [
    "train_y['median_house_value']"
   ]
  },
  {
   "cell_type": "code",
   "execution_count": 25,
   "metadata": {},
   "outputs": [
    {
     "data": {},
     "metadata": {},
     "output_type": "display_data"
    },
    {
     "data": {},
     "metadata": {},
     "output_type": "display_data"
    },
    {
     "data": {
      "application/vnd.holoviews_exec.v0+json": "",
      "text/html": [
       "<div id='33224'>\n",
       "  <div class=\"bk-root\" id=\"8fe3f7b9-4542-421c-be0e-a8667efde718\" data-root-id=\"33224\"></div>\n",
       "</div>\n",
       "<script type=\"application/javascript\">(function(root) {\n",
       "  function embed_document(root) {\n",
       "    var docs_json = {\"10654b1d-1bac-465a-b96b-b972b03e222f\":{\"defs\":[{\"extends\":null,\"module\":null,\"name\":\"ReactiveHTML1\",\"overrides\":[],\"properties\":[]},{\"extends\":null,\"module\":null,\"name\":\"FlexBox1\",\"overrides\":[],\"properties\":[{\"default\":\"flex-start\",\"kind\":null,\"name\":\"align_content\"},{\"default\":\"flex-start\",\"kind\":null,\"name\":\"align_items\"},{\"default\":\"row\",\"kind\":null,\"name\":\"flex_direction\"},{\"default\":\"wrap\",\"kind\":null,\"name\":\"flex_wrap\"},{\"default\":\"flex-start\",\"kind\":null,\"name\":\"justify_content\"}]},{\"extends\":null,\"module\":null,\"name\":\"GridStack1\",\"overrides\":[],\"properties\":[{\"default\":\"warn\",\"kind\":null,\"name\":\"mode\"},{\"default\":null,\"kind\":null,\"name\":\"ncols\"},{\"default\":null,\"kind\":null,\"name\":\"nrows\"},{\"default\":true,\"kind\":null,\"name\":\"allow_resize\"},{\"default\":true,\"kind\":null,\"name\":\"allow_drag\"},{\"default\":[],\"kind\":null,\"name\":\"state\"}]},{\"extends\":null,\"module\":null,\"name\":\"click1\",\"overrides\":[],\"properties\":[{\"default\":\"\",\"kind\":null,\"name\":\"terminal_output\"},{\"default\":\"\",\"kind\":null,\"name\":\"debug_name\"},{\"default\":0,\"kind\":null,\"name\":\"clears\"}]},{\"extends\":null,\"module\":null,\"name\":\"NotificationAreaBase1\",\"overrides\":[],\"properties\":[{\"default\":\"bottom-right\",\"kind\":null,\"name\":\"position\"},{\"default\":0,\"kind\":null,\"name\":\"_clear\"}]},{\"extends\":null,\"module\":null,\"name\":\"NotificationArea1\",\"overrides\":[],\"properties\":[{\"default\":[],\"kind\":null,\"name\":\"notifications\"},{\"default\":\"bottom-right\",\"kind\":null,\"name\":\"position\"},{\"default\":0,\"kind\":null,\"name\":\"_clear\"},{\"default\":[{\"background\":\"#ffc107\",\"icon\":{\"className\":\"fas fa-exclamation-triangle\",\"color\":\"white\",\"tagName\":\"i\"},\"type\":\"warning\"},{\"background\":\"#007bff\",\"icon\":{\"className\":\"fas fa-info-circle\",\"color\":\"white\",\"tagName\":\"i\"},\"type\":\"info\"}],\"kind\":null,\"name\":\"types\"}]},{\"extends\":null,\"module\":null,\"name\":\"Notification\",\"overrides\":[],\"properties\":[{\"default\":null,\"kind\":null,\"name\":\"background\"},{\"default\":3000,\"kind\":null,\"name\":\"duration\"},{\"default\":null,\"kind\":null,\"name\":\"icon\"},{\"default\":\"\",\"kind\":null,\"name\":\"message\"},{\"default\":null,\"kind\":null,\"name\":\"notification_type\"},{\"default\":false,\"kind\":null,\"name\":\"_destroyed\"}]},{\"extends\":null,\"module\":null,\"name\":\"TemplateActions1\",\"overrides\":[],\"properties\":[{\"default\":0,\"kind\":null,\"name\":\"open_modal\"},{\"default\":0,\"kind\":null,\"name\":\"close_modal\"}]},{\"extends\":null,\"module\":null,\"name\":\"MaterialTemplateActions1\",\"overrides\":[],\"properties\":[{\"default\":0,\"kind\":null,\"name\":\"open_modal\"},{\"default\":0,\"kind\":null,\"name\":\"close_modal\"}]}],\"roots\":{\"references\":[{\"attributes\":{},\"id\":\"33258\",\"type\":\"Selection\"},{\"attributes\":{},\"id\":\"33246\",\"type\":\"WheelZoomTool\"},{\"attributes\":{},\"id\":\"33270\",\"type\":\"CategoricalTickFormatter\"},{\"attributes\":{\"height\":750,\"margin\":[5,5,5,5],\"name\":\"shap_values\",\"text\":\"&lt;img src=&quot;data:image/png;base64,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&quot; width=&quot;800px&quot; height=&quot;750px&quot; alt=&quot;&quot;&gt;&lt;/img&gt;\",\"width\":800},\"id\":\"33283\",\"type\":\"panel.models.markup.HTML\"},{\"attributes\":{\"data\":{\"importance\":{\"__ndarray__\":\"w6f6QODvTMDlMOrgExNMwHS8pSEQoEPAhqxaBB8aJsBXeVV50poFwA7/HA42EP+/9iEjEXgr678AAAAAAAAAAAAAAAAAAAAAAOXb+dU24D+fJrXX09QoQP+TZP+8KTBArFrTxvOXOEAaYt9LoSpHQD8C/MccYVNA\",\"dtype\":\"float64\",\"order\":\"little\",\"shape\":[15]},\"index\":[\"latitude\",\"longitude\",\"population\",\"ocean_proximity_INLAND\",\"total_rooms\",\"population_per_household\",\"ocean_proximity_NEAR BAY\",\"ocean_proximity_1H OCEAN\",\"ocean_proximity_ISLAND\",\"ocean_proximity_NEAR OCEAN\",\"rooms_per_household\",\"housing_median_age\",\"bedrooms_per_room\",\"households\",\"median_income\"]},\"selected\":{\"id\":\"33258\"},\"selection_policy\":{\"id\":\"33279\"}},\"id\":\"33257\",\"type\":\"ColumnDataSource\"},{\"attributes\":{},\"id\":\"33244\",\"type\":\"SaveTool\"},{\"attributes\":{\"coordinates\":null,\"data_source\":{\"id\":\"33257\"},\"glyph\":{\"id\":\"33260\"},\"group\":null,\"hover_glyph\":null,\"muted_glyph\":{\"id\":\"33262\"},\"nonselection_glyph\":{\"id\":\"33261\"},\"selection_glyph\":{\"id\":\"33265\"},\"view\":{\"id\":\"33264\"}},\"id\":\"33263\",\"type\":\"GlyphRenderer\"},{\"attributes\":{},\"id\":\"33238\",\"type\":\"BasicTicker\"},{\"attributes\":{\"end\":91.05652294917257,\"reset_end\":91.05652294917257,\"reset_start\":-71.41317246841388,\"start\":-71.41317246841388,\"tags\":[[[\"importance\",\"importance\",null]]]},\"id\":\"33225\",\"type\":\"Range1d\"},{\"attributes\":{\"fill_alpha\":{\"value\":0.1},\"fill_color\":{\"value\":\"#30a2da\"},\"hatch_alpha\":{\"value\":0.1},\"hatch_color\":{\"value\":\"#30a2da\"},\"height\":{\"value\":0.8},\"line_alpha\":{\"value\":0.1},\"right\":{\"field\":\"importance\"},\"y\":{\"field\":\"index\"}},\"id\":\"33261\",\"type\":\"HBar\"},{\"attributes\":{\"factors\":[\"latitude\",\"longitude\",\"population\",\"ocean_proximity_INLAND\",\"total_rooms\",\"population_per_household\",\"ocean_proximity_NEAR BAY\",\"ocean_proximity_1H OCEAN\",\"ocean_proximity_ISLAND\",\"ocean_proximity_NEAR OCEAN\",\"rooms_per_household\",\"housing_median_age\",\"bedrooms_per_room\",\"households\",\"median_income\"],\"tags\":[[[\"index\",\"index\",null]]]},\"id\":\"33226\",\"type\":\"FactorRange\"},{\"attributes\":{\"coordinates\":null,\"group\":null,\"text\":\"Feature Importances from LassoCV\",\"text_color\":\"black\",\"text_font_size\":\"12pt\"},\"id\":\"33229\",\"type\":\"Title\"},{\"attributes\":{\"child\":{\"id\":\"33283\"},\"name\":\"shap_values\",\"title\":\"shap_values\"},\"id\":\"33284\",\"type\":\"Panel\"},{\"attributes\":{},\"id\":\"33268\",\"type\":\"AllLabels\"},{\"attributes\":{\"axis\":{\"id\":\"33241\"},\"coordinates\":null,\"dimension\":1,\"grid_line_color\":null,\"group\":null,\"ticker\":null},\"id\":\"33243\",\"type\":\"Grid\"},{\"attributes\":{\"tools\":[{\"id\":\"33227\"},{\"id\":\"33244\"},{\"id\":\"33245\"},{\"id\":\"33246\"},{\"id\":\"33247\"},{\"id\":\"33248\"}]},\"id\":\"33250\",\"type\":\"Toolbar\"},{\"attributes\":{\"overlay\":{\"id\":\"33249\"}},\"id\":\"33247\",\"type\":\"BoxZoomTool\"},{\"attributes\":{\"fill_color\":{\"value\":\"#30a2da\"},\"hatch_color\":{\"value\":\"#30a2da\"},\"height\":{\"value\":0.8},\"right\":{\"field\":\"importance\"},\"y\":{\"field\":\"index\"}},\"id\":\"33260\",\"type\":\"HBar\"},{\"attributes\":{\"axis\":{\"id\":\"33237\"},\"coordinates\":null,\"grid_line_color\":null,\"group\":null,\"ticker\":null},\"id\":\"33240\",\"type\":\"Grid\"},{\"attributes\":{},\"id\":\"33271\",\"type\":\"AllLabels\"},{\"attributes\":{\"source\":{\"id\":\"33257\"}},\"id\":\"33264\",\"type\":\"CDSView\"},{\"attributes\":{\"child\":{\"id\":\"33228\"},\"name\":\"from_model\",\"title\":\"from_model\"},\"id\":\"33282\",\"type\":\"Panel\"},{\"attributes\":{},\"id\":\"33248\",\"type\":\"ResetTool\"},{\"attributes\":{},\"id\":\"33267\",\"type\":\"BasicTickFormatter\"},{\"attributes\":{},\"id\":\"33235\",\"type\":\"CategoricalScale\"},{\"attributes\":{},\"id\":\"33242\",\"type\":\"CategoricalTicker\"},{\"attributes\":{\"client_comm_id\":\"db4cb03163454d628d304b5a079f5ba9\",\"comm_id\":\"bdcf0c7d06864e37852d32b2e94cf98a\",\"plot_id\":\"33224\"},\"id\":\"33315\",\"type\":\"panel.models.comm_manager.CommManager\"},{\"attributes\":{\"axis_label\":\"Feature Importance [determined by coeff * mean(x)]\",\"coordinates\":null,\"formatter\":{\"id\":\"33267\"},\"group\":null,\"major_label_policy\":{\"id\":\"33268\"},\"ticker\":{\"id\":\"33238\"}},\"id\":\"33237\",\"type\":\"LinearAxis\"},{\"attributes\":{\"bottom_units\":\"screen\",\"coordinates\":null,\"fill_alpha\":0.5,\"fill_color\":\"lightgrey\",\"group\":null,\"left_units\":\"screen\",\"level\":\"overlay\",\"line_alpha\":1.0,\"line_color\":\"black\",\"line_dash\":[4,4],\"line_width\":2,\"right_units\":\"screen\",\"syncable\":false,\"top_units\":\"screen\"},\"id\":\"33249\",\"type\":\"BoxAnnotation\"},{\"attributes\":{\"axis_label\":\"Features\",\"coordinates\":null,\"formatter\":{\"id\":\"33270\"},\"group\":null,\"major_label_policy\":{\"id\":\"33271\"},\"ticker\":{\"id\":\"33242\"}},\"id\":\"33241\",\"type\":\"CategoricalAxis\"},{\"attributes\":{\"fill_alpha\":{\"value\":1.0},\"fill_color\":{\"value\":\"#30a2da\"},\"hatch_alpha\":{\"value\":1.0},\"hatch_color\":{\"value\":\"#30a2da\"},\"hatch_scale\":{\"value\":12.0},\"hatch_weight\":{\"value\":1.0},\"height\":{\"value\":0.8},\"left\":{\"value\":0},\"line_alpha\":{\"value\":1.0},\"line_cap\":{\"value\":\"butt\"},\"line_color\":{\"value\":\"black\"},\"line_dash\":{\"value\":[]},\"line_dash_offset\":{\"value\":0},\"line_join\":{\"value\":\"bevel\"},\"line_width\":{\"value\":1},\"right\":{\"field\":\"importance\"},\"y\":{\"field\":\"index\"}},\"id\":\"33265\",\"type\":\"HBar\"},{\"attributes\":{\"callback\":null,\"renderers\":[{\"id\":\"33263\"}],\"tags\":[\"hv_created\"],\"tooltips\":[[\"index\",\"@{index}\"],[\"importance\",\"@{importance}\"]]},\"id\":\"33227\",\"type\":\"HoverTool\"},{\"attributes\":{},\"id\":\"33245\",\"type\":\"PanTool\"},{\"attributes\":{},\"id\":\"33279\",\"type\":\"UnionRenderers\"},{\"attributes\":{},\"id\":\"33233\",\"type\":\"LinearScale\"},{\"attributes\":{\"fill_alpha\":{\"value\":0.2},\"fill_color\":{\"value\":\"#30a2da\"},\"hatch_alpha\":{\"value\":0.2},\"hatch_color\":{\"value\":\"#30a2da\"},\"height\":{\"value\":0.8},\"line_alpha\":{\"value\":0.2},\"right\":{\"field\":\"importance\"},\"y\":{\"field\":\"index\"}},\"id\":\"33262\",\"type\":\"HBar\"},{\"attributes\":{\"margin\":[0,0,0,0],\"tabs\":[{\"id\":\"33282\"},{\"id\":\"33284\"}]},\"id\":\"33224\",\"type\":\"panel.models.tabs.Tabs\"},{\"attributes\":{\"below\":[{\"id\":\"33237\"}],\"center\":[{\"id\":\"33240\"},{\"id\":\"33243\"}],\"height\":300,\"left\":[{\"id\":\"33241\"}],\"margin\":[5,5,5,5],\"min_border_bottom\":10,\"min_border_left\":10,\"min_border_right\":10,\"min_border_top\":10,\"renderers\":[{\"id\":\"33263\"}],\"sizing_mode\":\"fixed\",\"title\":{\"id\":\"33229\"},\"toolbar\":{\"id\":\"33250\"},\"width\":700,\"x_range\":{\"id\":\"33225\"},\"x_scale\":{\"id\":\"33233\"},\"y_range\":{\"id\":\"33226\"},\"y_scale\":{\"id\":\"33235\"}},\"id\":\"33228\",\"subtype\":\"Figure\",\"type\":\"Plot\"}],\"root_ids\":[\"33224\",\"33315\"]},\"title\":\"Bokeh Application\",\"version\":\"2.4.3\"}};\n",
       "    var render_items = [{\"docid\":\"10654b1d-1bac-465a-b96b-b972b03e222f\",\"root_ids\":[\"33224\"],\"roots\":{\"33224\":\"8fe3f7b9-4542-421c-be0e-a8667efde718\"}}];\n",
       "    root.Bokeh.embed.embed_items_notebook(docs_json, render_items);\n",
       "  }\n",
       "  if (root.Bokeh !== undefined && root.Bokeh.Panel !== undefined) {\n",
       "    embed_document(root);\n",
       "  } else {\n",
       "    var attempts = 0;\n",
       "    var timer = setInterval(function(root) {\n",
       "      if (root.Bokeh !== undefined && root.Bokeh.Panel !== undefined) {\n",
       "        clearInterval(timer);\n",
       "        embed_document(root);\n",
       "      } else if (document.readyState == \"complete\") {\n",
       "        attempts++;\n",
       "        if (attempts > 200) {\n",
       "          clearInterval(timer);\n",
       "          console.log(\"Bokeh: ERROR: Unable to run BokehJS code because BokehJS library is missing\");\n",
       "        }\n",
       "      }\n",
       "    }, 25, root)\n",
       "  }\n",
       "})(window);</script>"
      ],
      "text/plain": [
       "Tabs\n",
       "    [0] HoloViews(Bars, name='from_model')\n",
       "    [1] Matplotlib(Figure, name='shap_values')"
      ]
     },
     "execution_count": 25,
     "metadata": {
      "application/vnd.holoviews_exec.v0+json": {
       "id": "33224"
      }
     },
     "output_type": "execute_result"
    }
   ],
   "source": [
    "out = eda.get_feature_importances(train_X, train_y, y_continuous=True)\n",
    "display_as_tabs([(k, v) for k,v in out.items()])"
   ]
  },
  {
   "cell_type": "markdown",
   "metadata": {},
   "source": [
    "Key drivers report like feature importance, bivariate plots can be obtained as below"
   ]
  },
  {
   "cell_type": "code",
   "execution_count": 26,
   "metadata": {},
   "outputs": [],
   "source": [
    "reports.key_drivers(train_X,train_y, './key_drivers_report.html', y_continuous=True)"
   ]
  },
  {
   "cell_type": "markdown",
   "metadata": {},
   "source": [
    "**Dev Notes**\n",
    "<details>\n",
    "    \n",
    "- The SHAP plots and bivariate plots in key drivers reports can be obtained by including quick=False as a parameter to key_drivers function call. \n",
    "- SHAP plots and bivariate plots often take long depending on data shape.\n",
    "- The plot with shap is present [here](https://drive.google.com/file/d/1JOTMBLiv3LEqZ-kxZz0RokW9v5UyiGva/view?usp=sharing)\n",
    "\n",
    "</details>"
   ]
  },
  {
   "cell_type": "markdown",
   "metadata": {},
   "source": [
    "\n",
    "All the plots like feature analysis, interaction, key drivers can be obtained as a single plot using data exploration method as shown below. The output from this is available [here](https://drive.google.com/file/d/1209MzmSSEhiTYuPfHpaVXFXUVbkaJm0B/view?usp=sharing)"
   ]
  },
  {
   "cell_type": "code",
   "execution_count": 27,
   "metadata": {},
   "outputs": [
    {
     "name": "stderr",
     "output_type": "stream",
     "text": [
      "p-value may not be accurate for N > 5000.\n"
     ]
    }
   ],
   "source": [
    "reports.data_exploration(train_X,train_y,'./data_exploration_report.html', y_continuous=True)"
   ]
  },
  {
   "cell_type": "code",
   "execution_count": 28,
   "metadata": {},
   "outputs": [],
   "source": [
    "# saving the list of relevant columns\n",
    "save_pipeline(curated_columns, op.abspath(op.join(artifacts_folder, 'curated_columns.joblib')))\n",
    "\n",
    "# save the feature pipeline\n",
    "save_pipeline(features_transformer, op.abspath(op.join(artifacts_folder, 'features.joblib')))"
   ]
  },
  {
   "cell_type": "markdown",
   "metadata": {},
   "source": [
    "# 4 Modelling"
   ]
  },
  {
   "cell_type": "markdown",
   "metadata": {},
   "source": [
    "## 4.1 Modelling - Linear Regression"
   ]
  },
  {
   "cell_type": "markdown",
   "metadata": {},
   "source": [
    "### 4.1.1 Feature Selection(Specific to Regression)\n",
    "\n",
    "- Selecting Features specific to regression\n",
    "- VIF : measure of the amount of multi-collinearity in a set of multiple regressor variables. \n",
    "- On a case to case basis VIF thresholds change. Generally 5 or 10 are acceptable levels.\n",
    "- Usually on a recursive basis when removing the most collinear variable, there can be shuffle in VIF. \n",
    "- Often this section will not be part of the production code."
   ]
  },
  {
   "cell_type": "code",
   "execution_count": 29,
   "metadata": {},
   "outputs": [],
   "source": [
    "cols = list(train_X.columns)\n",
    "vif = eda.calc_vif(train_X)\n",
    "while max(vif.VIF) > 15:\n",
    "    #removing the largest variable from VIF\n",
    "    cols.remove(vif[(vif.VIF==vif.VIF.max())].variables.tolist()[0])\n",
    "    vif = eda.calc_vif(train_X[cols])"
   ]
  },
  {
   "cell_type": "code",
   "execution_count": 30,
   "metadata": {},
   "outputs": [],
   "source": [
    "reg_vars = vif.query('VIF < 15').variables\n",
    "reg_vars = list(reg_vars)"
   ]
  },
  {
   "cell_type": "markdown",
   "metadata": {},
   "source": [
    "### 4.1.2 Data transformations"
   ]
  },
  {
   "cell_type": "code",
   "execution_count": 31,
   "metadata": {},
   "outputs": [],
   "source": [
    "# Custom Transformations like these can be utilised\n",
    "def _custom_data_transform(df, cols2keep=None):\n",
    "    \"\"\"Transformation to drop some columns in the data\n",
    "\n",
    "    Parameters\n",
    "    ----------\n",
    "        df - pd.DataFrame\n",
    "        cols2keep - columns to keep in the dataframe\n",
    "    \"\"\"\n",
    "    cols2keep = cols2keep or []\n",
    "    if len(cols2keep):\n",
    "        return (df\n",
    "                .select_columns(cols2keep))\n",
    "    else:\n",
    "        return df"
   ]
  },
  {
   "cell_type": "markdown",
   "metadata": {},
   "source": [
    "### 4.1.3 Model training pipeline\n",
    "\n",
    "- Here we focus on creating a collection of pipelines that can be used for training respective models.\n",
    "- Each model pipeline will essentially be of the form\n",
    "```\n",
    "[\n",
    "('preprocessing', preprocessing_pipeline),\n",
    "('feature_selection', feature_selection_pipeline),\n",
    "('estimator', estimator),\n",
    "]\n",
    "```"
   ]
  },
  {
   "cell_type": "markdown",
   "metadata": {},
   "source": [
    "### 4.1.4 Model Pipeline Build\n",
    "\n",
    "- This will be part of the production code (training only)."
   ]
  },
  {
   "cell_type": "code",
   "execution_count": 32,
   "metadata": {},
   "outputs": [
    {
     "data": {
      "text/html": [
       "<style>#sk-container-id-1 {color: black;background-color: white;}#sk-container-id-1 pre{padding: 0;}#sk-container-id-1 div.sk-toggleable {background-color: white;}#sk-container-id-1 label.sk-toggleable__label {cursor: pointer;display: block;width: 100%;margin-bottom: 0;padding: 0.3em;box-sizing: border-box;text-align: center;}#sk-container-id-1 label.sk-toggleable__label-arrow:before {content: \"▸\";float: left;margin-right: 0.25em;color: #696969;}#sk-container-id-1 label.sk-toggleable__label-arrow:hover:before {color: black;}#sk-container-id-1 div.sk-estimator:hover label.sk-toggleable__label-arrow:before {color: black;}#sk-container-id-1 div.sk-toggleable__content {max-height: 0;max-width: 0;overflow: hidden;text-align: left;background-color: #f0f8ff;}#sk-container-id-1 div.sk-toggleable__content pre {margin: 0.2em;color: black;border-radius: 0.25em;background-color: #f0f8ff;}#sk-container-id-1 input.sk-toggleable__control:checked~div.sk-toggleable__content {max-height: 200px;max-width: 100%;overflow: auto;}#sk-container-id-1 input.sk-toggleable__control:checked~label.sk-toggleable__label-arrow:before {content: \"▾\";}#sk-container-id-1 div.sk-estimator input.sk-toggleable__control:checked~label.sk-toggleable__label {background-color: #d4ebff;}#sk-container-id-1 div.sk-label input.sk-toggleable__control:checked~label.sk-toggleable__label {background-color: #d4ebff;}#sk-container-id-1 input.sk-hidden--visually {border: 0;clip: rect(1px 1px 1px 1px);clip: rect(1px, 1px, 1px, 1px);height: 1px;margin: -1px;overflow: hidden;padding: 0;position: absolute;width: 1px;}#sk-container-id-1 div.sk-estimator {font-family: monospace;background-color: #f0f8ff;border: 1px dotted black;border-radius: 0.25em;box-sizing: border-box;margin-bottom: 0.5em;}#sk-container-id-1 div.sk-estimator:hover {background-color: #d4ebff;}#sk-container-id-1 div.sk-parallel-item::after {content: \"\";width: 100%;border-bottom: 1px solid gray;flex-grow: 1;}#sk-container-id-1 div.sk-label:hover label.sk-toggleable__label {background-color: #d4ebff;}#sk-container-id-1 div.sk-serial::before {content: \"\";position: absolute;border-left: 1px solid gray;box-sizing: border-box;top: 0;bottom: 0;left: 50%;z-index: 0;}#sk-container-id-1 div.sk-serial {display: flex;flex-direction: column;align-items: center;background-color: white;padding-right: 0.2em;padding-left: 0.2em;position: relative;}#sk-container-id-1 div.sk-item {position: relative;z-index: 1;}#sk-container-id-1 div.sk-parallel {display: flex;align-items: stretch;justify-content: center;background-color: white;position: relative;}#sk-container-id-1 div.sk-item::before, #sk-container-id-1 div.sk-parallel-item::before {content: \"\";position: absolute;border-left: 1px solid gray;box-sizing: border-box;top: 0;bottom: 0;left: 50%;z-index: -1;}#sk-container-id-1 div.sk-parallel-item {display: flex;flex-direction: column;z-index: 1;position: relative;background-color: white;}#sk-container-id-1 div.sk-parallel-item:first-child::after {align-self: flex-end;width: 50%;}#sk-container-id-1 div.sk-parallel-item:last-child::after {align-self: flex-start;width: 50%;}#sk-container-id-1 div.sk-parallel-item:only-child::after {width: 0;}#sk-container-id-1 div.sk-dashed-wrapped {border: 1px dashed gray;margin: 0 0.4em 0.5em 0.4em;box-sizing: border-box;padding-bottom: 0.4em;background-color: white;}#sk-container-id-1 div.sk-label label {font-family: monospace;font-weight: bold;display: inline-block;line-height: 1.2em;}#sk-container-id-1 div.sk-label-container {text-align: center;}#sk-container-id-1 div.sk-container {/* jupyter's `normalize.less` sets `[hidden] { display: none; }` but bootstrap.min.css set `[hidden] { display: none !important; }` so we also need the `!important` here to be able to override the default hidden behavior on the sphinx rendered scikit-learn.org. See: https://github.com/scikit-learn/scikit-learn/issues/21755 */display: inline-block !important;position: relative;}#sk-container-id-1 div.sk-text-repr-fallback {display: none;}</style><div id=\"sk-container-id-1\" class=\"sk-top-container\"><div class=\"sk-text-repr-fallback\"><pre>Pipeline(steps=[(&#x27;&#x27;,\n",
       "                 FunctionTransformer(func=&lt;function _custom_data_transform at 0x7fa492143940&gt;,\n",
       "                                     kw_args={&#x27;cols2keep&#x27;: [&#x27;rooms_per_household&#x27;,\n",
       "                                                            &#x27;ocean_proximity_1H &#x27;\n",
       "                                                            &#x27;OCEAN&#x27;,\n",
       "                                                            &#x27;bedrooms_per_room&#x27;,\n",
       "                                                            &#x27;longitude&#x27;,\n",
       "                                                            &#x27;ocean_proximity_NEAR &#x27;\n",
       "                                                            &#x27;BAY&#x27;,\n",
       "                                                            &#x27;total_rooms&#x27;,\n",
       "                                                            &#x27;population_per_household&#x27;,\n",
       "                                                            &#x27;ocean_proximity_NEAR &#x27;\n",
       "                                                            &#x27;OCEAN&#x27;,\n",
       "                                                            &#x27;housing_median_age&#x27;,\n",
       "                                                            &#x27;population&#x27;,\n",
       "                                                            &#x27;ocean_proximity_ISLAND&#x27;,\n",
       "                                                            &#x27;median_income&#x27;,\n",
       "                                                            &#x27;ocean_proximity_INLAND&#x27;]})),\n",
       "                (&#x27;estimator&#x27;, SKLStatsmodelOLS())])</pre><b>In a Jupyter environment, please rerun this cell to show the HTML representation or trust the notebook. <br />On GitHub, the HTML representation is unable to render, please try loading this page with nbviewer.org.</b></div><div class=\"sk-container\" hidden><div class=\"sk-item sk-dashed-wrapped\"><div class=\"sk-label-container\"><div class=\"sk-label sk-toggleable\"><input class=\"sk-toggleable__control sk-hidden--visually\" id=\"sk-estimator-id-1\" type=\"checkbox\" ><label for=\"sk-estimator-id-1\" class=\"sk-toggleable__label sk-toggleable__label-arrow\">Pipeline</label><div class=\"sk-toggleable__content\"><pre>Pipeline(steps=[(&#x27;&#x27;,\n",
       "                 FunctionTransformer(func=&lt;function _custom_data_transform at 0x7fa492143940&gt;,\n",
       "                                     kw_args={&#x27;cols2keep&#x27;: [&#x27;rooms_per_household&#x27;,\n",
       "                                                            &#x27;ocean_proximity_1H &#x27;\n",
       "                                                            &#x27;OCEAN&#x27;,\n",
       "                                                            &#x27;bedrooms_per_room&#x27;,\n",
       "                                                            &#x27;longitude&#x27;,\n",
       "                                                            &#x27;ocean_proximity_NEAR &#x27;\n",
       "                                                            &#x27;BAY&#x27;,\n",
       "                                                            &#x27;total_rooms&#x27;,\n",
       "                                                            &#x27;population_per_household&#x27;,\n",
       "                                                            &#x27;ocean_proximity_NEAR &#x27;\n",
       "                                                            &#x27;OCEAN&#x27;,\n",
       "                                                            &#x27;housing_median_age&#x27;,\n",
       "                                                            &#x27;population&#x27;,\n",
       "                                                            &#x27;ocean_proximity_ISLAND&#x27;,\n",
       "                                                            &#x27;median_income&#x27;,\n",
       "                                                            &#x27;ocean_proximity_INLAND&#x27;]})),\n",
       "                (&#x27;estimator&#x27;, SKLStatsmodelOLS())])</pre></div></div></div><div class=\"sk-serial\"><div class=\"sk-item\"><div class=\"sk-estimator sk-toggleable\"><input class=\"sk-toggleable__control sk-hidden--visually\" id=\"sk-estimator-id-2\" type=\"checkbox\" ><label for=\"sk-estimator-id-2\" class=\"sk-toggleable__label sk-toggleable__label-arrow\">FunctionTransformer</label><div class=\"sk-toggleable__content\"><pre>FunctionTransformer(func=&lt;function _custom_data_transform at 0x7fa492143940&gt;,\n",
       "                    kw_args={&#x27;cols2keep&#x27;: [&#x27;rooms_per_household&#x27;,\n",
       "                                           &#x27;ocean_proximity_1H OCEAN&#x27;,\n",
       "                                           &#x27;bedrooms_per_room&#x27;, &#x27;longitude&#x27;,\n",
       "                                           &#x27;ocean_proximity_NEAR BAY&#x27;,\n",
       "                                           &#x27;total_rooms&#x27;,\n",
       "                                           &#x27;population_per_household&#x27;,\n",
       "                                           &#x27;ocean_proximity_NEAR OCEAN&#x27;,\n",
       "                                           &#x27;housing_median_age&#x27;, &#x27;population&#x27;,\n",
       "                                           &#x27;ocean_proximity_ISLAND&#x27;,\n",
       "                                           &#x27;median_income&#x27;,\n",
       "                                           &#x27;ocean_proximity_INLAND&#x27;]})</pre></div></div></div><div class=\"sk-item\"><div class=\"sk-estimator sk-toggleable\"><input class=\"sk-toggleable__control sk-hidden--visually\" id=\"sk-estimator-id-3\" type=\"checkbox\" ><label for=\"sk-estimator-id-3\" class=\"sk-toggleable__label sk-toggleable__label-arrow\">SKLStatsmodelOLS</label><div class=\"sk-toggleable__content\"><pre>SKLStatsmodelOLS()</pre></div></div></div></div></div></div></div>"
      ],
      "text/plain": [
       "Pipeline(steps=[('',\n",
       "                 FunctionTransformer(func=<function _custom_data_transform at 0x7fa492143940>,\n",
       "                                     kw_args={'cols2keep': ['rooms_per_household',\n",
       "                                                            'ocean_proximity_1H '\n",
       "                                                            'OCEAN',\n",
       "                                                            'bedrooms_per_room',\n",
       "                                                            'longitude',\n",
       "                                                            'ocean_proximity_NEAR '\n",
       "                                                            'BAY',\n",
       "                                                            'total_rooms',\n",
       "                                                            'population_per_household',\n",
       "                                                            'ocean_proximity_NEAR '\n",
       "                                                            'OCEAN',\n",
       "                                                            'housing_median_age',\n",
       "                                                            'population',\n",
       "                                                            'ocean_proximity_ISLAND',\n",
       "                                                            'median_income',\n",
       "                                                            'ocean_proximity_INLAND']})),\n",
       "                ('estimator', SKLStatsmodelOLS())])"
      ]
     },
     "execution_count": 32,
     "metadata": {},
     "output_type": "execute_result"
    }
   ],
   "source": [
    "reg_ppln_ols = Pipeline([\n",
    "    ('',FunctionTransformer(_custom_data_transform, kw_args={'cols2keep':reg_vars})),\n",
    "    ('estimator', SKLStatsmodelOLS())\n",
    "])\n",
    "reg_ppln_ols.fit(train_X, train_y.values.ravel())\n"
   ]
  },
  {
   "cell_type": "code",
   "execution_count": 33,
   "metadata": {},
   "outputs": [
    {
     "data": {
      "text/html": [
       "<table class=\"simpletable\">\n",
       "<caption>OLS Regression Results</caption>\n",
       "<tr>\n",
       "  <th>Dep. Variable:</th>            <td>y</td>        <th>  R-squared:         </th>  <td>   0.661</td>  \n",
       "</tr>\n",
       "<tr>\n",
       "  <th>Model:</th>                   <td>OLS</td>       <th>  Adj. R-squared:    </th>  <td>   0.661</td>  \n",
       "</tr>\n",
       "<tr>\n",
       "  <th>Method:</th>             <td>Least Squares</td>  <th>  F-statistic:       </th>  <td>   2678.</td>  \n",
       "</tr>\n",
       "<tr>\n",
       "  <th>Date:</th>             <td>Thu, 11 Jan 2024</td> <th>  Prob (F-statistic):</th>   <td>  0.00</td>   \n",
       "</tr>\n",
       "<tr>\n",
       "  <th>Time:</th>                 <td>13:25:19</td>     <th>  Log-Likelihood:    </th> <td>-2.0698e+05</td>\n",
       "</tr>\n",
       "<tr>\n",
       "  <th>No. Observations:</th>      <td> 16512</td>      <th>  AIC:               </th>  <td>4.140e+05</td> \n",
       "</tr>\n",
       "<tr>\n",
       "  <th>Df Residuals:</th>          <td> 16499</td>      <th>  BIC:               </th>  <td>4.141e+05</td> \n",
       "</tr>\n",
       "<tr>\n",
       "  <th>Df Model:</th>              <td>    12</td>      <th>                     </th>      <td> </td>     \n",
       "</tr>\n",
       "<tr>\n",
       "  <th>Covariance Type:</th>      <td>nonrobust</td>    <th>                     </th>      <td> </td>     \n",
       "</tr>\n",
       "</table>\n",
       "<table class=\"simpletable\">\n",
       "<tr>\n",
       "               <td></td>                 <th>coef</th>     <th>std err</th>      <th>t</th>      <th>P>|t|</th>  <th>[0.025</th>    <th>0.975]</th>  \n",
       "</tr>\n",
       "<tr>\n",
       "  <th>intercept</th>                  <td> 2.066e+05</td> <td> 5628.713</td> <td>   36.707</td> <td> 0.000</td> <td> 1.96e+05</td> <td> 2.18e+05</td>\n",
       "</tr>\n",
       "<tr>\n",
       "  <th>rooms_per_household</th>        <td>  690.3040</td> <td>  931.784</td> <td>    0.741</td> <td> 0.459</td> <td>-1136.093</td> <td> 2516.700</td>\n",
       "</tr>\n",
       "<tr>\n",
       "  <th>ocean_proximity_1H OCEAN</th>   <td> 1.717e+04</td> <td> 5677.304</td> <td>    3.024</td> <td> 0.002</td> <td> 6040.338</td> <td> 2.83e+04</td>\n",
       "</tr>\n",
       "<tr>\n",
       "  <th>bedrooms_per_room</th>          <td> 3.076e+04</td> <td>  914.732</td> <td>   33.625</td> <td> 0.000</td> <td>  2.9e+04</td> <td> 3.26e+04</td>\n",
       "</tr>\n",
       "<tr>\n",
       "  <th>longitude</th>                  <td>-4513.6920</td> <td>  615.048</td> <td>   -7.339</td> <td> 0.000</td> <td>-5719.253</td> <td>-3308.131</td>\n",
       "</tr>\n",
       "<tr>\n",
       "  <th>ocean_proximity_NEAR BAY</th>   <td>  1.24e+04</td> <td> 5832.897</td> <td>    2.126</td> <td> 0.034</td> <td>  968.352</td> <td> 2.38e+04</td>\n",
       "</tr>\n",
       "<tr>\n",
       "  <th>total_rooms</th>                <td> 3.124e+04</td> <td> 1586.802</td> <td>   19.688</td> <td> 0.000</td> <td> 2.81e+04</td> <td> 3.44e+04</td>\n",
       "</tr>\n",
       "<tr>\n",
       "  <th>population_per_household</th>   <td>-9005.2223</td> <td>  685.486</td> <td>  -13.137</td> <td> 0.000</td> <td>-1.03e+04</td> <td>-7661.596</td>\n",
       "</tr>\n",
       "<tr>\n",
       "  <th>ocean_proximity_NEAR OCEAN</th> <td> 2.956e+04</td> <td> 5752.960</td> <td>    5.139</td> <td> 0.000</td> <td> 1.83e+04</td> <td> 4.08e+04</td>\n",
       "</tr>\n",
       "<tr>\n",
       "  <th>housing_median_age</th>         <td> 1.729e+04</td> <td>  609.439</td> <td>   28.372</td> <td> 0.000</td> <td> 1.61e+04</td> <td> 1.85e+04</td>\n",
       "</tr>\n",
       "<tr>\n",
       "  <th>population</th>                 <td>-2.516e+04</td> <td> 1553.287</td> <td>  -16.200</td> <td> 0.000</td> <td>-2.82e+04</td> <td>-2.21e+04</td>\n",
       "</tr>\n",
       "<tr>\n",
       "  <th>ocean_proximity_ISLAND</th>     <td> 1.879e+05</td> <td> 2.81e+04</td> <td>    6.696</td> <td> 0.000</td> <td> 1.33e+05</td> <td> 2.43e+05</td>\n",
       "</tr>\n",
       "<tr>\n",
       "  <th>median_income</th>              <td> 8.902e+04</td> <td>  835.669</td> <td>  106.526</td> <td> 0.000</td> <td> 8.74e+04</td> <td> 9.07e+04</td>\n",
       "</tr>\n",
       "<tr>\n",
       "  <th>ocean_proximity_INLAND</th>     <td>-4.044e+04</td> <td> 5708.153</td> <td>   -7.085</td> <td> 0.000</td> <td>-5.16e+04</td> <td>-2.93e+04</td>\n",
       "</tr>\n",
       "</table>\n",
       "<table class=\"simpletable\">\n",
       "<tr>\n",
       "  <th>Omnibus:</th>       <td>3948.544</td> <th>  Durbin-Watson:     </th> <td>   2.002</td> \n",
       "</tr>\n",
       "<tr>\n",
       "  <th>Prob(Omnibus):</th>  <td> 0.000</td>  <th>  Jarque-Bera (JB):  </th> <td>12857.262</td>\n",
       "</tr>\n",
       "<tr>\n",
       "  <th>Skew:</th>           <td> 1.208</td>  <th>  Prob(JB):          </th> <td>    0.00</td> \n",
       "</tr>\n",
       "<tr>\n",
       "  <th>Kurtosis:</th>       <td> 6.585</td>  <th>  Cond. No.          </th> <td>1.99e+15</td> \n",
       "</tr>\n",
       "</table><br/><br/>Notes:<br/>[1] Standard Errors assume that the covariance matrix of the errors is correctly specified.<br/>[2] The smallest eigenvalue is 1.09e-26. This might indicate that there are<br/>strong multicollinearity problems or that the design matrix is singular."
      ],
      "text/plain": [
       "<class 'statsmodels.iolib.summary.Summary'>\n",
       "\"\"\"\n",
       "                            OLS Regression Results                            \n",
       "==============================================================================\n",
       "Dep. Variable:                      y   R-squared:                       0.661\n",
       "Model:                            OLS   Adj. R-squared:                  0.661\n",
       "Method:                 Least Squares   F-statistic:                     2678.\n",
       "Date:                Thu, 11 Jan 2024   Prob (F-statistic):               0.00\n",
       "Time:                        13:25:19   Log-Likelihood:            -2.0698e+05\n",
       "No. Observations:               16512   AIC:                         4.140e+05\n",
       "Df Residuals:                   16499   BIC:                         4.141e+05\n",
       "Df Model:                          12                                         \n",
       "Covariance Type:            nonrobust                                         \n",
       "==============================================================================================\n",
       "                                 coef    std err          t      P>|t|      [0.025      0.975]\n",
       "----------------------------------------------------------------------------------------------\n",
       "intercept                   2.066e+05   5628.713     36.707      0.000    1.96e+05    2.18e+05\n",
       "rooms_per_household          690.3040    931.784      0.741      0.459   -1136.093    2516.700\n",
       "ocean_proximity_1H OCEAN    1.717e+04   5677.304      3.024      0.002    6040.338    2.83e+04\n",
       "bedrooms_per_room           3.076e+04    914.732     33.625      0.000     2.9e+04    3.26e+04\n",
       "longitude                  -4513.6920    615.048     -7.339      0.000   -5719.253   -3308.131\n",
       "ocean_proximity_NEAR BAY     1.24e+04   5832.897      2.126      0.034     968.352    2.38e+04\n",
       "total_rooms                 3.124e+04   1586.802     19.688      0.000    2.81e+04    3.44e+04\n",
       "population_per_household   -9005.2223    685.486    -13.137      0.000   -1.03e+04   -7661.596\n",
       "ocean_proximity_NEAR OCEAN  2.956e+04   5752.960      5.139      0.000    1.83e+04    4.08e+04\n",
       "housing_median_age          1.729e+04    609.439     28.372      0.000    1.61e+04    1.85e+04\n",
       "population                 -2.516e+04   1553.287    -16.200      0.000   -2.82e+04   -2.21e+04\n",
       "ocean_proximity_ISLAND      1.879e+05   2.81e+04      6.696      0.000    1.33e+05    2.43e+05\n",
       "median_income               8.902e+04    835.669    106.526      0.000    8.74e+04    9.07e+04\n",
       "ocean_proximity_INLAND     -4.044e+04   5708.153     -7.085      0.000   -5.16e+04   -2.93e+04\n",
       "==============================================================================\n",
       "Omnibus:                     3948.544   Durbin-Watson:                   2.002\n",
       "Prob(Omnibus):                  0.000   Jarque-Bera (JB):            12857.262\n",
       "Skew:                           1.208   Prob(JB):                         0.00\n",
       "Kurtosis:                       6.585   Cond. No.                     1.99e+15\n",
       "==============================================================================\n",
       "\n",
       "Notes:\n",
       "[1] Standard Errors assume that the covariance matrix of the errors is correctly specified.\n",
       "[2] The smallest eigenvalue is 1.09e-26. This might indicate that there are\n",
       "strong multicollinearity problems or that the design matrix is singular.\n",
       "\"\"\""
      ]
     },
     "execution_count": 33,
     "metadata": {},
     "output_type": "execute_result"
    }
   ],
   "source": [
    "reg_ppln_ols['estimator'].summary()"
   ]
  },
  {
   "cell_type": "markdown",
   "metadata": {},
   "source": [
    "### 4.1.5 Model Evaluation(Linear Model)\n",
    "\n",
    "This will be part of the production code."
   ]
  },
  {
   "cell_type": "code",
   "execution_count": 34,
   "metadata": {},
   "outputs": [],
   "source": [
    "testx = load_dataset(context, 'test/housing/features')"
   ]
  },
  {
   "cell_type": "code",
   "execution_count": 35,
   "metadata": {},
   "outputs": [],
   "source": [
    "testx = features_transformer.transform(test_X)"
   ]
  },
  {
   "cell_type": "code",
   "execution_count": 36,
   "metadata": {},
   "outputs": [
    {
     "data": {
      "text/plain": [
       "['households',\n",
       " 'rooms_per_household',\n",
       " 'ocean_proximity_1H OCEAN',\n",
       " 'latitude',\n",
       " 'bedrooms_per_room',\n",
       " 'longitude',\n",
       " 'ocean_proximity_NEAR BAY',\n",
       " 'total_rooms',\n",
       " 'population_per_household',\n",
       " 'ocean_proximity_NEAR OCEAN',\n",
       " 'housing_median_age',\n",
       " 'population',\n",
       " 'ocean_proximity_ISLAND',\n",
       " 'median_income',\n",
       " 'ocean_proximity_INLAND']"
      ]
     },
     "execution_count": 36,
     "metadata": {},
     "output_type": "execute_result"
    }
   ],
   "source": [
    "curated_columns"
   ]
  },
  {
   "cell_type": "code",
   "execution_count": 37,
   "metadata": {},
   "outputs": [],
   "source": [
    "reg_ppln = Pipeline([\n",
    "    ('', FunctionTransformer(_custom_data_transform, kw_args={'cols2keep':reg_vars})),\n",
    "    ('Linear Regression', SKLStatsmodelOLS())\n",
    "])\n",
    "\n",
    "test_X = get_dataframe(\n",
    "    features_transformer.transform(test_X),\n",
    "    list(features_transformer.transformers_[0][1][0].get_feature_names_out()) + list(num_columns)\n",
    ")"
   ]
  },
  {
   "cell_type": "code",
   "execution_count": 38,
   "metadata": {},
   "outputs": [],
   "source": [
    "test_X.rename(columns={'ocean_proximity_<1H OCEAN':'ocean_proximity_1H OCEAN'}, inplace=True)"
   ]
  },
  {
   "cell_type": "code",
   "execution_count": 39,
   "metadata": {},
   "outputs": [],
   "source": [
    "test_X = test_X[curated_columns]"
   ]
  },
  {
   "cell_type": "code",
   "execution_count": 40,
   "metadata": {},
   "outputs": [],
   "source": [
    "reg_linear_report = RegressionReport(model=reg_ppln, x_train=train_X, y_train=train_y, x_test= test_X, y_test= test_y, refit=True)\n",
    "reg_linear_report.get_report(include_shap=False, file_path='regression_linear_model_report')"
   ]
  },
  {
   "cell_type": "markdown",
   "metadata": {},
   "source": [
    "**Dev Notes**\n",
    "Use SHAP for variable interpretability.\n",
    "<details>\n",
    "\n",
    "    1. Use SHAP=True to generate variable interpretability plots in the report\n",
    "    2. SHAP is recommended for non parameteric models such as RF, xgboost.\n",
    "    3. However, SHAP reports are time consuming depending on no.of records and model complexity.\n",
    "    \n",
    "A sample of regerssion report with SHAP can be found [here](https://drive.google.com/file/d/18RlQTsT1ze09Cgz-qpb4ha_cvyWbN5F5/view?usp=sharing).\n",
    "</details>"
   ]
  },
  {
   "cell_type": "markdown",
   "metadata": {},
   "source": [
    "### 4.1.6 Residual Analysis\n",
    "- After scoring the model, it is recommended to do a residual analysis to know the distribution of errors\n",
    "- we took a threshold of 30% above which it is marked as over prediction or underprediction\n",
    "- This will not be part of the production code."
   ]
  },
  {
   "cell_type": "code",
   "execution_count": 41,
   "metadata": {},
   "outputs": [],
   "source": [
    "threshold=0.3\n",
    "residual_analysis = test_X.copy()\n",
    "residual_analysis['prediction'] = reg_ppln_ols.predict(test_X)\n",
    "residual_analysis['actuals'] = test_y.reset_index(drop = True).iloc[:,0].values\n",
    "residual_analysis['forecast_flag'] = 'good'\n",
    "residual_analysis.loc[((residual_analysis['prediction'] > (1+threshold) * residual_analysis['actuals'])\\\n",
    "                       & (residual_analysis['actuals']>100)),'forecast_flag'] = 'over predict'\n",
    "residual_analysis.loc[((residual_analysis['prediction'] < (1-threshold) * residual_analysis['actuals'])\\\n",
    "                       & (residual_analysis['actuals']>100)),'forecast_flag'] = 'under predict'"
   ]
  },
  {
   "cell_type": "code",
   "execution_count": 42,
   "metadata": {},
   "outputs": [
    {
     "data": {},
     "metadata": {},
     "output_type": "display_data"
    },
    {
     "data": {
      "application/vnd.holoviews_exec.v0+json": "",
      "text/html": [
       "<div id='63952'>\n",
       "  <div class=\"bk-root\" id=\"d64fce02-ba8e-4f0e-a0ff-6d85dc4ec158\" data-root-id=\"63952\"></div>\n",
       "</div>\n",
       "<script type=\"application/javascript\">(function(root) {\n",
       "  function embed_document(root) {\n",
       "    var docs_json = {\"34d57141-dfb9-42be-89c6-5a0b1038636a\":{\"defs\":[{\"extends\":null,\"module\":null,\"name\":\"ReactiveHTML1\",\"overrides\":[],\"properties\":[]},{\"extends\":null,\"module\":null,\"name\":\"FlexBox1\",\"overrides\":[],\"properties\":[{\"default\":\"flex-start\",\"kind\":null,\"name\":\"align_content\"},{\"default\":\"flex-start\",\"kind\":null,\"name\":\"align_items\"},{\"default\":\"row\",\"kind\":null,\"name\":\"flex_direction\"},{\"default\":\"wrap\",\"kind\":null,\"name\":\"flex_wrap\"},{\"default\":\"flex-start\",\"kind\":null,\"name\":\"justify_content\"}]},{\"extends\":null,\"module\":null,\"name\":\"GridStack1\",\"overrides\":[],\"properties\":[{\"default\":\"warn\",\"kind\":null,\"name\":\"mode\"},{\"default\":null,\"kind\":null,\"name\":\"ncols\"},{\"default\":null,\"kind\":null,\"name\":\"nrows\"},{\"default\":true,\"kind\":null,\"name\":\"allow_resize\"},{\"default\":true,\"kind\":null,\"name\":\"allow_drag\"},{\"default\":[],\"kind\":null,\"name\":\"state\"}]},{\"extends\":null,\"module\":null,\"name\":\"click1\",\"overrides\":[],\"properties\":[{\"default\":\"\",\"kind\":null,\"name\":\"terminal_output\"},{\"default\":\"\",\"kind\":null,\"name\":\"debug_name\"},{\"default\":0,\"kind\":null,\"name\":\"clears\"}]},{\"extends\":null,\"module\":null,\"name\":\"NotificationAreaBase1\",\"overrides\":[],\"properties\":[{\"default\":\"bottom-right\",\"kind\":null,\"name\":\"position\"},{\"default\":0,\"kind\":null,\"name\":\"_clear\"}]},{\"extends\":null,\"module\":null,\"name\":\"NotificationArea1\",\"overrides\":[],\"properties\":[{\"default\":[],\"kind\":null,\"name\":\"notifications\"},{\"default\":\"bottom-right\",\"kind\":null,\"name\":\"position\"},{\"default\":0,\"kind\":null,\"name\":\"_clear\"},{\"default\":[{\"background\":\"#ffc107\",\"icon\":{\"className\":\"fas fa-exclamation-triangle\",\"color\":\"white\",\"tagName\":\"i\"},\"type\":\"warning\"},{\"background\":\"#007bff\",\"icon\":{\"className\":\"fas fa-info-circle\",\"color\":\"white\",\"tagName\":\"i\"},\"type\":\"info\"}],\"kind\":null,\"name\":\"types\"}]},{\"extends\":null,\"module\":null,\"name\":\"Notification\",\"overrides\":[],\"properties\":[{\"default\":null,\"kind\":null,\"name\":\"background\"},{\"default\":3000,\"kind\":null,\"name\":\"duration\"},{\"default\":null,\"kind\":null,\"name\":\"icon\"},{\"default\":\"\",\"kind\":null,\"name\":\"message\"},{\"default\":null,\"kind\":null,\"name\":\"notification_type\"},{\"default\":false,\"kind\":null,\"name\":\"_destroyed\"}]},{\"extends\":null,\"module\":null,\"name\":\"TemplateActions1\",\"overrides\":[],\"properties\":[{\"default\":0,\"kind\":null,\"name\":\"open_modal\"},{\"default\":0,\"kind\":null,\"name\":\"close_modal\"}]},{\"extends\":null,\"module\":null,\"name\":\"MaterialTemplateActions1\",\"overrides\":[],\"properties\":[{\"default\":0,\"kind\":null,\"name\":\"open_modal\"},{\"default\":0,\"kind\":null,\"name\":\"close_modal\"}]}],\"roots\":{\"references\":[{\"attributes\":{},\"id\":\"63991\",\"type\":\"AllLabels\"},{\"attributes\":{\"axis\":{\"id\":\"63972\"},\"coordinates\":null,\"dimension\":1,\"grid_line_color\":null,\"group\":null,\"ticker\":null},\"id\":\"63975\",\"type\":\"Grid\"},{\"attributes\":{\"data\":{\"x\":{\"__ndarray__\":\"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\",\"dtype\":\"float64\",\"order\":\"little\",\"shape\":[200]},\"y\":{\"__ndarray__\":\"AAAAAAAAAAAAAAAAAAAAAAAAAAAAAAAAAAAAAAAAAAAAAAAAAAAAAAAAAAAAAAAAAAAAAAAAAAAAAAAAAAAAAAAAAAAAAAAAAAAAAAAAAAAAAAAAAAAAAAAAAAAAAAAAAAAAAAAAAAAAAAAAAAAAAAAAAAAAAAAAAAAAAAAAAAAAAAAAAAAAAAAAAAAAAAAAAAAAAAAAAAAAAAAAAAAAAAAAAAAAAAAAAAAAAAAAAAAAAAAAAAAAAAAAAAAAAAAAAAAAAAAAAAAAAAAAAAAAAAAAAAAAAAAAAAAAAAAAAAAAAAAAAAAAAAAAAAAAAAAAAAAAAAAAAAAAAAAAAAAAAAAAAAAAAAAAAAAAAAAAAAAAAAAAAAAAAAAAAAAAAAAAAAAAAAAAAAAAAAAAAAAAAAAAAAAAAAAAAAAAAAAAAAAAAAAAAAAAAAAAAAAAAAAAAAAAAAAAAAAAAAAAAAAAAAAAAAAAAAAAAAAAAAAAAAAAAAAAAAAAAAAAAAAAAAAAAAAAAAAAAAAAAAAAAAAAAAAAAAAAAAAAAAAAAAAAAAAAAAAAAAAAAAAAAAAAAAAAAAAAAAAAAAAAAAAAAAAAAAAAAAAAAAAAAAAAAAAAAAAAAAAAAAAAAAAAAAAAAAAAAAAAAAAAAAAAAAAAAAAAAAAAAAAAAAAAAAAAAAAAAAAAAAAAAAAAAAAAAAAAAAAAAAAAAAAAAAAAAAAAAAAAAAAAAAAAAAAAAAAAAAAAAAAAAAAAAAAAAAAAAAAAAAAAAAAAAAAAAAAAAAAAAAAAAAAAAAAAAAAAAAAAAAAAAAAAAAAAAAAAAAAAAAAAAAAAAAAAAAAAAAAAAAAAAAAAAAAAAAAAAAAAAAAAAAAAAAAAAAAAAAAAAAAAAAAAAAAAAAAAAAAAAAAAAAAAAAAAAAAAAAAAAAAAAAAAAAAAAAAAAAAAAAAAAAAAAAAAAAAAAAAAAAAAAAAAAAAAAAAAAAAAAAAAAAAAAAAAAAAAAAAAAAAAAAAAAAAAAAAAAAAAAAAAAAAAAAAAAAAAAAAAAAAAAAAAAAAAAAAAAAAAAACjsjiZGOTdPolQJmBAegA/fvVcrhoHGz/AZvLpQ30wP8X03s4I7z0/rU597xc2RD89Ofhwmk1EP9erDGz3Vz4/m/p16greMD8IJD+ZMuYbP+bwGZbrKQE/muMXRV5r3z5FyFfmsWS1PgS6HJSA1IU+MD5rxEwNYj6G8AUK5aOMPvrSUqMdvb4+iiOhLivc6D7UIiygGDkOPzyrRvXosys/VGvUBTk7Qz/UDLxiKl5UP9IdskxZrWA/dRFXaf62ZT8vNDur2cxnP02w7LEV/Wc/cKV9RZfFZz86OavAPqxmP74ypEPTn2M/YFylArW5Xz+SBZPTU49dP0zDwzAbxGI/Uh+q/a+laj8UMcx0UDVxP4yilpFZL3M/1EvLEhqycj9uA4PO13pwP8vgAdZj2Ws/rEOsxEN+aD89UsgdlNhnP3Xbd/I+WGk/TMwNmKfZaz9RJfq9iw1vP0HDDxdL93E/L4Z+jn6idT+zSzKwZwZ6P9A4ttxu+30/zJ9md2BMgD//oNvha+qAP4fm7mHfOIE/G9wr/fSEgT/oNYerpL6BP0cgXsTgC4I/+uETcV48gz+EawBL9BSGP+Xs06q3hoo/lJ8NX37ejz/lgdl5MrKSPxvZaXrlapU/az87vrYvmD+2uOPWlQCbP+WvRdAIlZ0/7iFGu4mUnz/iRg2OR4egPwBTOB19aaE/4OpFaogXoz8LyT84F/WlP6pV9daRuqk/FGeQelDKrT/RAU1xc/uwPws84+AeXLM/yZDmii1ltj9va+iW7Xq6P79C4GBd8r8/XbZ1J5lrwz/o61T12GrHPz7prc+TvMs/ardRglcg0D9O0ntS74XSP5FAoBiQLtU/RmaUz9gq2D+fWkOLHlnbP8/IHaGsdN4/Wq+ijVSb4D8ztjpoJKbhPzJhzXk4IOI/66uCTO3G4T9tbzf4qm3gP7DbkzPHSdw/VdvBmR+U1j95gHMm78PQP+IBw/NaWsc/TWRj2+yZvj8F5h1mTpqyP727n6qSS6Q/zVhJudMGkz9xhP9l1XF9P8Cxcy9/O2I/5wKEbe2vQT8UcfqI1YAaPw==\",\"dtype\":\"float64\",\"order\":\"little\",\"shape\":[200]}},\"selected\":{\"id\":\"64017\"},\"selection_policy\":{\"id\":\"64033\"}},\"id\":\"64016\",\"type\":\"ColumnDataSource\"},{\"attributes\":{\"callback\":null,\"renderers\":[{\"id\":\"64001\"},{\"id\":\"64022\"},{\"id\":\"64044\"}],\"tags\":[\"hv_created\"],\"tooltips\":[[\"forecast_flag\",\"@{forecast_flag}\"],[\"households\",\"@{households}\"],[\"Density\",\"@{households_density}\"]]},\"id\":\"63956\",\"type\":\"HoverTool\"},{\"attributes\":{\"overlay\":{\"id\":\"63981\"}},\"id\":\"63979\",\"type\":\"BoxZoomTool\"},{\"attributes\":{\"source\":{\"id\":\"64038\"}},\"id\":\"64045\",\"type\":\"CDSView\"},{\"attributes\":{\"coordinates\":null,\"data_source\":{\"id\":\"64038\"},\"glyph\":{\"id\":\"64041\"},\"group\":null,\"hover_glyph\":null,\"muted_glyph\":{\"id\":\"64043\"},\"nonselection_glyph\":{\"id\":\"64042\"},\"selection_glyph\":{\"id\":\"64061\"},\"view\":{\"id\":\"64045\"}},\"id\":\"64044\",\"type\":\"GlyphRenderer\"},{\"attributes\":{\"data\":{\"x\":{\"__ndarray__\":\"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\",\"dtype\":\"float64\",\"order\":\"little\",\"shape\":[200]},\"y\":{\"__ndarray__\":\"AAAAAAAAAAAAAAAAAAAAAAAAAAAAAAAAAAAAAAAAAAAAAAAAAAAAAAAAAAAAAAAAAAAAAAAAAAAAAAAAAAAAAAAAAAAAAAAAAAAAAAAAAAAAAAAAAAAAAAAAAAAAAAAAAAAAAAAAAAAAAAAAAAAAAAAAAAAAAAAAAAAAAAAAAAAAAAAAAAAAAAAAAAAAAAAAAAAAAAAAAAAAAAAAAAAAAAAAAAAAAAAAAAAAAAAAAAAAAAAAAAAAAAAAAAAAAAAAAAAAAAAAAAAAAAAAAAAAAAAAAAAAAAAAAAAAAAAAAAAAAAAAAAAAAAAAAAAAAAAAAAAAAAAAAAAAAAAAAAAAAAAAAAAAAAAAAAAAAAAAAAAAAAAAAAAAAAAAAAAAAAAAAAAAAAAAAAAAAAAAAAAAAAAAAAAAAAAAAAAAAAAAAAAAAAAAAAAAAAAAAAAAAAAAAAAAAAAAAAAAAAAAAAAAAAAAAAAAAAAAAAAAAAAAAAAAAAAAAAAAAAAAAAAAAAAAAAAAAAAAAAAAAAAAAAAAAAAAAAAAAAAAAAAAAAAAAAAAAAAAAAAAAAAAAAAAAAAAAAAAAAAAAAAAAAAAAAAAAAAAAAAAAAAAAAAAAAAAAAAAAAAAAAAAAAAAAAAAAAAAAAAAAAAAAAAAAAAAAAAAAAAAAAAAAAAAAAAAAAAAAAAAAAAAAAAAAAAAAAAAAAAAAAAAAAAAAAAAAAAAAAAAAAAAAAAAAAAAAAAAAAAAAAAAAAAAAAAAAAAAAAAAAAAAAAAAAAAAAAAAAAAAAAAAAAAAAAAAAAAAAAAAAAAAAAAAAAAAAAAAAAAAAAAAAAAAAAAAAAAAAAAAAAAAAAAAAAAAAAAAAAAAAAAAAAAAAAAAAAAAAAAAAAAAAAAAAAAAAAAAAAAAAAAAAAAAAAAAAAAAAAAAAAAAAAAAAAAAAAAAAAAAAAAAAAAAAAAAAAAAAAAAAAAAAAAAAAAAAAAAAAAAAAAAAAAAAAAAAAAAAAAAAAAAAAAAAAAAAAAAAAAAAAAAAAAAAAAAAAAAAAAAAAAAAAAAAAAAAAAAAAAAAAD75tg28vnoPjfZcCfrzQk/qw84B8RkJD/y3DALgqg4P1+ZT6+RzkY/PyZZo+0iUD+bkrlPhndRPz9M+xIX7Uw/tRiXw2tSQj/WSpYPRsExP7m74buuUho/hJIjoFja/T6QPNxkBubZPoPnQxXgL7E+NVHdLitzgT7roa74FhtLPubJc//qQRA+nZk5S7dU8D2pSAgBbewoPhG6M7hAuGI+YrM9ViiHlT5yZ9wBTPDCPjiUviuZfek+1EM4WKU/Cj8ypdURYa8kP2ceYtE7+Tg/KCzWMQIrRz8u/MeSSq1QP+89uAGiLlM/pj9vnIsCUz8mwJt3c31SP2FOLq9hD1M/BPFvXKcqUz8MNVG5La9QP/IbgvrYxUg/sErnFD8JRD/HNt9NLaBLP6fAxS9PI1o/bKKbwobBZj8wlBtDxGFwPwbDAA+JRHM/2ya0qmt8cj/F4uqee89sP6Xy/xqpOmI/XMu7kK3yUz9gqWJI2vVLP/3ZSd1tlFQ/TArbe641Yz/RPmBsB4NuP7FAZ/FPXHM/ht/VcIXwcz+7k+mV4aVxP5a0JQT0cW4/Eif23t3/bT+ERElYAhJxPxU1VP1lp3M/J0nknEwbdT+ee/6tb2h1P125/naYtHU/37Jno8rvdj8T7Uj/eRx5PwnNeqIEX3s/gtkpiZmFfD+cVi8MTQN8Pz8KpV0L2Xo/KETTaaWuez+fRVa6F9iAP4lNza7bLYc/cXPxzB/cjz+4POn3VDWUP+A18N1zOZc/FwyraqrUmD9jIv13HF2aP9ZBXERtsp0/0Hfz1m60oT8J3C6pqAulPzDyeixP+6c/cuSw1pmXqj//Hey0pjeuP53WMz2+arI/SJoQh8MfuD/qBuY8CmjAP8jlnGCwY8Y/HgDkjuIYzj/d61LOq73TP2YYjfiLAdk/cKg/szkg3j9UbAvHjPPgP6gMldy7geE/m9NKRQxa4D/AhifYA1/bP2f7RM0Md9Q/iTYoXbpcyz8FPmVgo1XAPwHecyjgPrE/Nfi4qrWQnz/HnDpS32iIP69qAggsHm8/YMBjW9QEUD+9iV0EuzwqPw==\",\"dtype\":\"float64\",\"order\":\"little\",\"shape\":[200]}},\"selected\":{\"id\":\"63996\"},\"selection_policy\":{\"id\":\"64010\"}},\"id\":\"63995\",\"type\":\"ColumnDataSource\"},{\"attributes\":{\"fill_alpha\":0.5,\"fill_color\":\"#e5ae38\",\"hatch_alpha\":0.1,\"hatch_color\":\"#e5ae38\",\"line_alpha\":0.7,\"x\":{\"field\":\"x\"},\"y\":{\"field\":\"y\"}},\"id\":\"64042\",\"type\":\"Patch\"},{\"attributes\":{},\"id\":\"64039\",\"type\":\"Selection\"},{\"attributes\":{\"fill_alpha\":0.2,\"fill_color\":\"#e5ae38\",\"hatch_alpha\":0.2,\"hatch_color\":\"#e5ae38\",\"line_alpha\":0.2,\"x\":{\"field\":\"x\"},\"y\":{\"field\":\"y\"}},\"id\":\"64043\",\"type\":\"Patch\"},{\"attributes\":{\"margin\":[5,5,5,5],\"name\":\"HSpacer148503\",\"sizing_mode\":\"stretch_width\"},\"id\":\"63953\",\"type\":\"Spacer\"},{\"attributes\":{\"click_policy\":\"mute\",\"coordinates\":null,\"group\":null,\"items\":[{\"id\":\"64014\"},{\"id\":\"64036\"},{\"id\":\"64060\"}],\"title\":\"forecast_flag\"},\"id\":\"64013\",\"type\":\"Legend\"},{\"attributes\":{\"fill_alpha\":0.5,\"fill_color\":\"#30a2da\",\"hatch_alpha\":0.1,\"hatch_color\":\"#30a2da\",\"line_alpha\":0.7,\"x\":{\"field\":\"x\"},\"y\":{\"field\":\"y\"}},\"id\":\"63999\",\"type\":\"Patch\"},{\"attributes\":{\"coordinates\":null,\"group\":null,\"text\":\"unit cost(density)\",\"text_color\":\"black\",\"text_font_size\":\"12pt\"},\"id\":\"63960\",\"type\":\"Title\"},{\"attributes\":{\"fill_alpha\":0.2,\"fill_color\":\"#30a2da\",\"hatch_alpha\":0.2,\"hatch_color\":\"#30a2da\",\"line_alpha\":0.2,\"x\":{\"field\":\"x\"},\"y\":{\"field\":\"y\"}},\"id\":\"64000\",\"type\":\"Patch\"},{\"attributes\":{\"fill_alpha\":0.5,\"fill_color\":\"#e5ae38\",\"hatch_alpha\":0.7,\"hatch_color\":\"#e5ae38\",\"line_alpha\":0.7,\"x\":{\"field\":\"x\"},\"y\":{\"field\":\"y\"}},\"id\":\"64041\",\"type\":\"Patch\"},{\"attributes\":{\"data\":{\"x\":{\"__ndarray__\":\"b8210C/VBMAY4vQ+WL8DwMD2M62AqQLAaAtzG6mTAcARILKJ0X0AwHNp4u/zz/6/xJJgzESk/L8VvN6olXj6v2blXIXmTPi/tw7bYTch9r8IOFk+iPXzv1lh1xrZyfG/VBWr7lM877/2Z6en9eTqv5i6o2CXjea/PA2gGTk24r+4vziltb3bv/hkMRf5DtO/gBRUEnnAxL+A+Cqy/xebv+Cskkvy9Ls/8AvYQfJXzz+wYPOutVrYP7RdfR65hOA/FAuBZRfc5D90uISsdTPpP9BliPPTiu0/lglGHRnx8D9G4MdAyBzzP/a2SWR3SPU/oo3LhyZ09z9SZE2r1Z/5PwI7z86Ey/s/shFR8jP3/T8xdOmKcREAQIdfqhxJJwFA30prriA9AkA3NixA+FIDQI0h7dHPaARA5QyuY6d+BUA9+G71fpQGQJXjL4dWqgdA7c7wGC7ACEBDurGqBdYJQJulcjzd6wpA85AzzrQBDEBJfPRfjBcNQKFntfFjLQ5A+VJ2gztDD0Aon5uKiSwQQNQUfFN1txBAgIpcHGFCEUAsAD3lTM0RQNh1Ha44WBJAguv9diTjEkAuYd4/EG4TQNrWvgj8+BNAhkyf0eeDFEAywn+a0w4VQN43YGO/mRVAiK1ALKskFkA0IyH1lq8WQOCYAb6COhdAjA7ihm7FF0A4hMJPWlAYQOT5ohhG2xhAkG+D4TFmGUA85WOqHfEZQOhaRHMJfBpAktAkPPUGG0A+RgUF4ZEbQOq75c3MHBxAljHGlrinHEBCp6ZfpDIdQO4chyiQvR1AmpJn8XtIHkBECEi6Z9MeQPB9KINTXh9AnPMITD/pH0CktHSKFTogQHrv5G6LfyBAUCpVUwHFIEAmZcU3dwohQPyfNRztTyFA0tqlAGOVIUCnFRbl2NohQH1QhslOICJAU4v2rcRlIkApxmaSOqsiQP8A13aw8CJA1TtHWyY2I0Crdrc/nHsjQICxJyQSwSNAVuyXCIgGJEAsJwjt/UskQAJieNFzkSRA2JzotenWJECu11iaXxwlQIQSyX7VYSVAWk05Y0unJUBaTTljS6clQIQSyX7VYSVArtdYml8cJUDYnOi16dYkQAJieNFzkSRALCcI7f1LJEBW7JcIiAYkQICxJyQSwSNAq3a3P5x7I0DVO0dbJjYjQP8A13aw8CJAKcZmkjqrIkBTi/atxGUiQH1QhslOICJApxUW5djaIUDS2qUAY5UhQPyfNRztTyFAJmXFN3cKIUBQKlVTAcUgQHrv5G6LfyBApLR0ihU6IECc8whMP+kfQPB9KINTXh9ARAhIumfTHkCakmfxe0geQO4chyiQvR1AQqemX6QyHUCWMcaWuKccQOq75c3MHBxAPkYFBeGRG0CS0CQ89QYbQOhaRHMJfBpAPOVjqh3xGUCQb4PhMWYZQOT5ohhG2xhAOITCT1pQGECMDuKGbsUXQOCYAb6COhdANCMh9ZavFkCIrUAsqyQWQN43YGO/mRVAMsJ/mtMOFUCGTJ/R54MUQNrWvgj8+BNALmHePxBuE0CC6/12JOMSQNh1Ha44WBJALAA95UzNEUCAilwcYUIRQNQUfFN1txBAKJ+bioksEED5UnaDO0MPQKFntfFjLQ5ASXz0X4wXDUDzkDPOtAEMQJulcjzd6wpAQ7qxqgXWCUDtzvAYLsAIQJXjL4dWqgdAPfhu9X6UBkDlDK5jp34FQI0h7dHPaARANzYsQPhSA0DfSmuuID0CQIdfqhxJJwFAMXTpinERAECyEVHyM/f9PwI7z86Ey/s/UmRNq9Wf+T+ijcuHJnT3P/a2SWR3SPU/RuDHQMgc8z+WCUYdGfHwP9BliPPTiu0/dLiErHUz6T8UC4FlF9zkP7RdfR65hOA/sGDzrrVa2D/wC9hB8lfPP+Cskkvy9Ls/gPgqsv8Xm7+AFFQSecDEv/hkMRf5DtO/uL84pbW92788DaAZOTbiv5i6o2CXjea/9menp/Xk6r9UFavuUzzvv1lh1xrZyfG/CDhZPoj187+3DtthNyH2v2blXIXmTPi/FbzeqJV4+r/EkmDMRKT8v3Np4u/zz/6/ESCyidF9AMBoC3MbqZMBwMD2M62AqQLAGOL0Pli/A8BvzbXQL9UEwA==\",\"dtype\":\"float64\",\"order\":\"little\",\"shape\":[200]},\"y\":{\"__ndarray__\":\"AAAAAAAAAAAAAAAAAAAAAAAAAAAAAAAAAAAAAAAAAAAAAAAAAAAAAAAAAAAAAAAAAAAAAAAAAAAAAAAAAAAAAAAAAAAAAAAAAAAAAAAAAAAAAAAAAAAAAAAAAAAAAAAAAAAAAAAAAAAAAAAAAAAAAAAAAAAAAAAAAAAAAAAAAAAAAAAAAAAAAAAAAAAAAAAAAAAAAAAAAAAAAAAAAAAAAAAAAAAAAAAAAAAAAAAAAAAAAAAAAAAAAAAAAAAAAAAAAAAAAAAAAAAAAAAAAAAAAAAAAAAAAAAAAAAAAAAAAAAAAAAAAAAAAAAAAAAAAAAAAAAAAAAAAAAAAAAAAAAAAAAAAAAAAAAAAAAAAAAAAAAAAAAAAAAAAAAAAAAAAAAAAAAAAAAAAAAAAAAAAAAAAAAAAAAAAAAAAAAAAAAAAAAAAAAAAAAAAAAAAAAAAAAAAAAAAAAAAAAAAAAAAAAAAAAAAAAAAAAAAAAAAAAAAAAAAAAAAAAAAAAAAAAAAAAAAAAAAAAAAAAAAAAAAAAAAAAAAAAAAAAAAAAAAAAAAAAAAAAAAAAAAAAAAAAAAAAAAAAAAAAAAAAAAAAAAAAAAAAAAAAAAAAAAAAAAAAAAAAAAAAAAAAAAAAAAAAAAAAAAAAAAAAAAAAAAAAAAAAAAAAAAAAAAAAAAAAAAAAAAAAAAAAAAAAAAAAAAAAAAAAAAAAAAAAAAAAAAAAAAAAAAAAAAAAAAAAAAAAAAAAAAAAAAAAAAAAAAAAAAAAAAAAAAAAAAAAAAAAAAAAAAAAAAAAAAAAAAAAAAAAAAAAAAAAAAAAAAAAAAAAAAAAAAAAAAAAAAAAAAAAAAAAAAAAAAAAAAAAAAAAAAAAAAAAAAAAAAAAAAAAAAAAAAAAAAAAAAAAAAAAAAAAAAAAAAAAAAAAAAAAAAAAAAAAAAAAAAAAAAAAAAAAAAAAAAAAAAAAAAAAAAAAAAAAAAAAAAAAAAAAAAAAAAAAAAAAAAAAAAAAAAAAAAAAAAAAAAAAAAAAAAAAAAAAAAAAAAAAAAAAAAAAAAAAAAAAAAAAAAAAAAAA9GiOm0d79PhnHyan8lRU/KTs+rJoNKz/qWwOhsWY9P7WcimDNtUs/riHJ6zWnVj9Iulc8nBJgPyaVMmQr1GM/6NCKQtNfZT+MUeIMC2tkPysm3x4G8GE/vamJVlhiXz9U1gTqZV5eP2Twzc3Lv2A/TEYPp4RZYz+BLsOtJTVlPwwYirZy32Q/IMTAwpAJYj+SiAiaEyZbPwJrrpMfvlE/DXz6Sp4eRD8Z5eS5cskzP7eO4qYc4CA/sVOBk4b4CD/t71Y+biPwPuHG7dRldNQ++63UpwOezz7Zgj1MPR7mPtkKXXHIsgE/2BDEePQDGT9QIYkf57IuP3X/+jMhWEA/akKSyu44Tj8NEZ7ZpU1YPxKm8jmeEGE/fvtdJlEcZT9JAXW+jHJnP2x8Af3wRGg/SZPgw6zPaD/vN/S4D4JqP7IPxiVG520/aE3RVMgUcT+gIZSOZMVyP933XHLXOXM/1+nQVKU0cj9hdicnLTJwPyjukFjKZWw/gsOv5seAaj/1VowpW+BrP3Vu4hcDMXA/yIKMCQOEcz+smbutV3R3PwZN8Ux97Hs/3UvqGjKQgD/Wy60Bj46DP/kd6iYNtIY/5+fWNSqQiT/LETuOhNSLP1McQMMBqo0/d5PcB/axjz8uEKIiq1WRP11R0TEaipM/YW6DxBiUlj+tpLDiypyaPy2md9kO/Z8//6FJbyGUoz8GsWiAtDSoP2Q/KK5x2q0/ipwSvT4wsj/n1QAErNO1P7NvnbEC17k/9eOiEMVGvj/WJPji45rBP030JknzYMQ/rNbsCduPxz8BGKHgI0nLP6Z6TAWJn88/t1CXFio+0j9DdjzZrczUPzI+3Db4S9c/mJHii6GP2T9bvmpm2XLbPx+bY0/u0Nw/SlzzwHx+3T8WLJkLMVDdP4Wwjz9fLtw/4n9sDMQm2j8BOiy+SmzXP3Fbl2tqQtQ/HqAoqhrk0D+5PKqTdfbKP1IgzOrkWMQ/kSa4nKiVvD/2Fq7baGWyP5yx0fKbZqU/uh8z9IBDlj+SNqZ6II2EP4SRKMVbvXA/Wj83qi74Vz+fzROIrRU+Pw==\",\"dtype\":\"float64\",\"order\":\"little\",\"shape\":[200]}},\"selected\":{\"id\":\"64039\"},\"selection_policy\":{\"id\":\"64057\"}},\"id\":\"64038\",\"type\":\"ColumnDataSource\"},{\"attributes\":{\"coordinates\":null,\"data_source\":{\"id\":\"63995\"},\"glyph\":{\"id\":\"63998\"},\"group\":null,\"hover_glyph\":null,\"muted_glyph\":{\"id\":\"64000\"},\"nonselection_glyph\":{\"id\":\"63999\"},\"selection_glyph\":{\"id\":\"64015\"},\"view\":{\"id\":\"64002\"}},\"id\":\"64001\",\"type\":\"GlyphRenderer\"},{\"attributes\":{},\"id\":\"63980\",\"type\":\"ResetTool\"},{\"attributes\":{},\"id\":\"63990\",\"type\":\"BasicTickFormatter\"},{\"attributes\":{\"axis_label\":\"households\",\"coordinates\":null,\"formatter\":{\"id\":\"63990\"},\"group\":null,\"major_label_policy\":{\"id\":\"63991\"},\"ticker\":{\"id\":\"63969\"}},\"id\":\"63968\",\"type\":\"LinearAxis\"},{\"attributes\":{\"end\":16.424607934619868,\"reset_end\":16.424607934619868,\"reset_start\":-2.6257299466820667,\"start\":-2.6257299466820667,\"tags\":[[[\"households\",\"households\",null]]]},\"id\":\"63954\",\"type\":\"Range1d\"},{\"attributes\":{},\"id\":\"63966\",\"type\":\"LinearScale\"},{\"attributes\":{\"label\":{\"value\":\"over predict\"},\"renderers\":[{\"id\":\"64001\"}]},\"id\":\"64014\",\"type\":\"LegendItem\"},{\"attributes\":{},\"id\":\"63977\",\"type\":\"PanTool\"},{\"attributes\":{},\"id\":\"63976\",\"type\":\"SaveTool\"},{\"attributes\":{},\"id\":\"63964\",\"type\":\"LinearScale\"},{\"attributes\":{\"fill_alpha\":0.5,\"fill_color\":\"#30a2da\",\"hatch_alpha\":0.7,\"hatch_color\":\"#30a2da\",\"line_alpha\":0.7,\"x\":{\"field\":\"x\"},\"y\":{\"field\":\"y\"}},\"id\":\"63998\",\"type\":\"Patch\"},{\"attributes\":{},\"id\":\"64017\",\"type\":\"Selection\"},{\"attributes\":{},\"id\":\"63969\",\"type\":\"BasicTicker\"},{\"attributes\":{\"margin\":[5,5,5,5],\"name\":\"HSpacer148504\",\"sizing_mode\":\"stretch_width\"},\"id\":\"64174\",\"type\":\"Spacer\"},{\"attributes\":{\"below\":[{\"id\":\"63968\"}],\"center\":[{\"id\":\"63971\"},{\"id\":\"63975\"},{\"id\":\"64013\"}],\"height\":400,\"left\":[{\"id\":\"63972\"}],\"margin\":[5,5,5,5],\"min_border_bottom\":10,\"min_border_left\":10,\"min_border_right\":10,\"min_border_top\":10,\"renderers\":[{\"id\":\"64001\"},{\"id\":\"64022\"},{\"id\":\"64044\"}],\"sizing_mode\":\"fixed\",\"title\":{\"id\":\"63960\"},\"toolbar\":{\"id\":\"63982\"},\"width\":800,\"x_range\":{\"id\":\"63954\"},\"x_scale\":{\"id\":\"63964\"},\"y_range\":{\"id\":\"63955\"},\"y_scale\":{\"id\":\"63966\"}},\"id\":\"63959\",\"subtype\":\"Figure\",\"type\":\"Plot\"},{\"attributes\":{\"end\":0.6230764977070172,\"reset_end\":0.6230764977070172,\"reset_start\":0.0,\"tags\":[[[\"households_density\",\"Density\",null]]]},\"id\":\"63955\",\"type\":\"Range1d\"},{\"attributes\":{},\"id\":\"64010\",\"type\":\"UnionRenderers\"},{\"attributes\":{\"tools\":[{\"id\":\"63956\"},{\"id\":\"63976\"},{\"id\":\"63977\"},{\"id\":\"63978\"},{\"id\":\"63979\"},{\"id\":\"63980\"}]},\"id\":\"63982\",\"type\":\"Toolbar\"},{\"attributes\":{\"source\":{\"id\":\"64016\"}},\"id\":\"64023\",\"type\":\"CDSView\"},{\"attributes\":{},\"id\":\"64057\",\"type\":\"UnionRenderers\"},{\"attributes\":{},\"id\":\"63994\",\"type\":\"AllLabels\"},{\"attributes\":{\"axis_label\":\"density\",\"coordinates\":null,\"formatter\":{\"id\":\"63993\"},\"group\":null,\"major_label_policy\":{\"id\":\"63994\"},\"ticker\":{\"id\":\"63973\"}},\"id\":\"63972\",\"type\":\"LinearAxis\"},{\"attributes\":{\"fill_alpha\":0.2,\"fill_color\":\"#fc4f30\",\"hatch_alpha\":0.2,\"hatch_color\":\"#fc4f30\",\"line_alpha\":0.2,\"x\":{\"field\":\"x\"},\"y\":{\"field\":\"y\"}},\"id\":\"64021\",\"type\":\"Patch\"},{\"attributes\":{},\"id\":\"63996\",\"type\":\"Selection\"},{\"attributes\":{\"fill_alpha\":0.5,\"fill_color\":\"#fc4f30\",\"hatch_alpha\":0.7,\"hatch_color\":\"#fc4f30\",\"line_alpha\":0.7,\"x\":{\"field\":\"x\"},\"y\":{\"field\":\"y\"}},\"id\":\"64019\",\"type\":\"Patch\"},{\"attributes\":{\"label\":{\"value\":\"under predict\"},\"renderers\":[{\"id\":\"64044\"}]},\"id\":\"64060\",\"type\":\"LegendItem\"},{\"attributes\":{\"coordinates\":null,\"data_source\":{\"id\":\"64016\"},\"glyph\":{\"id\":\"64019\"},\"group\":null,\"hover_glyph\":null,\"muted_glyph\":{\"id\":\"64021\"},\"nonselection_glyph\":{\"id\":\"64020\"},\"selection_glyph\":{\"id\":\"64037\"},\"view\":{\"id\":\"64023\"}},\"id\":\"64022\",\"type\":\"GlyphRenderer\"},{\"attributes\":{\"source\":{\"id\":\"63995\"}},\"id\":\"64002\",\"type\":\"CDSView\"},{\"attributes\":{},\"id\":\"63993\",\"type\":\"BasicTickFormatter\"},{\"attributes\":{\"fill_alpha\":0.5,\"fill_color\":\"#fc4f30\",\"hatch_alpha\":0.7,\"hatch_color\":\"#fc4f30\",\"line_alpha\":0.7,\"x\":{\"field\":\"x\"},\"y\":{\"field\":\"y\"}},\"id\":\"64037\",\"type\":\"Patch\"},{\"attributes\":{},\"id\":\"64033\",\"type\":\"UnionRenderers\"},{\"attributes\":{\"bottom_units\":\"screen\",\"coordinates\":null,\"fill_alpha\":0.5,\"fill_color\":\"lightgrey\",\"group\":null,\"left_units\":\"screen\",\"level\":\"overlay\",\"line_alpha\":1.0,\"line_color\":\"black\",\"line_dash\":[4,4],\"line_width\":2,\"right_units\":\"screen\",\"syncable\":false,\"top_units\":\"screen\"},\"id\":\"63981\",\"type\":\"BoxAnnotation\"},{\"attributes\":{\"children\":[{\"id\":\"63953\"},{\"id\":\"63959\"},{\"id\":\"64174\"}],\"margin\":[0,0,0,0],\"name\":\"Row148499\",\"tags\":[\"embedded\"]},\"id\":\"63952\",\"type\":\"Row\"},{\"attributes\":{},\"id\":\"63978\",\"type\":\"WheelZoomTool\"},{\"attributes\":{\"fill_alpha\":0.5,\"fill_color\":\"#fc4f30\",\"hatch_alpha\":0.1,\"hatch_color\":\"#fc4f30\",\"line_alpha\":0.7,\"x\":{\"field\":\"x\"},\"y\":{\"field\":\"y\"}},\"id\":\"64020\",\"type\":\"Patch\"},{\"attributes\":{\"label\":{\"value\":\"good\"},\"renderers\":[{\"id\":\"64022\"}]},\"id\":\"64036\",\"type\":\"LegendItem\"},{\"attributes\":{},\"id\":\"63973\",\"type\":\"BasicTicker\"},{\"attributes\":{\"axis\":{\"id\":\"63968\"},\"coordinates\":null,\"grid_line_color\":null,\"group\":null,\"ticker\":null},\"id\":\"63971\",\"type\":\"Grid\"},{\"attributes\":{\"fill_alpha\":0.5,\"fill_color\":\"#30a2da\",\"hatch_alpha\":0.7,\"hatch_color\":\"#30a2da\",\"line_alpha\":0.7,\"x\":{\"field\":\"x\"},\"y\":{\"field\":\"y\"}},\"id\":\"64015\",\"type\":\"Patch\"},{\"attributes\":{\"fill_alpha\":0.5,\"fill_color\":\"#e5ae38\",\"hatch_alpha\":0.7,\"hatch_color\":\"#e5ae38\",\"line_alpha\":0.7,\"x\":{\"field\":\"x\"},\"y\":{\"field\":\"y\"}},\"id\":\"64061\",\"type\":\"Patch\"}],\"root_ids\":[\"63952\"]},\"title\":\"Bokeh Application\",\"version\":\"2.4.3\"}};\n",
       "    var render_items = [{\"docid\":\"34d57141-dfb9-42be-89c6-5a0b1038636a\",\"root_ids\":[\"63952\"],\"roots\":{\"63952\":\"d64fce02-ba8e-4f0e-a0ff-6d85dc4ec158\"}}];\n",
       "    root.Bokeh.embed.embed_items_notebook(docs_json, render_items);\n",
       "  }\n",
       "  if (root.Bokeh !== undefined && root.Bokeh.Panel !== undefined) {\n",
       "    embed_document(root);\n",
       "  } else {\n",
       "    var attempts = 0;\n",
       "    var timer = setInterval(function(root) {\n",
       "      if (root.Bokeh !== undefined && root.Bokeh.Panel !== undefined) {\n",
       "        clearInterval(timer);\n",
       "        embed_document(root);\n",
       "      } else if (document.readyState == \"complete\") {\n",
       "        attempts++;\n",
       "        if (attempts > 200) {\n",
       "          clearInterval(timer);\n",
       "          console.log(\"Bokeh: ERROR: Unable to run BokehJS code because BokehJS library is missing\");\n",
       "        }\n",
       "      }\n",
       "    }, 25, root)\n",
       "  }\n",
       "})(window);</script>"
      ],
      "text/plain": [
       ":NdOverlay   [forecast_flag]\n",
       "   :Distribution   [households]   (Density)"
      ]
     },
     "execution_count": 42,
     "metadata": {
      "application/vnd.holoviews_exec.v0+json": {
       "id": "63952"
      }
     },
     "output_type": "execute_result"
    }
   ],
   "source": [
    "residual_analysis.hvplot.kde(y=\"households\",by=\"forecast_flag\", ## Grouping by Predictions\n",
    "                                width=800, height=400,\n",
    "                                alpha=0.7,\n",
    "                                ylabel=\"density\",\n",
    "                                xlabel=\"households\",\n",
    "                                title=f'unit cost(density)',legend='top_right')"
   ]
  },
  {
   "cell_type": "markdown",
   "metadata": {},
   "source": [
    "- From the above plot we can infer that the higher \"over predictions\" are happening for unit_cost > 200.\n",
    "- similarly, the higher \"under predictions\" are happening for unit_cost is zero.\n",
    "\n",
    "This can help us tune the model by a separate model for unit_cost > 200\n"
   ]
  },
  {
   "cell_type": "markdown",
   "metadata": {},
   "source": [
    "# 4.2 Modelling - XGBoost"
   ]
  },
  {
   "cell_type": "markdown",
   "metadata": {},
   "source": [
    "## 4.2.1 Model training pipeline\n",
    "\n",
    "Here we focus on creating a collection of pipelines that can be used for tranining respective models.\n",
    "\n",
    "Each model pipeline will essentially be of the form\n",
    "```\n",
    "[\n",
    "('preprocessing', preprocessing_pipeline),\n",
    "('feature_selection', feature_selection_pipeline),\n",
    "('estimator', estimator),\n",
    "]\n",
    "```"
   ]
  },
  {
   "cell_type": "markdown",
   "metadata": {},
   "source": [
    "### 4.2.2 Model Pipeline Build"
   ]
  },
  {
   "cell_type": "code",
   "execution_count": 43,
   "metadata": {},
   "outputs": [
    {
     "data": {
      "text/html": [
       "<style>#sk-container-id-2 {color: black;background-color: white;}#sk-container-id-2 pre{padding: 0;}#sk-container-id-2 div.sk-toggleable {background-color: white;}#sk-container-id-2 label.sk-toggleable__label {cursor: pointer;display: block;width: 100%;margin-bottom: 0;padding: 0.3em;box-sizing: border-box;text-align: center;}#sk-container-id-2 label.sk-toggleable__label-arrow:before {content: \"▸\";float: left;margin-right: 0.25em;color: #696969;}#sk-container-id-2 label.sk-toggleable__label-arrow:hover:before {color: black;}#sk-container-id-2 div.sk-estimator:hover label.sk-toggleable__label-arrow:before {color: black;}#sk-container-id-2 div.sk-toggleable__content {max-height: 0;max-width: 0;overflow: hidden;text-align: left;background-color: #f0f8ff;}#sk-container-id-2 div.sk-toggleable__content pre {margin: 0.2em;color: black;border-radius: 0.25em;background-color: #f0f8ff;}#sk-container-id-2 input.sk-toggleable__control:checked~div.sk-toggleable__content {max-height: 200px;max-width: 100%;overflow: auto;}#sk-container-id-2 input.sk-toggleable__control:checked~label.sk-toggleable__label-arrow:before {content: \"▾\";}#sk-container-id-2 div.sk-estimator input.sk-toggleable__control:checked~label.sk-toggleable__label {background-color: #d4ebff;}#sk-container-id-2 div.sk-label input.sk-toggleable__control:checked~label.sk-toggleable__label {background-color: #d4ebff;}#sk-container-id-2 input.sk-hidden--visually {border: 0;clip: rect(1px 1px 1px 1px);clip: rect(1px, 1px, 1px, 1px);height: 1px;margin: -1px;overflow: hidden;padding: 0;position: absolute;width: 1px;}#sk-container-id-2 div.sk-estimator {font-family: monospace;background-color: #f0f8ff;border: 1px dotted black;border-radius: 0.25em;box-sizing: border-box;margin-bottom: 0.5em;}#sk-container-id-2 div.sk-estimator:hover {background-color: #d4ebff;}#sk-container-id-2 div.sk-parallel-item::after {content: \"\";width: 100%;border-bottom: 1px solid gray;flex-grow: 1;}#sk-container-id-2 div.sk-label:hover label.sk-toggleable__label {background-color: #d4ebff;}#sk-container-id-2 div.sk-serial::before {content: \"\";position: absolute;border-left: 1px solid gray;box-sizing: border-box;top: 0;bottom: 0;left: 50%;z-index: 0;}#sk-container-id-2 div.sk-serial {display: flex;flex-direction: column;align-items: center;background-color: white;padding-right: 0.2em;padding-left: 0.2em;position: relative;}#sk-container-id-2 div.sk-item {position: relative;z-index: 1;}#sk-container-id-2 div.sk-parallel {display: flex;align-items: stretch;justify-content: center;background-color: white;position: relative;}#sk-container-id-2 div.sk-item::before, #sk-container-id-2 div.sk-parallel-item::before {content: \"\";position: absolute;border-left: 1px solid gray;box-sizing: border-box;top: 0;bottom: 0;left: 50%;z-index: -1;}#sk-container-id-2 div.sk-parallel-item {display: flex;flex-direction: column;z-index: 1;position: relative;background-color: white;}#sk-container-id-2 div.sk-parallel-item:first-child::after {align-self: flex-end;width: 50%;}#sk-container-id-2 div.sk-parallel-item:last-child::after {align-self: flex-start;width: 50%;}#sk-container-id-2 div.sk-parallel-item:only-child::after {width: 0;}#sk-container-id-2 div.sk-dashed-wrapped {border: 1px dashed gray;margin: 0 0.4em 0.5em 0.4em;box-sizing: border-box;padding-bottom: 0.4em;background-color: white;}#sk-container-id-2 div.sk-label label {font-family: monospace;font-weight: bold;display: inline-block;line-height: 1.2em;}#sk-container-id-2 div.sk-label-container {text-align: center;}#sk-container-id-2 div.sk-container {/* jupyter's `normalize.less` sets `[hidden] { display: none; }` but bootstrap.min.css set `[hidden] { display: none !important; }` so we also need the `!important` here to be able to override the default hidden behavior on the sphinx rendered scikit-learn.org. See: https://github.com/scikit-learn/scikit-learn/issues/21755 */display: inline-block !important;position: relative;}#sk-container-id-2 div.sk-text-repr-fallback {display: none;}</style><div id=\"sk-container-id-2\" class=\"sk-top-container\"><div class=\"sk-text-repr-fallback\"><pre>Pipeline(steps=[(&#x27;XGBoost&#x27;,\n",
       "                 XGBRegressor(base_score=0.5, booster=&#x27;gbtree&#x27;,\n",
       "                              colsample_bylevel=1, colsample_bynode=1,\n",
       "                              colsample_bytree=1, enable_categorical=False,\n",
       "                              gamma=0, gpu_id=-1, importance_type=None,\n",
       "                              interaction_constraints=&#x27;&#x27;,\n",
       "                              learning_rate=0.300000012, max_delta_step=0,\n",
       "                              max_depth=6, min_child_weight=1, missing=nan,\n",
       "                              monotone_constraints=&#x27;()&#x27;, n_estimators=100,\n",
       "                              n_jobs=8, num_parallel_tree=1, predictor=&#x27;auto&#x27;,\n",
       "                              random_state=0, reg_alpha=0, reg_lambda=1,\n",
       "                              scale_pos_weight=1, subsample=1,\n",
       "                              tree_method=&#x27;exact&#x27;, validate_parameters=1,\n",
       "                              verbosity=None))])</pre><b>In a Jupyter environment, please rerun this cell to show the HTML representation or trust the notebook. <br />On GitHub, the HTML representation is unable to render, please try loading this page with nbviewer.org.</b></div><div class=\"sk-container\" hidden><div class=\"sk-item sk-dashed-wrapped\"><div class=\"sk-label-container\"><div class=\"sk-label sk-toggleable\"><input class=\"sk-toggleable__control sk-hidden--visually\" id=\"sk-estimator-id-4\" type=\"checkbox\" ><label for=\"sk-estimator-id-4\" class=\"sk-toggleable__label sk-toggleable__label-arrow\">Pipeline</label><div class=\"sk-toggleable__content\"><pre>Pipeline(steps=[(&#x27;XGBoost&#x27;,\n",
       "                 XGBRegressor(base_score=0.5, booster=&#x27;gbtree&#x27;,\n",
       "                              colsample_bylevel=1, colsample_bynode=1,\n",
       "                              colsample_bytree=1, enable_categorical=False,\n",
       "                              gamma=0, gpu_id=-1, importance_type=None,\n",
       "                              interaction_constraints=&#x27;&#x27;,\n",
       "                              learning_rate=0.300000012, max_delta_step=0,\n",
       "                              max_depth=6, min_child_weight=1, missing=nan,\n",
       "                              monotone_constraints=&#x27;()&#x27;, n_estimators=100,\n",
       "                              n_jobs=8, num_parallel_tree=1, predictor=&#x27;auto&#x27;,\n",
       "                              random_state=0, reg_alpha=0, reg_lambda=1,\n",
       "                              scale_pos_weight=1, subsample=1,\n",
       "                              tree_method=&#x27;exact&#x27;, validate_parameters=1,\n",
       "                              verbosity=None))])</pre></div></div></div><div class=\"sk-serial\"><div class=\"sk-item\"><div class=\"sk-estimator sk-toggleable\"><input class=\"sk-toggleable__control sk-hidden--visually\" id=\"sk-estimator-id-5\" type=\"checkbox\" ><label for=\"sk-estimator-id-5\" class=\"sk-toggleable__label sk-toggleable__label-arrow\">XGBRegressor</label><div class=\"sk-toggleable__content\"><pre>XGBRegressor(base_score=0.5, booster=&#x27;gbtree&#x27;, colsample_bylevel=1,\n",
       "             colsample_bynode=1, colsample_bytree=1, enable_categorical=False,\n",
       "             gamma=0, gpu_id=-1, importance_type=None,\n",
       "             interaction_constraints=&#x27;&#x27;, learning_rate=0.300000012,\n",
       "             max_delta_step=0, max_depth=6, min_child_weight=1, missing=nan,\n",
       "             monotone_constraints=&#x27;()&#x27;, n_estimators=100, n_jobs=8,\n",
       "             num_parallel_tree=1, predictor=&#x27;auto&#x27;, random_state=0, reg_alpha=0,\n",
       "             reg_lambda=1, scale_pos_weight=1, subsample=1, tree_method=&#x27;exact&#x27;,\n",
       "             validate_parameters=1, verbosity=None)</pre></div></div></div></div></div></div></div>"
      ],
      "text/plain": [
       "Pipeline(steps=[('XGBoost',\n",
       "                 XGBRegressor(base_score=0.5, booster='gbtree',\n",
       "                              colsample_bylevel=1, colsample_bynode=1,\n",
       "                              colsample_bytree=1, enable_categorical=False,\n",
       "                              gamma=0, gpu_id=-1, importance_type=None,\n",
       "                              interaction_constraints='',\n",
       "                              learning_rate=0.300000012, max_delta_step=0,\n",
       "                              max_depth=6, min_child_weight=1, missing=nan,\n",
       "                              monotone_constraints='()', n_estimators=100,\n",
       "                              n_jobs=8, num_parallel_tree=1, predictor='auto',\n",
       "                              random_state=0, reg_alpha=0, reg_lambda=1,\n",
       "                              scale_pos_weight=1, subsample=1,\n",
       "                              tree_method='exact', validate_parameters=1,\n",
       "                              verbosity=None))])"
      ]
     },
     "execution_count": 43,
     "metadata": {},
     "output_type": "execute_result"
    }
   ],
   "source": [
    "# let's find features for some decent defaults\n",
    "from xgboost import XGBRegressor\n",
    "\n",
    "estimator = XGBRegressor()\n",
    "xgb_training_pipe_init = Pipeline([\n",
    "    ('XGBoost', XGBRegressor())\n",
    "])\n",
    "xgb_training_pipe_init.fit(train_X, train_y)"
   ]
  },
  {
   "cell_type": "markdown",
   "metadata": {},
   "source": [
    "### 4.2.3 Model Tuning"
   ]
  },
  {
   "cell_type": "code",
   "execution_count": 44,
   "metadata": {},
   "outputs": [
    {
     "data": {
      "text/plain": [
       "<AxesSubplot:>"
      ]
     },
     "execution_count": 44,
     "metadata": {},
     "output_type": "execute_result"
    },
    {
     "data": {
      "image/png": "[encoded data removed]",
      "text/plain": [
       "<Figure size 640x480 with 1 Axes>"
      ]
     },
     "metadata": {},
     "output_type": "display_data"
    }
   ],
   "source": [
    "# Understanding the Feature Importance\n",
    "%matplotlib inline\n",
    "imp = pd.DataFrame({'importance': xgb_training_pipe_init['XGBoost'].feature_importances_})\n",
    "imp.index = train_X.columns\n",
    "imp.sort_values('importance',inplace=True)\n",
    "imp.plot(kind='barh')"
   ]
  },
  {
   "cell_type": "markdown",
   "metadata": {},
   "source": [
    "'condition','model_family','days_since_last_purchase','first_time_customer','sales_person', are considered to be important and in grid search"
   ]
  },
  {
   "cell_type": "markdown",
   "metadata": {},
   "source": [
    "##### Pipeline build based on new importance features"
   ]
  },
  {
   "cell_type": "code",
   "execution_count": 45,
   "metadata": {},
   "outputs": [],
   "source": [
    "# let's find features for some decent defaults\n",
    "imp_features = ['ocean_proximity_INLAND','median_income','ocean_proximity_ISLAND','population_per_household','housing_median_age','ocean_proximity_NEAR OCEAN', 'latitude', 'longitude']\n",
    "\n",
    "estimator = XGBRegressor()\n",
    "xgb_training_pipe2 = Pipeline([\n",
    "    ('', FunctionTransformer(_custom_data_transform, kw_args={'cols2keep':imp_features})),\n",
    "    ('XGBoost', XGBRegressor())\n",
    "])"
   ]
  },
  {
   "cell_type": "markdown",
   "metadata": {},
   "source": [
    "#### Grid Search of the Estimator"
   ]
  },
  {
   "cell_type": "code",
   "execution_count": null,
   "metadata": {},
   "outputs": [],
   "source": [
    "%%time\n",
    "parameters = {\n",
    "   'gamma':[0.03],\n",
    "   'min_child_weight':[6],\n",
    "   'learning_rate':[0.1],\n",
    "   'max_depth':[3],\n",
    "   'n_estimators':[500],\n",
    "}\n",
    "est = XGBRegressor()\n",
    "xgb_grid = GridSearchCV(est,\n",
    "                        parameters,\n",
    "                        cv = 2,\n",
    "                        n_jobs = 4,\n",
    "                        verbose=True)\n",
    "\n",
    "xgb_grid.fit(train_X, train_y)\n",
    "\n",
    "print(xgb_grid.best_score_)\n",
    "print(xgb_grid.best_params_)"
   ]
  },
  {
   "cell_type": "markdown",
   "metadata": {},
   "source": [
    "#### Pipeline Build using the best estimator"
   ]
  },
  {
   "cell_type": "code",
   "execution_count": 47,
   "metadata": {},
   "outputs": [
    {
     "data": {
      "text/html": [
       "<style>#sk-container-id-3 {color: black;background-color: white;}#sk-container-id-3 pre{padding: 0;}#sk-container-id-3 div.sk-toggleable {background-color: white;}#sk-container-id-3 label.sk-toggleable__label {cursor: pointer;display: block;width: 100%;margin-bottom: 0;padding: 0.3em;box-sizing: border-box;text-align: center;}#sk-container-id-3 label.sk-toggleable__label-arrow:before {content: \"▸\";float: left;margin-right: 0.25em;color: #696969;}#sk-container-id-3 label.sk-toggleable__label-arrow:hover:before {color: black;}#sk-container-id-3 div.sk-estimator:hover label.sk-toggleable__label-arrow:before {color: black;}#sk-container-id-3 div.sk-toggleable__content {max-height: 0;max-width: 0;overflow: hidden;text-align: left;background-color: #f0f8ff;}#sk-container-id-3 div.sk-toggleable__content pre {margin: 0.2em;color: black;border-radius: 0.25em;background-color: #f0f8ff;}#sk-container-id-3 input.sk-toggleable__control:checked~div.sk-toggleable__content {max-height: 200px;max-width: 100%;overflow: auto;}#sk-container-id-3 input.sk-toggleable__control:checked~label.sk-toggleable__label-arrow:before {content: \"▾\";}#sk-container-id-3 div.sk-estimator input.sk-toggleable__control:checked~label.sk-toggleable__label {background-color: #d4ebff;}#sk-container-id-3 div.sk-label input.sk-toggleable__control:checked~label.sk-toggleable__label {background-color: #d4ebff;}#sk-container-id-3 input.sk-hidden--visually {border: 0;clip: rect(1px 1px 1px 1px);clip: rect(1px, 1px, 1px, 1px);height: 1px;margin: -1px;overflow: hidden;padding: 0;position: absolute;width: 1px;}#sk-container-id-3 div.sk-estimator {font-family: monospace;background-color: #f0f8ff;border: 1px dotted black;border-radius: 0.25em;box-sizing: border-box;margin-bottom: 0.5em;}#sk-container-id-3 div.sk-estimator:hover {background-color: #d4ebff;}#sk-container-id-3 div.sk-parallel-item::after {content: \"\";width: 100%;border-bottom: 1px solid gray;flex-grow: 1;}#sk-container-id-3 div.sk-label:hover label.sk-toggleable__label {background-color: #d4ebff;}#sk-container-id-3 div.sk-serial::before {content: \"\";position: absolute;border-left: 1px solid gray;box-sizing: border-box;top: 0;bottom: 0;left: 50%;z-index: 0;}#sk-container-id-3 div.sk-serial {display: flex;flex-direction: column;align-items: center;background-color: white;padding-right: 0.2em;padding-left: 0.2em;position: relative;}#sk-container-id-3 div.sk-item {position: relative;z-index: 1;}#sk-container-id-3 div.sk-parallel {display: flex;align-items: stretch;justify-content: center;background-color: white;position: relative;}#sk-container-id-3 div.sk-item::before, #sk-container-id-3 div.sk-parallel-item::before {content: \"\";position: absolute;border-left: 1px solid gray;box-sizing: border-box;top: 0;bottom: 0;left: 50%;z-index: -1;}#sk-container-id-3 div.sk-parallel-item {display: flex;flex-direction: column;z-index: 1;position: relative;background-color: white;}#sk-container-id-3 div.sk-parallel-item:first-child::after {align-self: flex-end;width: 50%;}#sk-container-id-3 div.sk-parallel-item:last-child::after {align-self: flex-start;width: 50%;}#sk-container-id-3 div.sk-parallel-item:only-child::after {width: 0;}#sk-container-id-3 div.sk-dashed-wrapped {border: 1px dashed gray;margin: 0 0.4em 0.5em 0.4em;box-sizing: border-box;padding-bottom: 0.4em;background-color: white;}#sk-container-id-3 div.sk-label label {font-family: monospace;font-weight: bold;display: inline-block;line-height: 1.2em;}#sk-container-id-3 div.sk-label-container {text-align: center;}#sk-container-id-3 div.sk-container {/* jupyter's `normalize.less` sets `[hidden] { display: none; }` but bootstrap.min.css set `[hidden] { display: none !important; }` so we also need the `!important` here to be able to override the default hidden behavior on the sphinx rendered scikit-learn.org. See: https://github.com/scikit-learn/scikit-learn/issues/21755 */display: inline-block !important;position: relative;}#sk-container-id-3 div.sk-text-repr-fallback {display: none;}</style><div id=\"sk-container-id-3\" class=\"sk-top-container\"><div class=\"sk-text-repr-fallback\"><pre>Pipeline(steps=[(&#x27;&#x27;,\n",
       "                 FunctionTransformer(func=&lt;function _custom_data_transform at 0x7fa492143940&gt;,\n",
       "                                     kw_args={&#x27;cols2keep&#x27;: [&#x27;ocean_proximity_INLAND&#x27;,\n",
       "                                                            &#x27;median_income&#x27;,\n",
       "                                                            &#x27;ocean_proximity_ISLAND&#x27;,\n",
       "                                                            &#x27;population_per_household&#x27;,\n",
       "                                                            &#x27;housing_median_age&#x27;,\n",
       "                                                            &#x27;ocean_proximity_NEAR &#x27;\n",
       "                                                            &#x27;OCEAN&#x27;,\n",
       "                                                            &#x27;latitude&#x27;,\n",
       "                                                            &#x27;longitude&#x27;]})),\n",
       "                (&#x27;XGBoost&#x27;,\n",
       "                 XGBRegressor(base_score=0.5, booster=&#x27;gbtree&#x27;,\n",
       "                              colsamp...\n",
       "                              gamma=0.03, gpu_id=-1, importance_type=None,\n",
       "                              interaction_constraints=&#x27;&#x27;, learning_rate=0.1,\n",
       "                              max_delta_step=0, max_depth=3, min_child_weight=6,\n",
       "                              missing=nan, monotone_constraints=&#x27;()&#x27;,\n",
       "                              n_estimators=500, n_jobs=8, num_parallel_tree=1,\n",
       "                              predictor=&#x27;auto&#x27;, random_state=0, reg_alpha=0,\n",
       "                              reg_lambda=1, scale_pos_weight=1, subsample=1,\n",
       "                              tree_method=&#x27;exact&#x27;, validate_parameters=1,\n",
       "                              verbosity=None))])</pre><b>In a Jupyter environment, please rerun this cell to show the HTML representation or trust the notebook. <br />On GitHub, the HTML representation is unable to render, please try loading this page with nbviewer.org.</b></div><div class=\"sk-container\" hidden><div class=\"sk-item sk-dashed-wrapped\"><div class=\"sk-label-container\"><div class=\"sk-label sk-toggleable\"><input class=\"sk-toggleable__control sk-hidden--visually\" id=\"sk-estimator-id-6\" type=\"checkbox\" ><label for=\"sk-estimator-id-6\" class=\"sk-toggleable__label sk-toggleable__label-arrow\">Pipeline</label><div class=\"sk-toggleable__content\"><pre>Pipeline(steps=[(&#x27;&#x27;,\n",
       "                 FunctionTransformer(func=&lt;function _custom_data_transform at 0x7fa492143940&gt;,\n",
       "                                     kw_args={&#x27;cols2keep&#x27;: [&#x27;ocean_proximity_INLAND&#x27;,\n",
       "                                                            &#x27;median_income&#x27;,\n",
       "                                                            &#x27;ocean_proximity_ISLAND&#x27;,\n",
       "                                                            &#x27;population_per_household&#x27;,\n",
       "                                                            &#x27;housing_median_age&#x27;,\n",
       "                                                            &#x27;ocean_proximity_NEAR &#x27;\n",
       "                                                            &#x27;OCEAN&#x27;,\n",
       "                                                            &#x27;latitude&#x27;,\n",
       "                                                            &#x27;longitude&#x27;]})),\n",
       "                (&#x27;XGBoost&#x27;,\n",
       "                 XGBRegressor(base_score=0.5, booster=&#x27;gbtree&#x27;,\n",
       "                              colsamp...\n",
       "                              gamma=0.03, gpu_id=-1, importance_type=None,\n",
       "                              interaction_constraints=&#x27;&#x27;, learning_rate=0.1,\n",
       "                              max_delta_step=0, max_depth=3, min_child_weight=6,\n",
       "                              missing=nan, monotone_constraints=&#x27;()&#x27;,\n",
       "                              n_estimators=500, n_jobs=8, num_parallel_tree=1,\n",
       "                              predictor=&#x27;auto&#x27;, random_state=0, reg_alpha=0,\n",
       "                              reg_lambda=1, scale_pos_weight=1, subsample=1,\n",
       "                              tree_method=&#x27;exact&#x27;, validate_parameters=1,\n",
       "                              verbosity=None))])</pre></div></div></div><div class=\"sk-serial\"><div class=\"sk-item\"><div class=\"sk-estimator sk-toggleable\"><input class=\"sk-toggleable__control sk-hidden--visually\" id=\"sk-estimator-id-7\" type=\"checkbox\" ><label for=\"sk-estimator-id-7\" class=\"sk-toggleable__label sk-toggleable__label-arrow\">FunctionTransformer</label><div class=\"sk-toggleable__content\"><pre>FunctionTransformer(func=&lt;function _custom_data_transform at 0x7fa492143940&gt;,\n",
       "                    kw_args={&#x27;cols2keep&#x27;: [&#x27;ocean_proximity_INLAND&#x27;,\n",
       "                                           &#x27;median_income&#x27;,\n",
       "                                           &#x27;ocean_proximity_ISLAND&#x27;,\n",
       "                                           &#x27;population_per_household&#x27;,\n",
       "                                           &#x27;housing_median_age&#x27;,\n",
       "                                           &#x27;ocean_proximity_NEAR OCEAN&#x27;,\n",
       "                                           &#x27;latitude&#x27;, &#x27;longitude&#x27;]})</pre></div></div></div><div class=\"sk-item\"><div class=\"sk-estimator sk-toggleable\"><input class=\"sk-toggleable__control sk-hidden--visually\" id=\"sk-estimator-id-8\" type=\"checkbox\" ><label for=\"sk-estimator-id-8\" class=\"sk-toggleable__label sk-toggleable__label-arrow\">XGBRegressor</label><div class=\"sk-toggleable__content\"><pre>XGBRegressor(base_score=0.5, booster=&#x27;gbtree&#x27;, colsample_bylevel=1,\n",
       "             colsample_bynode=1, colsample_bytree=1, enable_categorical=False,\n",
       "             gamma=0.03, gpu_id=-1, importance_type=None,\n",
       "             interaction_constraints=&#x27;&#x27;, learning_rate=0.1, max_delta_step=0,\n",
       "             max_depth=3, min_child_weight=6, missing=nan,\n",
       "             monotone_constraints=&#x27;()&#x27;, n_estimators=500, n_jobs=8,\n",
       "             num_parallel_tree=1, predictor=&#x27;auto&#x27;, random_state=0, reg_alpha=0,\n",
       "             reg_lambda=1, scale_pos_weight=1, subsample=1, tree_method=&#x27;exact&#x27;,\n",
       "             validate_parameters=1, verbosity=None)</pre></div></div></div></div></div></div></div>"
      ],
      "text/plain": [
       "Pipeline(steps=[('',\n",
       "                 FunctionTransformer(func=<function _custom_data_transform at 0x7fa492143940>,\n",
       "                                     kw_args={'cols2keep': ['ocean_proximity_INLAND',\n",
       "                                                            'median_income',\n",
       "                                                            'ocean_proximity_ISLAND',\n",
       "                                                            'population_per_household',\n",
       "                                                            'housing_median_age',\n",
       "                                                            'ocean_proximity_NEAR '\n",
       "                                                            'OCEAN',\n",
       "                                                            'latitude',\n",
       "                                                            'longitude']})),\n",
       "                ('XGBoost',\n",
       "                 XGBRegressor(base_score=0.5, booster='gbtree',\n",
       "                              colsamp...\n",
       "                              gamma=0.03, gpu_id=-1, importance_type=None,\n",
       "                              interaction_constraints='', learning_rate=0.1,\n",
       "                              max_delta_step=0, max_depth=3, min_child_weight=6,\n",
       "                              missing=nan, monotone_constraints='()',\n",
       "                              n_estimators=500, n_jobs=8, num_parallel_tree=1,\n",
       "                              predictor='auto', random_state=0, reg_alpha=0,\n",
       "                              reg_lambda=1, scale_pos_weight=1, subsample=1,\n",
       "                              tree_method='exact', validate_parameters=1,\n",
       "                              verbosity=None))])"
      ]
     },
     "execution_count": 47,
     "metadata": {},
     "output_type": "execute_result"
    }
   ],
   "source": [
    "xgb_pipeline_final = Pipeline([\n",
    "    ('', FunctionTransformer(_custom_data_transform, kw_args={'cols2keep':imp_features})),\n",
    "    ('XGBoost', xgb_grid.best_estimator_)\n",
    "])\n",
    "xgb_pipeline_final.fit(train_X, train_y)"
   ]
  },
  {
   "cell_type": "code",
   "execution_count": 48,
   "metadata": {},
   "outputs": [],
   "source": [
    "reg_tree_report = RegressionReport(model=xgb_pipeline_final, x_train=train_X, y_train=train_y, x_test= test_X, y_test= test_y)\n",
    "reg_tree_report.get_report(include_shap=False, file_path='regression_tree_model_report')"
   ]
  },
  {
   "cell_type": "markdown",
   "metadata": {},
   "source": [
    "The Regression report containing the feature importances are available [here](https://drive.google.com/file/d/1JBfL3uxPcxBfl0amweXBFmLr7CSHFBUO/view?usp=sharing)"
   ]
  },
  {
   "cell_type": "markdown",
   "metadata": {},
   "source": [
    "# 5 Model Comparison"
   ]
  },
  {
   "cell_type": "markdown",
   "metadata": {},
   "source": [
    "Now, a comparison report of the  linear (vs) tree -based model  approach can be generated as follows.\n",
    "\n",
    "This code will not be part of the production code."
   ]
  },
  {
   "cell_type": "code",
   "execution_count": 49,
   "metadata": {},
   "outputs": [],
   "source": [
    "yhat_reg = reg_ppln.predict(test_X)\n",
    "yhat_xgb = xgb_pipeline_final.predict(test_X)"
   ]
  },
  {
   "cell_type": "code",
   "execution_count": 50,
   "metadata": {},
   "outputs": [],
   "source": [
    "model_comparison_report = RegressionComparison(\n",
    "    y=test_y, yhats={\n",
    "        'Linear Regression': yhat_reg,\n",
    "        'XGBoost': yhat_xgb\n",
    "})\n",
    "metrics = model_comparison_report.get_report(file_path='regression_comparison')"
   ]
  },
  {
   "cell_type": "code",
   "execution_count": 51,
   "metadata": {},
   "outputs": [
    {
     "data": {
      "text/html": [
       "<div>\n",
       "<style scoped>\n",
       "    .dataframe tbody tr th:only-of-type {\n",
       "        vertical-align: middle;\n",
       "    }\n",
       "\n",
       "    .dataframe tbody tr th {\n",
       "        vertical-align: top;\n",
       "    }\n",
       "\n",
       "    .dataframe thead th {\n",
       "        text-align: right;\n",
       "    }\n",
       "</style>\n",
       "<table border=\"1\" class=\"dataframe\">\n",
       "  <thead>\n",
       "    <tr style=\"text-align: right;\">\n",
       "      <th>metric</th>\n",
       "      <th>MAPE</th>\n",
       "      <th>WMAPE</th>\n",
       "      <th>MAE</th>\n",
       "      <th>RMSE</th>\n",
       "      <th>R^2</th>\n",
       "    </tr>\n",
       "  </thead>\n",
       "  <tbody>\n",
       "    <tr>\n",
       "      <th>Linear Regression</th>\n",
       "      <td>0.2925</td>\n",
       "      <td>0.2472</td>\n",
       "      <td>51276.3642</td>\n",
       "      <td>97587.3808</td>\n",
       "      <td>0.2809</td>\n",
       "    </tr>\n",
       "    <tr>\n",
       "      <th>XGBoost</th>\n",
       "      <td>0.1782</td>\n",
       "      <td>0.1562</td>\n",
       "      <td>32400.7286</td>\n",
       "      <td>47983.8814</td>\n",
       "      <td>0.8262</td>\n",
       "    </tr>\n",
       "  </tbody>\n",
       "</table>\n",
       "</div>"
      ],
      "text/plain": [
       "metric               MAPE   WMAPE         MAE        RMSE     R^2\n",
       "Linear Regression  0.2925  0.2472  51276.3642  97587.3808  0.2809\n",
       "XGBoost            0.1782  0.1562  32400.7286  47983.8814  0.8262"
      ]
     },
     "execution_count": 51,
     "metadata": {},
     "output_type": "execute_result"
    }
   ],
   "source": [
    "model_comparison_report.performance_metrics"
   ]
  },
  {
   "cell_type": "markdown",
   "metadata": {},
   "source": [
    "A report comparing the performance, metrics between Linear model and Tree model are available [here](https://drive.google.com/file/d/1LDibiFap9K4DKME-Y0S0mtI_05lTdaJF/view?usp=sharing)"
   ]
  },
  {
   "cell_type": "markdown",
   "metadata": {},
   "source": [
    "**Dev NOTES**\n",
    "<details>\n",
    "\n",
    "the above metrics are absolute nos and not %ges"
   ]
  },
  {
   "cell_type": "markdown",
   "metadata": {},
   "source": [
    "In this example we are choosing LM model for pipelining. General criteria for choosing production models is:\n",
    "\n",
    "- Parametric models (aka whitebox models) such as Linear Regression are easier to explain to non-technical audience.\n",
    "- Generally these are accepted fast and adoption is quicker.\n",
    "- If the downstream calls for optimization using these models parametric models are easier to implement.\n",
    "- When accuracy is primary goal without explainability, the above two takes a backseat"
   ]
  },
  {
   "cell_type": "code",
   "execution_count": null,
   "metadata": {},
   "outputs": [],
   "source": []
  }
 ],
 "metadata": {
  "kernelspec": {
   "display_name": "Python 3 (ipykernel)",
   "language": "python",
   "name": "python3"
  },
  "language_info": {
   "codemirror_mode": {
    "name": "ipython",
    "version": 3
   },
   "file_extension": ".py",
   "mimetype": "text/x-python",
   "name": "python",
   "nbconvert_exporter": "python",
   "pygments_lexer": "ipython3",
   "version": "3.9.18"
  }
 },
 "nbformat": 4,
 "nbformat_minor": 4
}
